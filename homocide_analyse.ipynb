{
 "cells": [
  {
   "cell_type": "code",
   "execution_count": 119,
   "metadata": {},
   "outputs": [],
   "source": [
    "import numpy as np \n",
    "import pandas as pd \n",
    "import matplotlib.pyplot as plt \n",
    "import seaborn as sns \n",
    "import matplotlib.dates as mdates\n",
    "import plotly.express as px"
   ]
  },
  {
   "cell_type": "code",
   "execution_count": 120,
   "metadata": {},
   "outputs": [
    {
     "data": {
      "text/html": [
       "<div>\n",
       "<style scoped>\n",
       "    .dataframe tbody tr th:only-of-type {\n",
       "        vertical-align: middle;\n",
       "    }\n",
       "\n",
       "    .dataframe tbody tr th {\n",
       "        vertical-align: top;\n",
       "    }\n",
       "\n",
       "    .dataframe thead th {\n",
       "        text-align: right;\n",
       "    }\n",
       "</style>\n",
       "<table border=\"1\" class=\"dataframe\">\n",
       "  <thead>\n",
       "    <tr style=\"text-align: right;\">\n",
       "      <th></th>\n",
       "      <th>Entity</th>\n",
       "      <th>Code</th>\n",
       "      <th>Year</th>\n",
       "      <th>Deaths - Self-harm - Sex: Both - Age: 15-49 years (Number)</th>\n",
       "      <th>Deaths - Interpersonal violence - Sex: Both - Age: 15-49 years (Number)</th>\n",
       "      <th>Deaths - Drowning - Sex: Both - Age: 15-49 years (Number)</th>\n",
       "      <th>Deaths - Malaria - Sex: Both - Age: 15-49 years (Number)</th>\n",
       "      <th>Deaths - Fire, heat, and hot substances - Sex: Both - Age: 15-49 years (Number)</th>\n",
       "      <th>Deaths - Neoplasms - Sex: Both - Age: 15-49 years (Number)</th>\n",
       "      <th>Deaths - Digestive diseases - Sex: Both - Age: 15-49 years (Number)</th>\n",
       "      <th>...</th>\n",
       "      <th>Deaths - Protein-energy malnutrition - Sex: Both - Age: 15-49 years (Number)</th>\n",
       "      <th>Deaths - Exposure to forces of nature - Sex: Both - Age: 15-49 years (Number)</th>\n",
       "      <th>Deaths - Environmental heat and cold exposure - Sex: Both - Age: 15-49 years (Number)</th>\n",
       "      <th>Deaths - Diarrheal diseases - Sex: Both - Age: 15-49 years (Number)</th>\n",
       "      <th>Deaths - Road injuries - Sex: Both - Age: 15-49 years (Number)</th>\n",
       "      <th>Deaths - Tuberculosis - Sex: Both - Age: 15-49 years (Number)</th>\n",
       "      <th>Deaths - HIV/AIDS - Sex: Both - Age: 15-49 years (Number)</th>\n",
       "      <th>Deaths - Alzheimer's disease and other dementias - Sex: Both - Age: 15-49 years (Number)</th>\n",
       "      <th>Deaths - Parkinson's disease - Sex: Both - Age: 15-49 years (Number)</th>\n",
       "      <th>Deaths - Acute hepatitis - Sex: Both - Age: 15-49 years (Number)</th>\n",
       "    </tr>\n",
       "  </thead>\n",
       "  <tbody>\n",
       "    <tr>\n",
       "      <th>0</th>\n",
       "      <td>Afghanistan</td>\n",
       "      <td>AFG</td>\n",
       "      <td>1990</td>\n",
       "      <td>482</td>\n",
       "      <td>1126</td>\n",
       "      <td>234</td>\n",
       "      <td>46</td>\n",
       "      <td>86</td>\n",
       "      <td>2078</td>\n",
       "      <td>731</td>\n",
       "      <td>...</td>\n",
       "      <td>131</td>\n",
       "      <td>0</td>\n",
       "      <td>73</td>\n",
       "      <td>42</td>\n",
       "      <td>2033</td>\n",
       "      <td>1208</td>\n",
       "      <td>15</td>\n",
       "      <td>5</td>\n",
       "      <td>10</td>\n",
       "      <td>553</td>\n",
       "    </tr>\n",
       "    <tr>\n",
       "      <th>1</th>\n",
       "      <td>Afghanistan</td>\n",
       "      <td>AFG</td>\n",
       "      <td>1991</td>\n",
       "      <td>535</td>\n",
       "      <td>1510</td>\n",
       "      <td>262</td>\n",
       "      <td>94</td>\n",
       "      <td>94</td>\n",
       "      <td>2183</td>\n",
       "      <td>773</td>\n",
       "      <td>...</td>\n",
       "      <td>143</td>\n",
       "      <td>543</td>\n",
       "      <td>52</td>\n",
       "      <td>46</td>\n",
       "      <td>2317</td>\n",
       "      <td>1289</td>\n",
       "      <td>19</td>\n",
       "      <td>5</td>\n",
       "      <td>10</td>\n",
       "      <td>595</td>\n",
       "    </tr>\n",
       "    <tr>\n",
       "      <th>2</th>\n",
       "      <td>Afghanistan</td>\n",
       "      <td>AFG</td>\n",
       "      <td>1992</td>\n",
       "      <td>634</td>\n",
       "      <td>1782</td>\n",
       "      <td>311</td>\n",
       "      <td>125</td>\n",
       "      <td>109</td>\n",
       "      <td>2386</td>\n",
       "      <td>853</td>\n",
       "      <td>...</td>\n",
       "      <td>165</td>\n",
       "      <td>266</td>\n",
       "      <td>27</td>\n",
       "      <td>54</td>\n",
       "      <td>2814</td>\n",
       "      <td>1446</td>\n",
       "      <td>24</td>\n",
       "      <td>5</td>\n",
       "      <td>10</td>\n",
       "      <td>671</td>\n",
       "    </tr>\n",
       "    <tr>\n",
       "      <th>3</th>\n",
       "      <td>Afghanistan</td>\n",
       "      <td>AFG</td>\n",
       "      <td>1993</td>\n",
       "      <td>716</td>\n",
       "      <td>2038</td>\n",
       "      <td>350</td>\n",
       "      <td>58</td>\n",
       "      <td>121</td>\n",
       "      <td>2544</td>\n",
       "      <td>917</td>\n",
       "      <td>...</td>\n",
       "      <td>184</td>\n",
       "      <td>103</td>\n",
       "      <td>31</td>\n",
       "      <td>77</td>\n",
       "      <td>3204</td>\n",
       "      <td>1575</td>\n",
       "      <td>28</td>\n",
       "      <td>5</td>\n",
       "      <td>10</td>\n",
       "      <td>737</td>\n",
       "    </tr>\n",
       "    <tr>\n",
       "      <th>4</th>\n",
       "      <td>Afghanistan</td>\n",
       "      <td>AFG</td>\n",
       "      <td>1994</td>\n",
       "      <td>759</td>\n",
       "      <td>2260</td>\n",
       "      <td>365</td>\n",
       "      <td>110</td>\n",
       "      <td>126</td>\n",
       "      <td>2615</td>\n",
       "      <td>948</td>\n",
       "      <td>...</td>\n",
       "      <td>194</td>\n",
       "      <td>73</td>\n",
       "      <td>33</td>\n",
       "      <td>64</td>\n",
       "      <td>3385</td>\n",
       "      <td>1653</td>\n",
       "      <td>32</td>\n",
       "      <td>5</td>\n",
       "      <td>11</td>\n",
       "      <td>776</td>\n",
       "    </tr>\n",
       "    <tr>\n",
       "      <th>...</th>\n",
       "      <td>...</td>\n",
       "      <td>...</td>\n",
       "      <td>...</td>\n",
       "      <td>...</td>\n",
       "      <td>...</td>\n",
       "      <td>...</td>\n",
       "      <td>...</td>\n",
       "      <td>...</td>\n",
       "      <td>...</td>\n",
       "      <td>...</td>\n",
       "      <td>...</td>\n",
       "      <td>...</td>\n",
       "      <td>...</td>\n",
       "      <td>...</td>\n",
       "      <td>...</td>\n",
       "      <td>...</td>\n",
       "      <td>...</td>\n",
       "      <td>...</td>\n",
       "      <td>...</td>\n",
       "      <td>...</td>\n",
       "      <td>...</td>\n",
       "    </tr>\n",
       "    <tr>\n",
       "      <th>6835</th>\n",
       "      <td>Zimbabwe</td>\n",
       "      <td>ZWE</td>\n",
       "      <td>2015</td>\n",
       "      <td>1460</td>\n",
       "      <td>1138</td>\n",
       "      <td>318</td>\n",
       "      <td>329</td>\n",
       "      <td>221</td>\n",
       "      <td>2362</td>\n",
       "      <td>1290</td>\n",
       "      <td>...</td>\n",
       "      <td>239</td>\n",
       "      <td>8</td>\n",
       "      <td>16</td>\n",
       "      <td>1293</td>\n",
       "      <td>1376</td>\n",
       "      <td>5018</td>\n",
       "      <td>19306</td>\n",
       "      <td>5</td>\n",
       "      <td>4</td>\n",
       "      <td>53</td>\n",
       "    </tr>\n",
       "    <tr>\n",
       "      <th>6836</th>\n",
       "      <td>Zimbabwe</td>\n",
       "      <td>ZWE</td>\n",
       "      <td>2016</td>\n",
       "      <td>1510</td>\n",
       "      <td>1174</td>\n",
       "      <td>324</td>\n",
       "      <td>250</td>\n",
       "      <td>225</td>\n",
       "      <td>2462</td>\n",
       "      <td>1325</td>\n",
       "      <td>...</td>\n",
       "      <td>239</td>\n",
       "      <td>16</td>\n",
       "      <td>16</td>\n",
       "      <td>1296</td>\n",
       "      <td>1411</td>\n",
       "      <td>4915</td>\n",
       "      <td>17630</td>\n",
       "      <td>5</td>\n",
       "      <td>4</td>\n",
       "      <td>53</td>\n",
       "    </tr>\n",
       "    <tr>\n",
       "      <th>6837</th>\n",
       "      <td>Zimbabwe</td>\n",
       "      <td>ZWE</td>\n",
       "      <td>2017</td>\n",
       "      <td>1543</td>\n",
       "      <td>1193</td>\n",
       "      <td>329</td>\n",
       "      <td>261</td>\n",
       "      <td>228</td>\n",
       "      <td>2549</td>\n",
       "      <td>1360</td>\n",
       "      <td>...</td>\n",
       "      <td>237</td>\n",
       "      <td>126</td>\n",
       "      <td>16</td>\n",
       "      <td>1306</td>\n",
       "      <td>1432</td>\n",
       "      <td>4808</td>\n",
       "      <td>15686</td>\n",
       "      <td>5</td>\n",
       "      <td>4</td>\n",
       "      <td>53</td>\n",
       "    </tr>\n",
       "    <tr>\n",
       "      <th>6838</th>\n",
       "      <td>Zimbabwe</td>\n",
       "      <td>ZWE</td>\n",
       "      <td>2018</td>\n",
       "      <td>1573</td>\n",
       "      <td>1224</td>\n",
       "      <td>333</td>\n",
       "      <td>261</td>\n",
       "      <td>231</td>\n",
       "      <td>2636</td>\n",
       "      <td>1381</td>\n",
       "      <td>...</td>\n",
       "      <td>238</td>\n",
       "      <td>0</td>\n",
       "      <td>16</td>\n",
       "      <td>1288</td>\n",
       "      <td>1456</td>\n",
       "      <td>4716</td>\n",
       "      <td>13698</td>\n",
       "      <td>6</td>\n",
       "      <td>4</td>\n",
       "      <td>51</td>\n",
       "    </tr>\n",
       "    <tr>\n",
       "      <th>6839</th>\n",
       "      <td>Zimbabwe</td>\n",
       "      <td>ZWE</td>\n",
       "      <td>2019</td>\n",
       "      <td>1606</td>\n",
       "      <td>1259</td>\n",
       "      <td>340</td>\n",
       "      <td>266</td>\n",
       "      <td>236</td>\n",
       "      <td>2725</td>\n",
       "      <td>1410</td>\n",
       "      <td>...</td>\n",
       "      <td>241</td>\n",
       "      <td>331</td>\n",
       "      <td>16</td>\n",
       "      <td>1285</td>\n",
       "      <td>1490</td>\n",
       "      <td>4697</td>\n",
       "      <td>12653</td>\n",
       "      <td>6</td>\n",
       "      <td>5</td>\n",
       "      <td>51</td>\n",
       "    </tr>\n",
       "  </tbody>\n",
       "</table>\n",
       "<p>6840 rows × 29 columns</p>\n",
       "</div>"
      ],
      "text/plain": [
       "           Entity Code  Year  \\\n",
       "0     Afghanistan  AFG  1990   \n",
       "1     Afghanistan  AFG  1991   \n",
       "2     Afghanistan  AFG  1992   \n",
       "3     Afghanistan  AFG  1993   \n",
       "4     Afghanistan  AFG  1994   \n",
       "...           ...  ...   ...   \n",
       "6835     Zimbabwe  ZWE  2015   \n",
       "6836     Zimbabwe  ZWE  2016   \n",
       "6837     Zimbabwe  ZWE  2017   \n",
       "6838     Zimbabwe  ZWE  2018   \n",
       "6839     Zimbabwe  ZWE  2019   \n",
       "\n",
       "      Deaths - Self-harm - Sex: Both - Age: 15-49 years (Number)  \\\n",
       "0                                                   482            \n",
       "1                                                   535            \n",
       "2                                                   634            \n",
       "3                                                   716            \n",
       "4                                                   759            \n",
       "...                                                 ...            \n",
       "6835                                               1460            \n",
       "6836                                               1510            \n",
       "6837                                               1543            \n",
       "6838                                               1573            \n",
       "6839                                               1606            \n",
       "\n",
       "      Deaths - Interpersonal violence - Sex: Both - Age: 15-49 years (Number)  \\\n",
       "0                                                  1126                         \n",
       "1                                                  1510                         \n",
       "2                                                  1782                         \n",
       "3                                                  2038                         \n",
       "4                                                  2260                         \n",
       "...                                                 ...                         \n",
       "6835                                               1138                         \n",
       "6836                                               1174                         \n",
       "6837                                               1193                         \n",
       "6838                                               1224                         \n",
       "6839                                               1259                         \n",
       "\n",
       "      Deaths - Drowning - Sex: Both - Age: 15-49 years (Number)  \\\n",
       "0                                                   234           \n",
       "1                                                   262           \n",
       "2                                                   311           \n",
       "3                                                   350           \n",
       "4                                                   365           \n",
       "...                                                 ...           \n",
       "6835                                                318           \n",
       "6836                                                324           \n",
       "6837                                                329           \n",
       "6838                                                333           \n",
       "6839                                                340           \n",
       "\n",
       "      Deaths - Malaria - Sex: Both - Age: 15-49 years (Number)  \\\n",
       "0                                                    46          \n",
       "1                                                    94          \n",
       "2                                                   125          \n",
       "3                                                    58          \n",
       "4                                                   110          \n",
       "...                                                 ...          \n",
       "6835                                                329          \n",
       "6836                                                250          \n",
       "6837                                                261          \n",
       "6838                                                261          \n",
       "6839                                                266          \n",
       "\n",
       "      Deaths - Fire, heat, and hot substances - Sex: Both - Age: 15-49 years (Number)  \\\n",
       "0                                                    86                                 \n",
       "1                                                    94                                 \n",
       "2                                                   109                                 \n",
       "3                                                   121                                 \n",
       "4                                                   126                                 \n",
       "...                                                 ...                                 \n",
       "6835                                                221                                 \n",
       "6836                                                225                                 \n",
       "6837                                                228                                 \n",
       "6838                                                231                                 \n",
       "6839                                                236                                 \n",
       "\n",
       "      Deaths - Neoplasms - Sex: Both - Age: 15-49 years (Number)  \\\n",
       "0                                                  2078            \n",
       "1                                                  2183            \n",
       "2                                                  2386            \n",
       "3                                                  2544            \n",
       "4                                                  2615            \n",
       "...                                                 ...            \n",
       "6835                                               2362            \n",
       "6836                                               2462            \n",
       "6837                                               2549            \n",
       "6838                                               2636            \n",
       "6839                                               2725            \n",
       "\n",
       "      Deaths - Digestive diseases - Sex: Both - Age: 15-49 years (Number)  \\\n",
       "0                                                   731                     \n",
       "1                                                   773                     \n",
       "2                                                   853                     \n",
       "3                                                   917                     \n",
       "4                                                   948                     \n",
       "...                                                 ...                     \n",
       "6835                                               1290                     \n",
       "6836                                               1325                     \n",
       "6837                                               1360                     \n",
       "6838                                               1381                     \n",
       "6839                                               1410                     \n",
       "\n",
       "      ...  \\\n",
       "0     ...   \n",
       "1     ...   \n",
       "2     ...   \n",
       "3     ...   \n",
       "4     ...   \n",
       "...   ...   \n",
       "6835  ...   \n",
       "6836  ...   \n",
       "6837  ...   \n",
       "6838  ...   \n",
       "6839  ...   \n",
       "\n",
       "      Deaths - Protein-energy malnutrition - Sex: Both - Age: 15-49 years (Number)  \\\n",
       "0                                                   131                              \n",
       "1                                                   143                              \n",
       "2                                                   165                              \n",
       "3                                                   184                              \n",
       "4                                                   194                              \n",
       "...                                                 ...                              \n",
       "6835                                                239                              \n",
       "6836                                                239                              \n",
       "6837                                                237                              \n",
       "6838                                                238                              \n",
       "6839                                                241                              \n",
       "\n",
       "      Deaths - Exposure to forces of nature - Sex: Both - Age: 15-49 years (Number)  \\\n",
       "0                                                     0                               \n",
       "1                                                   543                               \n",
       "2                                                   266                               \n",
       "3                                                   103                               \n",
       "4                                                    73                               \n",
       "...                                                 ...                               \n",
       "6835                                                  8                               \n",
       "6836                                                 16                               \n",
       "6837                                                126                               \n",
       "6838                                                  0                               \n",
       "6839                                                331                               \n",
       "\n",
       "      Deaths - Environmental heat and cold exposure - Sex: Both - Age: 15-49 years (Number)  \\\n",
       "0                                                    73                                       \n",
       "1                                                    52                                       \n",
       "2                                                    27                                       \n",
       "3                                                    31                                       \n",
       "4                                                    33                                       \n",
       "...                                                 ...                                       \n",
       "6835                                                 16                                       \n",
       "6836                                                 16                                       \n",
       "6837                                                 16                                       \n",
       "6838                                                 16                                       \n",
       "6839                                                 16                                       \n",
       "\n",
       "      Deaths - Diarrheal diseases - Sex: Both - Age: 15-49 years (Number)  \\\n",
       "0                                                    42                     \n",
       "1                                                    46                     \n",
       "2                                                    54                     \n",
       "3                                                    77                     \n",
       "4                                                    64                     \n",
       "...                                                 ...                     \n",
       "6835                                               1293                     \n",
       "6836                                               1296                     \n",
       "6837                                               1306                     \n",
       "6838                                               1288                     \n",
       "6839                                               1285                     \n",
       "\n",
       "      Deaths - Road injuries - Sex: Both - Age: 15-49 years (Number)  \\\n",
       "0                                                  2033                \n",
       "1                                                  2317                \n",
       "2                                                  2814                \n",
       "3                                                  3204                \n",
       "4                                                  3385                \n",
       "...                                                 ...                \n",
       "6835                                               1376                \n",
       "6836                                               1411                \n",
       "6837                                               1432                \n",
       "6838                                               1456                \n",
       "6839                                               1490                \n",
       "\n",
       "      Deaths - Tuberculosis - Sex: Both - Age: 15-49 years (Number)  \\\n",
       "0                                                  1208               \n",
       "1                                                  1289               \n",
       "2                                                  1446               \n",
       "3                                                  1575               \n",
       "4                                                  1653               \n",
       "...                                                 ...               \n",
       "6835                                               5018               \n",
       "6836                                               4915               \n",
       "6837                                               4808               \n",
       "6838                                               4716               \n",
       "6839                                               4697               \n",
       "\n",
       "      Deaths - HIV/AIDS - Sex: Both - Age: 15-49 years (Number)  \\\n",
       "0                                                    15           \n",
       "1                                                    19           \n",
       "2                                                    24           \n",
       "3                                                    28           \n",
       "4                                                    32           \n",
       "...                                                 ...           \n",
       "6835                                              19306           \n",
       "6836                                              17630           \n",
       "6837                                              15686           \n",
       "6838                                              13698           \n",
       "6839                                              12653           \n",
       "\n",
       "      Deaths - Alzheimer's disease and other dementias - Sex: Both - Age: 15-49 years (Number)  \\\n",
       "0                                                     5                                          \n",
       "1                                                     5                                          \n",
       "2                                                     5                                          \n",
       "3                                                     5                                          \n",
       "4                                                     5                                          \n",
       "...                                                 ...                                          \n",
       "6835                                                  5                                          \n",
       "6836                                                  5                                          \n",
       "6837                                                  5                                          \n",
       "6838                                                  6                                          \n",
       "6839                                                  6                                          \n",
       "\n",
       "      Deaths - Parkinson's disease - Sex: Both - Age: 15-49 years (Number)  \\\n",
       "0                                                    10                      \n",
       "1                                                    10                      \n",
       "2                                                    10                      \n",
       "3                                                    10                      \n",
       "4                                                    11                      \n",
       "...                                                 ...                      \n",
       "6835                                                  4                      \n",
       "6836                                                  4                      \n",
       "6837                                                  4                      \n",
       "6838                                                  4                      \n",
       "6839                                                  5                      \n",
       "\n",
       "      Deaths - Acute hepatitis - Sex: Both - Age: 15-49 years (Number)  \n",
       "0                                                   553                 \n",
       "1                                                   595                 \n",
       "2                                                   671                 \n",
       "3                                                   737                 \n",
       "4                                                   776                 \n",
       "...                                                 ...                 \n",
       "6835                                                 53                 \n",
       "6836                                                 53                 \n",
       "6837                                                 53                 \n",
       "6838                                                 51                 \n",
       "6839                                                 51                 \n",
       "\n",
       "[6840 rows x 29 columns]"
      ]
     },
     "execution_count": 120,
     "metadata": {},
     "output_type": "execute_result"
    }
   ],
   "source": [
    "causes = pd.read_csv(r'./archive(1)/7- causes-of-death-in-15-49-year-olds.csv')\n",
    "causes"
   ]
  },
  {
   "cell_type": "code",
   "execution_count": 121,
   "metadata": {},
   "outputs": [
    {
     "data": {
      "text/plain": [
       "Entity                                                                                         object\n",
       "Code                                                                                           object\n",
       "Year                                                                                            int64\n",
       "Deaths - Self-harm - Sex: Both - Age: 15-49 years (Number)                                      int64\n",
       "Deaths - Interpersonal violence - Sex: Both - Age: 15-49 years (Number)                         int64\n",
       "Deaths - Drowning - Sex: Both - Age: 15-49 years (Number)                                       int64\n",
       "Deaths - Malaria - Sex: Both - Age: 15-49 years (Number)                                        int64\n",
       "Deaths - Fire, heat, and hot substances - Sex: Both - Age: 15-49 years (Number)                 int64\n",
       "Deaths - Neoplasms - Sex: Both - Age: 15-49 years (Number)                                      int64\n",
       "Deaths - Digestive diseases - Sex: Both - Age: 15-49 years (Number)                             int64\n",
       "Deaths - Cirrhosis and other chronic liver diseases - Sex: Both - Age: 15-49 years (Number)     int64\n",
       "Deaths - Chronic respiratory diseases - Sex: Both - Age: 15-49 years (Number)                   int64\n",
       "Deaths - Chronic kidney disease - Sex: Both - Age: 15-49 years (Number)                         int64\n",
       "Deaths - Cardiovascular diseases - Sex: Both - Age: 15-49 years (Number)                        int64\n",
       "Deaths - Drug use disorders - Sex: Both - Age: 15-49 years (Number)                             int64\n",
       "Deaths - Nutritional deficiencies - Sex: Both - Age: 15-49 years (Number)                       int64\n",
       "Deaths - Alcohol use disorders - Sex: Both - Age: 15-49 years (Number)                          int64\n",
       "Deaths - Lower respiratory infections - Sex: Both - Age: 15-49 years (Number)                   int64\n",
       "Deaths - Diabetes mellitus - Sex: Both - Age: 15-49 years (Number)                              int64\n",
       "Deaths - Protein-energy malnutrition - Sex: Both - Age: 15-49 years (Number)                    int64\n",
       "Deaths - Exposure to forces of nature - Sex: Both - Age: 15-49 years (Number)                   int64\n",
       "Deaths - Environmental heat and cold exposure - Sex: Both - Age: 15-49 years (Number)           int64\n",
       "Deaths - Diarrheal diseases - Sex: Both - Age: 15-49 years (Number)                             int64\n",
       "Deaths - Road injuries - Sex: Both - Age: 15-49 years (Number)                                  int64\n",
       "Deaths - Tuberculosis - Sex: Both - Age: 15-49 years (Number)                                   int64\n",
       "Deaths - HIV/AIDS - Sex: Both - Age: 15-49 years (Number)                                       int64\n",
       "Deaths - Alzheimer's disease and other dementias - Sex: Both - Age: 15-49 years (Number)        int64\n",
       "Deaths - Parkinson's disease - Sex: Both - Age: 15-49 years (Number)                            int64\n",
       "Deaths - Acute hepatitis - Sex: Both - Age: 15-49 years (Number)                                int64\n",
       "dtype: object"
      ]
     },
     "execution_count": 121,
     "metadata": {},
     "output_type": "execute_result"
    }
   ],
   "source": [
    "causes.dtypes"
   ]
  },
  {
   "cell_type": "markdown",
   "metadata": {},
   "source": [
    "\"\"\"\"causes['Year'] = pd.to_datetime(causes['Year'])\n",
    "causes['Year']\"\"\"\""
   ]
  },
  {
   "cell_type": "code",
   "execution_count": 122,
   "metadata": {},
   "outputs": [
    {
     "data": {
      "text/plain": [
       "(4560, 29)"
      ]
     },
     "execution_count": 122,
     "metadata": {},
     "output_type": "execute_result"
    }
   ],
   "source": [
    "causes = causes[causes['Year'] >= 2000]\n",
    "causes.shape"
   ]
  },
  {
   "cell_type": "code",
   "execution_count": 123,
   "metadata": {},
   "outputs": [
    {
     "data": {
      "text/plain": [
       "206"
      ]
     },
     "execution_count": 123,
     "metadata": {},
     "output_type": "execute_result"
    }
   ],
   "source": [
    "len(causes['Code'].unique())"
   ]
  },
  {
   "cell_type": "code",
   "execution_count": 124,
   "metadata": {},
   "outputs": [
    {
     "data": {
      "text/html": [
       "<div>\n",
       "<style scoped>\n",
       "    .dataframe tbody tr th:only-of-type {\n",
       "        vertical-align: middle;\n",
       "    }\n",
       "\n",
       "    .dataframe tbody tr th {\n",
       "        vertical-align: top;\n",
       "    }\n",
       "\n",
       "    .dataframe thead th {\n",
       "        text-align: right;\n",
       "    }\n",
       "</style>\n",
       "<table border=\"1\" class=\"dataframe\">\n",
       "  <thead>\n",
       "    <tr style=\"text-align: right;\">\n",
       "      <th></th>\n",
       "      <th>Deaths - Self-harm - Sex: Both - Age: 15-49 years (Number)</th>\n",
       "      <th>Deaths - Interpersonal violence - Sex: Both - Age: 15-49 years (Number)</th>\n",
       "      <th>Deaths - Drowning - Sex: Both - Age: 15-49 years (Number)</th>\n",
       "      <th>Deaths - Malaria - Sex: Both - Age: 15-49 years (Number)</th>\n",
       "      <th>Deaths - Fire, heat, and hot substances - Sex: Both - Age: 15-49 years (Number)</th>\n",
       "      <th>Deaths - Neoplasms - Sex: Both - Age: 15-49 years (Number)</th>\n",
       "      <th>Deaths - Digestive diseases - Sex: Both - Age: 15-49 years (Number)</th>\n",
       "      <th>Deaths - Cirrhosis and other chronic liver diseases - Sex: Both - Age: 15-49 years (Number)</th>\n",
       "      <th>Deaths - Chronic respiratory diseases - Sex: Both - Age: 15-49 years (Number)</th>\n",
       "      <th>Deaths - Chronic kidney disease - Sex: Both - Age: 15-49 years (Number)</th>\n",
       "      <th>...</th>\n",
       "      <th>Deaths - Protein-energy malnutrition - Sex: Both - Age: 15-49 years (Number)</th>\n",
       "      <th>Deaths - Exposure to forces of nature - Sex: Both - Age: 15-49 years (Number)</th>\n",
       "      <th>Deaths - Environmental heat and cold exposure - Sex: Both - Age: 15-49 years (Number)</th>\n",
       "      <th>Deaths - Diarrheal diseases - Sex: Both - Age: 15-49 years (Number)</th>\n",
       "      <th>Deaths - Road injuries - Sex: Both - Age: 15-49 years (Number)</th>\n",
       "      <th>Deaths - Tuberculosis - Sex: Both - Age: 15-49 years (Number)</th>\n",
       "      <th>Deaths - HIV/AIDS - Sex: Both - Age: 15-49 years (Number)</th>\n",
       "      <th>Deaths - Alzheimer's disease and other dementias - Sex: Both - Age: 15-49 years (Number)</th>\n",
       "      <th>Deaths - Parkinson's disease - Sex: Both - Age: 15-49 years (Number)</th>\n",
       "      <th>Deaths - Acute hepatitis - Sex: Both - Age: 15-49 years (Number)</th>\n",
       "    </tr>\n",
       "    <tr>\n",
       "      <th>Year</th>\n",
       "      <th></th>\n",
       "      <th></th>\n",
       "      <th></th>\n",
       "      <th></th>\n",
       "      <th></th>\n",
       "      <th></th>\n",
       "      <th></th>\n",
       "      <th></th>\n",
       "      <th></th>\n",
       "      <th></th>\n",
       "      <th></th>\n",
       "      <th></th>\n",
       "      <th></th>\n",
       "      <th></th>\n",
       "      <th></th>\n",
       "      <th></th>\n",
       "      <th></th>\n",
       "      <th></th>\n",
       "      <th></th>\n",
       "      <th></th>\n",
       "      <th></th>\n",
       "    </tr>\n",
       "  </thead>\n",
       "  <tbody>\n",
       "    <tr>\n",
       "      <th>2000</th>\n",
       "      <td>3285819</td>\n",
       "      <td>1945587</td>\n",
       "      <td>720695</td>\n",
       "      <td>565499</td>\n",
       "      <td>281273</td>\n",
       "      <td>6132367</td>\n",
       "      <td>3031997</td>\n",
       "      <td>2080030</td>\n",
       "      <td>989130</td>\n",
       "      <td>841628</td>\n",
       "      <td>...</td>\n",
       "      <td>171968</td>\n",
       "      <td>24903</td>\n",
       "      <td>152985</td>\n",
       "      <td>1086862</td>\n",
       "      <td>4162968</td>\n",
       "      <td>3319776</td>\n",
       "      <td>5741129</td>\n",
       "      <td>17452</td>\n",
       "      <td>11668</td>\n",
       "      <td>260950</td>\n",
       "    </tr>\n",
       "    <tr>\n",
       "      <th>2001</th>\n",
       "      <td>3185529</td>\n",
       "      <td>1948837</td>\n",
       "      <td>709725</td>\n",
       "      <td>570461</td>\n",
       "      <td>281125</td>\n",
       "      <td>6112694</td>\n",
       "      <td>3047784</td>\n",
       "      <td>2107351</td>\n",
       "      <td>974741</td>\n",
       "      <td>848035</td>\n",
       "      <td>...</td>\n",
       "      <td>167976</td>\n",
       "      <td>86198</td>\n",
       "      <td>154479</td>\n",
       "      <td>1060135</td>\n",
       "      <td>4201757</td>\n",
       "      <td>3246538</td>\n",
       "      <td>6163738</td>\n",
       "      <td>17833</td>\n",
       "      <td>11696</td>\n",
       "      <td>251708</td>\n",
       "    </tr>\n",
       "    <tr>\n",
       "      <th>2002</th>\n",
       "      <td>3102946</td>\n",
       "      <td>1994423</td>\n",
       "      <td>699325</td>\n",
       "      <td>607201</td>\n",
       "      <td>278631</td>\n",
       "      <td>6049512</td>\n",
       "      <td>3063247</td>\n",
       "      <td>2137776</td>\n",
       "      <td>959795</td>\n",
       "      <td>852831</td>\n",
       "      <td>...</td>\n",
       "      <td>163122</td>\n",
       "      <td>24511</td>\n",
       "      <td>161997</td>\n",
       "      <td>1026968</td>\n",
       "      <td>4239917</td>\n",
       "      <td>3174667</td>\n",
       "      <td>6523551</td>\n",
       "      <td>18188</td>\n",
       "      <td>11695</td>\n",
       "      <td>241055</td>\n",
       "    </tr>\n",
       "    <tr>\n",
       "      <th>2003</th>\n",
       "      <td>3050035</td>\n",
       "      <td>1929333</td>\n",
       "      <td>684262</td>\n",
       "      <td>626770</td>\n",
       "      <td>278728</td>\n",
       "      <td>5981826</td>\n",
       "      <td>3072866</td>\n",
       "      <td>2164136</td>\n",
       "      <td>938918</td>\n",
       "      <td>854929</td>\n",
       "      <td>...</td>\n",
       "      <td>105848</td>\n",
       "      <td>99385</td>\n",
       "      <td>161763</td>\n",
       "      <td>1000199</td>\n",
       "      <td>4267101</td>\n",
       "      <td>3092244</td>\n",
       "      <td>6792834</td>\n",
       "      <td>18354</td>\n",
       "      <td>11596</td>\n",
       "      <td>229997</td>\n",
       "    </tr>\n",
       "    <tr>\n",
       "      <th>2004</th>\n",
       "      <td>3038210</td>\n",
       "      <td>1902236</td>\n",
       "      <td>675432</td>\n",
       "      <td>628515</td>\n",
       "      <td>273554</td>\n",
       "      <td>5967031</td>\n",
       "      <td>3085480</td>\n",
       "      <td>2188222</td>\n",
       "      <td>924733</td>\n",
       "      <td>863140</td>\n",
       "      <td>...</td>\n",
       "      <td>101404</td>\n",
       "      <td>746942</td>\n",
       "      <td>153022</td>\n",
       "      <td>970600</td>\n",
       "      <td>4302507</td>\n",
       "      <td>3020175</td>\n",
       "      <td>6952485</td>\n",
       "      <td>18490</td>\n",
       "      <td>11617</td>\n",
       "      <td>223915</td>\n",
       "    </tr>\n",
       "    <tr>\n",
       "      <th>2005</th>\n",
       "      <td>3045704</td>\n",
       "      <td>1876734</td>\n",
       "      <td>670223</td>\n",
       "      <td>620365</td>\n",
       "      <td>274360</td>\n",
       "      <td>5968570</td>\n",
       "      <td>3122254</td>\n",
       "      <td>2228041</td>\n",
       "      <td>916092</td>\n",
       "      <td>874728</td>\n",
       "      <td>...</td>\n",
       "      <td>97287</td>\n",
       "      <td>223071</td>\n",
       "      <td>154915</td>\n",
       "      <td>948983</td>\n",
       "      <td>4322806</td>\n",
       "      <td>2972552</td>\n",
       "      <td>6936100</td>\n",
       "      <td>18680</td>\n",
       "      <td>11708</td>\n",
       "      <td>221367</td>\n",
       "    </tr>\n",
       "    <tr>\n",
       "      <th>2006</th>\n",
       "      <td>2992629</td>\n",
       "      <td>1840541</td>\n",
       "      <td>646396</td>\n",
       "      <td>646657</td>\n",
       "      <td>265272</td>\n",
       "      <td>5926726</td>\n",
       "      <td>3105200</td>\n",
       "      <td>2222603</td>\n",
       "      <td>900727</td>\n",
       "      <td>876924</td>\n",
       "      <td>...</td>\n",
       "      <td>93704</td>\n",
       "      <td>52722</td>\n",
       "      <td>140664</td>\n",
       "      <td>936236</td>\n",
       "      <td>4306215</td>\n",
       "      <td>2897879</td>\n",
       "      <td>6724814</td>\n",
       "      <td>18904</td>\n",
       "      <td>11749</td>\n",
       "      <td>216677</td>\n",
       "    </tr>\n",
       "    <tr>\n",
       "      <th>2007</th>\n",
       "      <td>2936141</td>\n",
       "      <td>1806139</td>\n",
       "      <td>632701</td>\n",
       "      <td>642534</td>\n",
       "      <td>259093</td>\n",
       "      <td>5939030</td>\n",
       "      <td>3101322</td>\n",
       "      <td>2228419</td>\n",
       "      <td>891649</td>\n",
       "      <td>883389</td>\n",
       "      <td>...</td>\n",
       "      <td>89883</td>\n",
       "      <td>43733</td>\n",
       "      <td>126261</td>\n",
       "      <td>925475</td>\n",
       "      <td>4319158</td>\n",
       "      <td>2833390</td>\n",
       "      <td>6369479</td>\n",
       "      <td>19291</td>\n",
       "      <td>11957</td>\n",
       "      <td>210477</td>\n",
       "    </tr>\n",
       "    <tr>\n",
       "      <th>2008</th>\n",
       "      <td>2910958</td>\n",
       "      <td>1818434</td>\n",
       "      <td>621862</td>\n",
       "      <td>664401</td>\n",
       "      <td>254818</td>\n",
       "      <td>6015299</td>\n",
       "      <td>3115847</td>\n",
       "      <td>2245600</td>\n",
       "      <td>891975</td>\n",
       "      <td>895990</td>\n",
       "      <td>...</td>\n",
       "      <td>87287</td>\n",
       "      <td>663041</td>\n",
       "      <td>117931</td>\n",
       "      <td>918326</td>\n",
       "      <td>4354862</td>\n",
       "      <td>2786934</td>\n",
       "      <td>5955451</td>\n",
       "      <td>19873</td>\n",
       "      <td>12346</td>\n",
       "      <td>205713</td>\n",
       "    </tr>\n",
       "    <tr>\n",
       "      <th>2009</th>\n",
       "      <td>2858278</td>\n",
       "      <td>1816492</td>\n",
       "      <td>602629</td>\n",
       "      <td>652149</td>\n",
       "      <td>248095</td>\n",
       "      <td>6063971</td>\n",
       "      <td>3067585</td>\n",
       "      <td>2212481</td>\n",
       "      <td>880946</td>\n",
       "      <td>899799</td>\n",
       "      <td>...</td>\n",
       "      <td>84592</td>\n",
       "      <td>30569</td>\n",
       "      <td>107318</td>\n",
       "      <td>897267</td>\n",
       "      <td>4331861</td>\n",
       "      <td>2692065</td>\n",
       "      <td>5549470</td>\n",
       "      <td>20597</td>\n",
       "      <td>12700</td>\n",
       "      <td>198971</td>\n",
       "    </tr>\n",
       "    <tr>\n",
       "      <th>2010</th>\n",
       "      <td>2845378</td>\n",
       "      <td>1793923</td>\n",
       "      <td>594829</td>\n",
       "      <td>671929</td>\n",
       "      <td>246248</td>\n",
       "      <td>6109706</td>\n",
       "      <td>3053989</td>\n",
       "      <td>2203553</td>\n",
       "      <td>874999</td>\n",
       "      <td>904722</td>\n",
       "      <td>...</td>\n",
       "      <td>83980</td>\n",
       "      <td>632614</td>\n",
       "      <td>112451</td>\n",
       "      <td>899158</td>\n",
       "      <td>4300455</td>\n",
       "      <td>2597764</td>\n",
       "      <td>5207854</td>\n",
       "      <td>21266</td>\n",
       "      <td>13035</td>\n",
       "      <td>195575</td>\n",
       "    </tr>\n",
       "    <tr>\n",
       "      <th>2011</th>\n",
       "      <td>2806984</td>\n",
       "      <td>1776095</td>\n",
       "      <td>571329</td>\n",
       "      <td>647704</td>\n",
       "      <td>239885</td>\n",
       "      <td>6093308</td>\n",
       "      <td>3026260</td>\n",
       "      <td>2185036</td>\n",
       "      <td>864451</td>\n",
       "      <td>907726</td>\n",
       "      <td>...</td>\n",
       "      <td>81766</td>\n",
       "      <td>45133</td>\n",
       "      <td>94439</td>\n",
       "      <td>895990</td>\n",
       "      <td>4214584</td>\n",
       "      <td>2503353</td>\n",
       "      <td>4891462</td>\n",
       "      <td>21778</td>\n",
       "      <td>13216</td>\n",
       "      <td>192373</td>\n",
       "    </tr>\n",
       "    <tr>\n",
       "      <th>2012</th>\n",
       "      <td>2749080</td>\n",
       "      <td>1789606</td>\n",
       "      <td>554857</td>\n",
       "      <td>580052</td>\n",
       "      <td>231150</td>\n",
       "      <td>6052126</td>\n",
       "      <td>2972735</td>\n",
       "      <td>2151403</td>\n",
       "      <td>846564</td>\n",
       "      <td>904872</td>\n",
       "      <td>...</td>\n",
       "      <td>77476</td>\n",
       "      <td>23492</td>\n",
       "      <td>90563</td>\n",
       "      <td>849651</td>\n",
       "      <td>4115155</td>\n",
       "      <td>2451742</td>\n",
       "      <td>4538815</td>\n",
       "      <td>22270</td>\n",
       "      <td>13302</td>\n",
       "      <td>186753</td>\n",
       "    </tr>\n",
       "    <tr>\n",
       "      <th>2013</th>\n",
       "      <td>2688919</td>\n",
       "      <td>1776926</td>\n",
       "      <td>539940</td>\n",
       "      <td>526217</td>\n",
       "      <td>228401</td>\n",
       "      <td>6052468</td>\n",
       "      <td>2941822</td>\n",
       "      <td>2124771</td>\n",
       "      <td>839676</td>\n",
       "      <td>911728</td>\n",
       "      <td>...</td>\n",
       "      <td>75938</td>\n",
       "      <td>61711</td>\n",
       "      <td>86252</td>\n",
       "      <td>824766</td>\n",
       "      <td>3997027</td>\n",
       "      <td>2413563</td>\n",
       "      <td>4232480</td>\n",
       "      <td>22584</td>\n",
       "      <td>13345</td>\n",
       "      <td>178798</td>\n",
       "    </tr>\n",
       "    <tr>\n",
       "      <th>2014</th>\n",
       "      <td>2615867</td>\n",
       "      <td>1764929</td>\n",
       "      <td>524511</td>\n",
       "      <td>512743</td>\n",
       "      <td>220501</td>\n",
       "      <td>6028250</td>\n",
       "      <td>2883910</td>\n",
       "      <td>2080531</td>\n",
       "      <td>819870</td>\n",
       "      <td>908962</td>\n",
       "      <td>...</td>\n",
       "      <td>74412</td>\n",
       "      <td>19881</td>\n",
       "      <td>83419</td>\n",
       "      <td>793232</td>\n",
       "      <td>3887962</td>\n",
       "      <td>2343344</td>\n",
       "      <td>4002875</td>\n",
       "      <td>22797</td>\n",
       "      <td>13196</td>\n",
       "      <td>168657</td>\n",
       "    </tr>\n",
       "    <tr>\n",
       "      <th>2015</th>\n",
       "      <td>2570453</td>\n",
       "      <td>1772649</td>\n",
       "      <td>513638</td>\n",
       "      <td>526856</td>\n",
       "      <td>217373</td>\n",
       "      <td>6018853</td>\n",
       "      <td>2876196</td>\n",
       "      <td>2075173</td>\n",
       "      <td>812459</td>\n",
       "      <td>910367</td>\n",
       "      <td>...</td>\n",
       "      <td>73357</td>\n",
       "      <td>39664</td>\n",
       "      <td>89892</td>\n",
       "      <td>782119</td>\n",
       "      <td>3781264</td>\n",
       "      <td>2249883</td>\n",
       "      <td>3824054</td>\n",
       "      <td>22972</td>\n",
       "      <td>13150</td>\n",
       "      <td>161119</td>\n",
       "    </tr>\n",
       "    <tr>\n",
       "      <th>2016</th>\n",
       "      <td>2553836</td>\n",
       "      <td>1760049</td>\n",
       "      <td>506073</td>\n",
       "      <td>496144</td>\n",
       "      <td>215953</td>\n",
       "      <td>6041910</td>\n",
       "      <td>2883903</td>\n",
       "      <td>2079495</td>\n",
       "      <td>812272</td>\n",
       "      <td>924556</td>\n",
       "      <td>...</td>\n",
       "      <td>72766</td>\n",
       "      <td>22817</td>\n",
       "      <td>78374</td>\n",
       "      <td>771065</td>\n",
       "      <td>3722004</td>\n",
       "      <td>2209769</td>\n",
       "      <td>3697013</td>\n",
       "      <td>23187</td>\n",
       "      <td>13265</td>\n",
       "      <td>156942</td>\n",
       "    </tr>\n",
       "    <tr>\n",
       "      <th>2017</th>\n",
       "      <td>2549679</td>\n",
       "      <td>1791741</td>\n",
       "      <td>499096</td>\n",
       "      <td>499011</td>\n",
       "      <td>215771</td>\n",
       "      <td>6064972</td>\n",
       "      <td>2908026</td>\n",
       "      <td>2096338</td>\n",
       "      <td>810540</td>\n",
       "      <td>935393</td>\n",
       "      <td>...</td>\n",
       "      <td>72721</td>\n",
       "      <td>32656</td>\n",
       "      <td>75278</td>\n",
       "      <td>771037</td>\n",
       "      <td>3692938</td>\n",
       "      <td>2177897</td>\n",
       "      <td>3492983</td>\n",
       "      <td>23341</td>\n",
       "      <td>13258</td>\n",
       "      <td>155257</td>\n",
       "    </tr>\n",
       "    <tr>\n",
       "      <th>2018</th>\n",
       "      <td>2594893</td>\n",
       "      <td>1794952</td>\n",
       "      <td>503999</td>\n",
       "      <td>520140</td>\n",
       "      <td>221459</td>\n",
       "      <td>6122763</td>\n",
       "      <td>2929219</td>\n",
       "      <td>2112240</td>\n",
       "      <td>810375</td>\n",
       "      <td>951626</td>\n",
       "      <td>...</td>\n",
       "      <td>72067</td>\n",
       "      <td>31655</td>\n",
       "      <td>75425</td>\n",
       "      <td>754676</td>\n",
       "      <td>3720110</td>\n",
       "      <td>2136637</td>\n",
       "      <td>3266541</td>\n",
       "      <td>23445</td>\n",
       "      <td>13262</td>\n",
       "      <td>154899</td>\n",
       "    </tr>\n",
       "    <tr>\n",
       "      <th>2019</th>\n",
       "      <td>2594980</td>\n",
       "      <td>1768389</td>\n",
       "      <td>500315</td>\n",
       "      <td>543825</td>\n",
       "      <td>223065</td>\n",
       "      <td>6166663</td>\n",
       "      <td>2938325</td>\n",
       "      <td>2119731</td>\n",
       "      <td>808069</td>\n",
       "      <td>960163</td>\n",
       "      <td>...</td>\n",
       "      <td>71254</td>\n",
       "      <td>16637</td>\n",
       "      <td>77457</td>\n",
       "      <td>739602</td>\n",
       "      <td>3706506</td>\n",
       "      <td>2084998</td>\n",
       "      <td>3144497</td>\n",
       "      <td>23515</td>\n",
       "      <td>13294</td>\n",
       "      <td>152310</td>\n",
       "    </tr>\n",
       "  </tbody>\n",
       "</table>\n",
       "<p>20 rows × 26 columns</p>\n",
       "</div>"
      ],
      "text/plain": [
       "      Deaths - Self-harm - Sex: Both - Age: 15-49 years (Number)  \\\n",
       "Year                                                               \n",
       "2000                                            3285819            \n",
       "2001                                            3185529            \n",
       "2002                                            3102946            \n",
       "2003                                            3050035            \n",
       "2004                                            3038210            \n",
       "2005                                            3045704            \n",
       "2006                                            2992629            \n",
       "2007                                            2936141            \n",
       "2008                                            2910958            \n",
       "2009                                            2858278            \n",
       "2010                                            2845378            \n",
       "2011                                            2806984            \n",
       "2012                                            2749080            \n",
       "2013                                            2688919            \n",
       "2014                                            2615867            \n",
       "2015                                            2570453            \n",
       "2016                                            2553836            \n",
       "2017                                            2549679            \n",
       "2018                                            2594893            \n",
       "2019                                            2594980            \n",
       "\n",
       "      Deaths - Interpersonal violence - Sex: Both - Age: 15-49 years (Number)  \\\n",
       "Year                                                                            \n",
       "2000                                            1945587                         \n",
       "2001                                            1948837                         \n",
       "2002                                            1994423                         \n",
       "2003                                            1929333                         \n",
       "2004                                            1902236                         \n",
       "2005                                            1876734                         \n",
       "2006                                            1840541                         \n",
       "2007                                            1806139                         \n",
       "2008                                            1818434                         \n",
       "2009                                            1816492                         \n",
       "2010                                            1793923                         \n",
       "2011                                            1776095                         \n",
       "2012                                            1789606                         \n",
       "2013                                            1776926                         \n",
       "2014                                            1764929                         \n",
       "2015                                            1772649                         \n",
       "2016                                            1760049                         \n",
       "2017                                            1791741                         \n",
       "2018                                            1794952                         \n",
       "2019                                            1768389                         \n",
       "\n",
       "      Deaths - Drowning - Sex: Both - Age: 15-49 years (Number)  \\\n",
       "Year                                                              \n",
       "2000                                             720695           \n",
       "2001                                             709725           \n",
       "2002                                             699325           \n",
       "2003                                             684262           \n",
       "2004                                             675432           \n",
       "2005                                             670223           \n",
       "2006                                             646396           \n",
       "2007                                             632701           \n",
       "2008                                             621862           \n",
       "2009                                             602629           \n",
       "2010                                             594829           \n",
       "2011                                             571329           \n",
       "2012                                             554857           \n",
       "2013                                             539940           \n",
       "2014                                             524511           \n",
       "2015                                             513638           \n",
       "2016                                             506073           \n",
       "2017                                             499096           \n",
       "2018                                             503999           \n",
       "2019                                             500315           \n",
       "\n",
       "      Deaths - Malaria - Sex: Both - Age: 15-49 years (Number)  \\\n",
       "Year                                                             \n",
       "2000                                             565499          \n",
       "2001                                             570461          \n",
       "2002                                             607201          \n",
       "2003                                             626770          \n",
       "2004                                             628515          \n",
       "2005                                             620365          \n",
       "2006                                             646657          \n",
       "2007                                             642534          \n",
       "2008                                             664401          \n",
       "2009                                             652149          \n",
       "2010                                             671929          \n",
       "2011                                             647704          \n",
       "2012                                             580052          \n",
       "2013                                             526217          \n",
       "2014                                             512743          \n",
       "2015                                             526856          \n",
       "2016                                             496144          \n",
       "2017                                             499011          \n",
       "2018                                             520140          \n",
       "2019                                             543825          \n",
       "\n",
       "      Deaths - Fire, heat, and hot substances - Sex: Both - Age: 15-49 years (Number)  \\\n",
       "Year                                                                                    \n",
       "2000                                             281273                                 \n",
       "2001                                             281125                                 \n",
       "2002                                             278631                                 \n",
       "2003                                             278728                                 \n",
       "2004                                             273554                                 \n",
       "2005                                             274360                                 \n",
       "2006                                             265272                                 \n",
       "2007                                             259093                                 \n",
       "2008                                             254818                                 \n",
       "2009                                             248095                                 \n",
       "2010                                             246248                                 \n",
       "2011                                             239885                                 \n",
       "2012                                             231150                                 \n",
       "2013                                             228401                                 \n",
       "2014                                             220501                                 \n",
       "2015                                             217373                                 \n",
       "2016                                             215953                                 \n",
       "2017                                             215771                                 \n",
       "2018                                             221459                                 \n",
       "2019                                             223065                                 \n",
       "\n",
       "      Deaths - Neoplasms - Sex: Both - Age: 15-49 years (Number)  \\\n",
       "Year                                                               \n",
       "2000                                            6132367            \n",
       "2001                                            6112694            \n",
       "2002                                            6049512            \n",
       "2003                                            5981826            \n",
       "2004                                            5967031            \n",
       "2005                                            5968570            \n",
       "2006                                            5926726            \n",
       "2007                                            5939030            \n",
       "2008                                            6015299            \n",
       "2009                                            6063971            \n",
       "2010                                            6109706            \n",
       "2011                                            6093308            \n",
       "2012                                            6052126            \n",
       "2013                                            6052468            \n",
       "2014                                            6028250            \n",
       "2015                                            6018853            \n",
       "2016                                            6041910            \n",
       "2017                                            6064972            \n",
       "2018                                            6122763            \n",
       "2019                                            6166663            \n",
       "\n",
       "      Deaths - Digestive diseases - Sex: Both - Age: 15-49 years (Number)  \\\n",
       "Year                                                                        \n",
       "2000                                            3031997                     \n",
       "2001                                            3047784                     \n",
       "2002                                            3063247                     \n",
       "2003                                            3072866                     \n",
       "2004                                            3085480                     \n",
       "2005                                            3122254                     \n",
       "2006                                            3105200                     \n",
       "2007                                            3101322                     \n",
       "2008                                            3115847                     \n",
       "2009                                            3067585                     \n",
       "2010                                            3053989                     \n",
       "2011                                            3026260                     \n",
       "2012                                            2972735                     \n",
       "2013                                            2941822                     \n",
       "2014                                            2883910                     \n",
       "2015                                            2876196                     \n",
       "2016                                            2883903                     \n",
       "2017                                            2908026                     \n",
       "2018                                            2929219                     \n",
       "2019                                            2938325                     \n",
       "\n",
       "      Deaths - Cirrhosis and other chronic liver diseases - Sex: Both - Age: 15-49 years (Number)  \\\n",
       "Year                                                                                                \n",
       "2000                                            2080030                                             \n",
       "2001                                            2107351                                             \n",
       "2002                                            2137776                                             \n",
       "2003                                            2164136                                             \n",
       "2004                                            2188222                                             \n",
       "2005                                            2228041                                             \n",
       "2006                                            2222603                                             \n",
       "2007                                            2228419                                             \n",
       "2008                                            2245600                                             \n",
       "2009                                            2212481                                             \n",
       "2010                                            2203553                                             \n",
       "2011                                            2185036                                             \n",
       "2012                                            2151403                                             \n",
       "2013                                            2124771                                             \n",
       "2014                                            2080531                                             \n",
       "2015                                            2075173                                             \n",
       "2016                                            2079495                                             \n",
       "2017                                            2096338                                             \n",
       "2018                                            2112240                                             \n",
       "2019                                            2119731                                             \n",
       "\n",
       "      Deaths - Chronic respiratory diseases - Sex: Both - Age: 15-49 years (Number)  \\\n",
       "Year                                                                                  \n",
       "2000                                             989130                               \n",
       "2001                                             974741                               \n",
       "2002                                             959795                               \n",
       "2003                                             938918                               \n",
       "2004                                             924733                               \n",
       "2005                                             916092                               \n",
       "2006                                             900727                               \n",
       "2007                                             891649                               \n",
       "2008                                             891975                               \n",
       "2009                                             880946                               \n",
       "2010                                             874999                               \n",
       "2011                                             864451                               \n",
       "2012                                             846564                               \n",
       "2013                                             839676                               \n",
       "2014                                             819870                               \n",
       "2015                                             812459                               \n",
       "2016                                             812272                               \n",
       "2017                                             810540                               \n",
       "2018                                             810375                               \n",
       "2019                                             808069                               \n",
       "\n",
       "      Deaths - Chronic kidney disease - Sex: Both - Age: 15-49 years (Number)  \\\n",
       "Year                                                                            \n",
       "2000                                             841628                         \n",
       "2001                                             848035                         \n",
       "2002                                             852831                         \n",
       "2003                                             854929                         \n",
       "2004                                             863140                         \n",
       "2005                                             874728                         \n",
       "2006                                             876924                         \n",
       "2007                                             883389                         \n",
       "2008                                             895990                         \n",
       "2009                                             899799                         \n",
       "2010                                             904722                         \n",
       "2011                                             907726                         \n",
       "2012                                             904872                         \n",
       "2013                                             911728                         \n",
       "2014                                             908962                         \n",
       "2015                                             910367                         \n",
       "2016                                             924556                         \n",
       "2017                                             935393                         \n",
       "2018                                             951626                         \n",
       "2019                                             960163                         \n",
       "\n",
       "      ...  \\\n",
       "Year  ...   \n",
       "2000  ...   \n",
       "2001  ...   \n",
       "2002  ...   \n",
       "2003  ...   \n",
       "2004  ...   \n",
       "2005  ...   \n",
       "2006  ...   \n",
       "2007  ...   \n",
       "2008  ...   \n",
       "2009  ...   \n",
       "2010  ...   \n",
       "2011  ...   \n",
       "2012  ...   \n",
       "2013  ...   \n",
       "2014  ...   \n",
       "2015  ...   \n",
       "2016  ...   \n",
       "2017  ...   \n",
       "2018  ...   \n",
       "2019  ...   \n",
       "\n",
       "      Deaths - Protein-energy malnutrition - Sex: Both - Age: 15-49 years (Number)  \\\n",
       "Year                                                                                 \n",
       "2000                                             171968                              \n",
       "2001                                             167976                              \n",
       "2002                                             163122                              \n",
       "2003                                             105848                              \n",
       "2004                                             101404                              \n",
       "2005                                              97287                              \n",
       "2006                                              93704                              \n",
       "2007                                              89883                              \n",
       "2008                                              87287                              \n",
       "2009                                              84592                              \n",
       "2010                                              83980                              \n",
       "2011                                              81766                              \n",
       "2012                                              77476                              \n",
       "2013                                              75938                              \n",
       "2014                                              74412                              \n",
       "2015                                              73357                              \n",
       "2016                                              72766                              \n",
       "2017                                              72721                              \n",
       "2018                                              72067                              \n",
       "2019                                              71254                              \n",
       "\n",
       "      Deaths - Exposure to forces of nature - Sex: Both - Age: 15-49 years (Number)  \\\n",
       "Year                                                                                  \n",
       "2000                                              24903                               \n",
       "2001                                              86198                               \n",
       "2002                                              24511                               \n",
       "2003                                              99385                               \n",
       "2004                                             746942                               \n",
       "2005                                             223071                               \n",
       "2006                                              52722                               \n",
       "2007                                              43733                               \n",
       "2008                                             663041                               \n",
       "2009                                              30569                               \n",
       "2010                                             632614                               \n",
       "2011                                              45133                               \n",
       "2012                                              23492                               \n",
       "2013                                              61711                               \n",
       "2014                                              19881                               \n",
       "2015                                              39664                               \n",
       "2016                                              22817                               \n",
       "2017                                              32656                               \n",
       "2018                                              31655                               \n",
       "2019                                              16637                               \n",
       "\n",
       "      Deaths - Environmental heat and cold exposure - Sex: Both - Age: 15-49 years (Number)  \\\n",
       "Year                                                                                          \n",
       "2000                                             152985                                       \n",
       "2001                                             154479                                       \n",
       "2002                                             161997                                       \n",
       "2003                                             161763                                       \n",
       "2004                                             153022                                       \n",
       "2005                                             154915                                       \n",
       "2006                                             140664                                       \n",
       "2007                                             126261                                       \n",
       "2008                                             117931                                       \n",
       "2009                                             107318                                       \n",
       "2010                                             112451                                       \n",
       "2011                                              94439                                       \n",
       "2012                                              90563                                       \n",
       "2013                                              86252                                       \n",
       "2014                                              83419                                       \n",
       "2015                                              89892                                       \n",
       "2016                                              78374                                       \n",
       "2017                                              75278                                       \n",
       "2018                                              75425                                       \n",
       "2019                                              77457                                       \n",
       "\n",
       "      Deaths - Diarrheal diseases - Sex: Both - Age: 15-49 years (Number)  \\\n",
       "Year                                                                        \n",
       "2000                                            1086862                     \n",
       "2001                                            1060135                     \n",
       "2002                                            1026968                     \n",
       "2003                                            1000199                     \n",
       "2004                                             970600                     \n",
       "2005                                             948983                     \n",
       "2006                                             936236                     \n",
       "2007                                             925475                     \n",
       "2008                                             918326                     \n",
       "2009                                             897267                     \n",
       "2010                                             899158                     \n",
       "2011                                             895990                     \n",
       "2012                                             849651                     \n",
       "2013                                             824766                     \n",
       "2014                                             793232                     \n",
       "2015                                             782119                     \n",
       "2016                                             771065                     \n",
       "2017                                             771037                     \n",
       "2018                                             754676                     \n",
       "2019                                             739602                     \n",
       "\n",
       "      Deaths - Road injuries - Sex: Both - Age: 15-49 years (Number)  \\\n",
       "Year                                                                   \n",
       "2000                                            4162968                \n",
       "2001                                            4201757                \n",
       "2002                                            4239917                \n",
       "2003                                            4267101                \n",
       "2004                                            4302507                \n",
       "2005                                            4322806                \n",
       "2006                                            4306215                \n",
       "2007                                            4319158                \n",
       "2008                                            4354862                \n",
       "2009                                            4331861                \n",
       "2010                                            4300455                \n",
       "2011                                            4214584                \n",
       "2012                                            4115155                \n",
       "2013                                            3997027                \n",
       "2014                                            3887962                \n",
       "2015                                            3781264                \n",
       "2016                                            3722004                \n",
       "2017                                            3692938                \n",
       "2018                                            3720110                \n",
       "2019                                            3706506                \n",
       "\n",
       "      Deaths - Tuberculosis - Sex: Both - Age: 15-49 years (Number)  \\\n",
       "Year                                                                  \n",
       "2000                                            3319776               \n",
       "2001                                            3246538               \n",
       "2002                                            3174667               \n",
       "2003                                            3092244               \n",
       "2004                                            3020175               \n",
       "2005                                            2972552               \n",
       "2006                                            2897879               \n",
       "2007                                            2833390               \n",
       "2008                                            2786934               \n",
       "2009                                            2692065               \n",
       "2010                                            2597764               \n",
       "2011                                            2503353               \n",
       "2012                                            2451742               \n",
       "2013                                            2413563               \n",
       "2014                                            2343344               \n",
       "2015                                            2249883               \n",
       "2016                                            2209769               \n",
       "2017                                            2177897               \n",
       "2018                                            2136637               \n",
       "2019                                            2084998               \n",
       "\n",
       "      Deaths - HIV/AIDS - Sex: Both - Age: 15-49 years (Number)  \\\n",
       "Year                                                              \n",
       "2000                                            5741129           \n",
       "2001                                            6163738           \n",
       "2002                                            6523551           \n",
       "2003                                            6792834           \n",
       "2004                                            6952485           \n",
       "2005                                            6936100           \n",
       "2006                                            6724814           \n",
       "2007                                            6369479           \n",
       "2008                                            5955451           \n",
       "2009                                            5549470           \n",
       "2010                                            5207854           \n",
       "2011                                            4891462           \n",
       "2012                                            4538815           \n",
       "2013                                            4232480           \n",
       "2014                                            4002875           \n",
       "2015                                            3824054           \n",
       "2016                                            3697013           \n",
       "2017                                            3492983           \n",
       "2018                                            3266541           \n",
       "2019                                            3144497           \n",
       "\n",
       "      Deaths - Alzheimer's disease and other dementias - Sex: Both - Age: 15-49 years (Number)  \\\n",
       "Year                                                                                             \n",
       "2000                                              17452                                          \n",
       "2001                                              17833                                          \n",
       "2002                                              18188                                          \n",
       "2003                                              18354                                          \n",
       "2004                                              18490                                          \n",
       "2005                                              18680                                          \n",
       "2006                                              18904                                          \n",
       "2007                                              19291                                          \n",
       "2008                                              19873                                          \n",
       "2009                                              20597                                          \n",
       "2010                                              21266                                          \n",
       "2011                                              21778                                          \n",
       "2012                                              22270                                          \n",
       "2013                                              22584                                          \n",
       "2014                                              22797                                          \n",
       "2015                                              22972                                          \n",
       "2016                                              23187                                          \n",
       "2017                                              23341                                          \n",
       "2018                                              23445                                          \n",
       "2019                                              23515                                          \n",
       "\n",
       "      Deaths - Parkinson's disease - Sex: Both - Age: 15-49 years (Number)  \\\n",
       "Year                                                                         \n",
       "2000                                              11668                      \n",
       "2001                                              11696                      \n",
       "2002                                              11695                      \n",
       "2003                                              11596                      \n",
       "2004                                              11617                      \n",
       "2005                                              11708                      \n",
       "2006                                              11749                      \n",
       "2007                                              11957                      \n",
       "2008                                              12346                      \n",
       "2009                                              12700                      \n",
       "2010                                              13035                      \n",
       "2011                                              13216                      \n",
       "2012                                              13302                      \n",
       "2013                                              13345                      \n",
       "2014                                              13196                      \n",
       "2015                                              13150                      \n",
       "2016                                              13265                      \n",
       "2017                                              13258                      \n",
       "2018                                              13262                      \n",
       "2019                                              13294                      \n",
       "\n",
       "      Deaths - Acute hepatitis - Sex: Both - Age: 15-49 years (Number)  \n",
       "Year                                                                    \n",
       "2000                                             260950                 \n",
       "2001                                             251708                 \n",
       "2002                                             241055                 \n",
       "2003                                             229997                 \n",
       "2004                                             223915                 \n",
       "2005                                             221367                 \n",
       "2006                                             216677                 \n",
       "2007                                             210477                 \n",
       "2008                                             205713                 \n",
       "2009                                             198971                 \n",
       "2010                                             195575                 \n",
       "2011                                             192373                 \n",
       "2012                                             186753                 \n",
       "2013                                             178798                 \n",
       "2014                                             168657                 \n",
       "2015                                             161119                 \n",
       "2016                                             156942                 \n",
       "2017                                             155257                 \n",
       "2018                                             154899                 \n",
       "2019                                             152310                 \n",
       "\n",
       "[20 rows x 26 columns]"
      ]
     },
     "execution_count": 124,
     "metadata": {},
     "output_type": "execute_result"
    }
   ],
   "source": [
    "grouped1 = causes.drop(['Entity','Code'],axis=1).groupby('Year').agg('sum')\n",
    "grouped1"
   ]
  },
  {
   "cell_type": "code",
   "execution_count": 125,
   "metadata": {},
   "outputs": [
    {
     "data": {
      "application/vnd.plotly.v1+json": {
       "config": {
        "plotlyServerURL": "https://plot.ly"
       },
       "data": [
        {
         "hovertemplate": "variable=Deaths - Self-harm - Sex: Both - Age: 15-49 years (Number)<br>Year=%{x}<br>value=%{y}<extra></extra>",
         "legendgroup": "Deaths - Self-harm - Sex: Both - Age: 15-49 years (Number)",
         "line": {
          "color": "#636efa",
          "dash": "solid"
         },
         "marker": {
          "symbol": "circle"
         },
         "mode": "lines",
         "name": "Deaths - Self-harm - Sex: Both - Age: 15-49 years (Number)",
         "orientation": "v",
         "showlegend": true,
         "type": "scatter",
         "x": [
          2000,
          2001,
          2002,
          2003,
          2004,
          2005,
          2006,
          2007,
          2008,
          2009,
          2010,
          2011,
          2012,
          2013,
          2014,
          2015,
          2016,
          2017,
          2018,
          2019
         ],
         "xaxis": "x",
         "y": [
          3285819,
          3185529,
          3102946,
          3050035,
          3038210,
          3045704,
          2992629,
          2936141,
          2910958,
          2858278,
          2845378,
          2806984,
          2749080,
          2688919,
          2615867,
          2570453,
          2553836,
          2549679,
          2594893,
          2594980
         ],
         "yaxis": "y"
        },
        {
         "hovertemplate": "variable=Deaths - Interpersonal violence - Sex: Both - Age: 15-49 years (Number)<br>Year=%{x}<br>value=%{y}<extra></extra>",
         "legendgroup": "Deaths - Interpersonal violence - Sex: Both - Age: 15-49 years (Number)",
         "line": {
          "color": "#EF553B",
          "dash": "solid"
         },
         "marker": {
          "symbol": "circle"
         },
         "mode": "lines",
         "name": "Deaths - Interpersonal violence - Sex: Both - Age: 15-49 years (Number)",
         "orientation": "v",
         "showlegend": true,
         "type": "scatter",
         "x": [
          2000,
          2001,
          2002,
          2003,
          2004,
          2005,
          2006,
          2007,
          2008,
          2009,
          2010,
          2011,
          2012,
          2013,
          2014,
          2015,
          2016,
          2017,
          2018,
          2019
         ],
         "xaxis": "x",
         "y": [
          1945587,
          1948837,
          1994423,
          1929333,
          1902236,
          1876734,
          1840541,
          1806139,
          1818434,
          1816492,
          1793923,
          1776095,
          1789606,
          1776926,
          1764929,
          1772649,
          1760049,
          1791741,
          1794952,
          1768389
         ],
         "yaxis": "y"
        },
        {
         "hovertemplate": "variable=Deaths - Drowning - Sex: Both - Age: 15-49 years (Number)<br>Year=%{x}<br>value=%{y}<extra></extra>",
         "legendgroup": "Deaths - Drowning - Sex: Both - Age: 15-49 years (Number)",
         "line": {
          "color": "#00cc96",
          "dash": "solid"
         },
         "marker": {
          "symbol": "circle"
         },
         "mode": "lines",
         "name": "Deaths - Drowning - Sex: Both - Age: 15-49 years (Number)",
         "orientation": "v",
         "showlegend": true,
         "type": "scatter",
         "x": [
          2000,
          2001,
          2002,
          2003,
          2004,
          2005,
          2006,
          2007,
          2008,
          2009,
          2010,
          2011,
          2012,
          2013,
          2014,
          2015,
          2016,
          2017,
          2018,
          2019
         ],
         "xaxis": "x",
         "y": [
          720695,
          709725,
          699325,
          684262,
          675432,
          670223,
          646396,
          632701,
          621862,
          602629,
          594829,
          571329,
          554857,
          539940,
          524511,
          513638,
          506073,
          499096,
          503999,
          500315
         ],
         "yaxis": "y"
        },
        {
         "hovertemplate": "variable=Deaths - Malaria - Sex: Both - Age: 15-49 years (Number)<br>Year=%{x}<br>value=%{y}<extra></extra>",
         "legendgroup": "Deaths - Malaria - Sex: Both - Age: 15-49 years (Number)",
         "line": {
          "color": "#ab63fa",
          "dash": "solid"
         },
         "marker": {
          "symbol": "circle"
         },
         "mode": "lines",
         "name": "Deaths - Malaria - Sex: Both - Age: 15-49 years (Number)",
         "orientation": "v",
         "showlegend": true,
         "type": "scatter",
         "x": [
          2000,
          2001,
          2002,
          2003,
          2004,
          2005,
          2006,
          2007,
          2008,
          2009,
          2010,
          2011,
          2012,
          2013,
          2014,
          2015,
          2016,
          2017,
          2018,
          2019
         ],
         "xaxis": "x",
         "y": [
          565499,
          570461,
          607201,
          626770,
          628515,
          620365,
          646657,
          642534,
          664401,
          652149,
          671929,
          647704,
          580052,
          526217,
          512743,
          526856,
          496144,
          499011,
          520140,
          543825
         ],
         "yaxis": "y"
        },
        {
         "hovertemplate": "variable=Deaths - Fire, heat, and hot substances - Sex: Both - Age: 15-49 years (Number)<br>Year=%{x}<br>value=%{y}<extra></extra>",
         "legendgroup": "Deaths - Fire, heat, and hot substances - Sex: Both - Age: 15-49 years (Number)",
         "line": {
          "color": "#FFA15A",
          "dash": "solid"
         },
         "marker": {
          "symbol": "circle"
         },
         "mode": "lines",
         "name": "Deaths - Fire, heat, and hot substances - Sex: Both - Age: 15-49 years (Number)",
         "orientation": "v",
         "showlegend": true,
         "type": "scatter",
         "x": [
          2000,
          2001,
          2002,
          2003,
          2004,
          2005,
          2006,
          2007,
          2008,
          2009,
          2010,
          2011,
          2012,
          2013,
          2014,
          2015,
          2016,
          2017,
          2018,
          2019
         ],
         "xaxis": "x",
         "y": [
          281273,
          281125,
          278631,
          278728,
          273554,
          274360,
          265272,
          259093,
          254818,
          248095,
          246248,
          239885,
          231150,
          228401,
          220501,
          217373,
          215953,
          215771,
          221459,
          223065
         ],
         "yaxis": "y"
        },
        {
         "hovertemplate": "variable=Deaths - Neoplasms - Sex: Both - Age: 15-49 years (Number)<br>Year=%{x}<br>value=%{y}<extra></extra>",
         "legendgroup": "Deaths - Neoplasms - Sex: Both - Age: 15-49 years (Number)",
         "line": {
          "color": "#19d3f3",
          "dash": "solid"
         },
         "marker": {
          "symbol": "circle"
         },
         "mode": "lines",
         "name": "Deaths - Neoplasms - Sex: Both - Age: 15-49 years (Number)",
         "orientation": "v",
         "showlegend": true,
         "type": "scatter",
         "x": [
          2000,
          2001,
          2002,
          2003,
          2004,
          2005,
          2006,
          2007,
          2008,
          2009,
          2010,
          2011,
          2012,
          2013,
          2014,
          2015,
          2016,
          2017,
          2018,
          2019
         ],
         "xaxis": "x",
         "y": [
          6132367,
          6112694,
          6049512,
          5981826,
          5967031,
          5968570,
          5926726,
          5939030,
          6015299,
          6063971,
          6109706,
          6093308,
          6052126,
          6052468,
          6028250,
          6018853,
          6041910,
          6064972,
          6122763,
          6166663
         ],
         "yaxis": "y"
        },
        {
         "hovertemplate": "variable=Deaths - Digestive diseases - Sex: Both - Age: 15-49 years (Number)<br>Year=%{x}<br>value=%{y}<extra></extra>",
         "legendgroup": "Deaths - Digestive diseases - Sex: Both - Age: 15-49 years (Number)",
         "line": {
          "color": "#FF6692",
          "dash": "solid"
         },
         "marker": {
          "symbol": "circle"
         },
         "mode": "lines",
         "name": "Deaths - Digestive diseases - Sex: Both - Age: 15-49 years (Number)",
         "orientation": "v",
         "showlegend": true,
         "type": "scatter",
         "x": [
          2000,
          2001,
          2002,
          2003,
          2004,
          2005,
          2006,
          2007,
          2008,
          2009,
          2010,
          2011,
          2012,
          2013,
          2014,
          2015,
          2016,
          2017,
          2018,
          2019
         ],
         "xaxis": "x",
         "y": [
          3031997,
          3047784,
          3063247,
          3072866,
          3085480,
          3122254,
          3105200,
          3101322,
          3115847,
          3067585,
          3053989,
          3026260,
          2972735,
          2941822,
          2883910,
          2876196,
          2883903,
          2908026,
          2929219,
          2938325
         ],
         "yaxis": "y"
        },
        {
         "hovertemplate": "variable=Deaths - Cirrhosis and other chronic liver diseases - Sex: Both - Age: 15-49 years (Number)<br>Year=%{x}<br>value=%{y}<extra></extra>",
         "legendgroup": "Deaths - Cirrhosis and other chronic liver diseases - Sex: Both - Age: 15-49 years (Number)",
         "line": {
          "color": "#B6E880",
          "dash": "solid"
         },
         "marker": {
          "symbol": "circle"
         },
         "mode": "lines",
         "name": "Deaths - Cirrhosis and other chronic liver diseases - Sex: Both - Age: 15-49 years (Number)",
         "orientation": "v",
         "showlegend": true,
         "type": "scatter",
         "x": [
          2000,
          2001,
          2002,
          2003,
          2004,
          2005,
          2006,
          2007,
          2008,
          2009,
          2010,
          2011,
          2012,
          2013,
          2014,
          2015,
          2016,
          2017,
          2018,
          2019
         ],
         "xaxis": "x",
         "y": [
          2080030,
          2107351,
          2137776,
          2164136,
          2188222,
          2228041,
          2222603,
          2228419,
          2245600,
          2212481,
          2203553,
          2185036,
          2151403,
          2124771,
          2080531,
          2075173,
          2079495,
          2096338,
          2112240,
          2119731
         ],
         "yaxis": "y"
        },
        {
         "hovertemplate": "variable=Deaths - Chronic respiratory diseases - Sex: Both - Age: 15-49 years (Number)<br>Year=%{x}<br>value=%{y}<extra></extra>",
         "legendgroup": "Deaths - Chronic respiratory diseases - Sex: Both - Age: 15-49 years (Number)",
         "line": {
          "color": "#FF97FF",
          "dash": "solid"
         },
         "marker": {
          "symbol": "circle"
         },
         "mode": "lines",
         "name": "Deaths - Chronic respiratory diseases - Sex: Both - Age: 15-49 years (Number)",
         "orientation": "v",
         "showlegend": true,
         "type": "scatter",
         "x": [
          2000,
          2001,
          2002,
          2003,
          2004,
          2005,
          2006,
          2007,
          2008,
          2009,
          2010,
          2011,
          2012,
          2013,
          2014,
          2015,
          2016,
          2017,
          2018,
          2019
         ],
         "xaxis": "x",
         "y": [
          989130,
          974741,
          959795,
          938918,
          924733,
          916092,
          900727,
          891649,
          891975,
          880946,
          874999,
          864451,
          846564,
          839676,
          819870,
          812459,
          812272,
          810540,
          810375,
          808069
         ],
         "yaxis": "y"
        },
        {
         "hovertemplate": "variable=Deaths - Chronic kidney disease - Sex: Both - Age: 15-49 years (Number)<br>Year=%{x}<br>value=%{y}<extra></extra>",
         "legendgroup": "Deaths - Chronic kidney disease - Sex: Both - Age: 15-49 years (Number)",
         "line": {
          "color": "#FECB52",
          "dash": "solid"
         },
         "marker": {
          "symbol": "circle"
         },
         "mode": "lines",
         "name": "Deaths - Chronic kidney disease - Sex: Both - Age: 15-49 years (Number)",
         "orientation": "v",
         "showlegend": true,
         "type": "scatter",
         "x": [
          2000,
          2001,
          2002,
          2003,
          2004,
          2005,
          2006,
          2007,
          2008,
          2009,
          2010,
          2011,
          2012,
          2013,
          2014,
          2015,
          2016,
          2017,
          2018,
          2019
         ],
         "xaxis": "x",
         "y": [
          841628,
          848035,
          852831,
          854929,
          863140,
          874728,
          876924,
          883389,
          895990,
          899799,
          904722,
          907726,
          904872,
          911728,
          908962,
          910367,
          924556,
          935393,
          951626,
          960163
         ],
         "yaxis": "y"
        },
        {
         "hovertemplate": "variable=Deaths - Cardiovascular diseases - Sex: Both - Age: 15-49 years (Number)<br>Year=%{x}<br>value=%{y}<extra></extra>",
         "legendgroup": "Deaths - Cardiovascular diseases - Sex: Both - Age: 15-49 years (Number)",
         "line": {
          "color": "#636efa",
          "dash": "solid"
         },
         "marker": {
          "symbol": "circle"
         },
         "mode": "lines",
         "name": "Deaths - Cardiovascular diseases - Sex: Both - Age: 15-49 years (Number)",
         "orientation": "v",
         "showlegend": true,
         "type": "scatter",
         "x": [
          2000,
          2001,
          2002,
          2003,
          2004,
          2005,
          2006,
          2007,
          2008,
          2009,
          2010,
          2011,
          2012,
          2013,
          2014,
          2015,
          2016,
          2017,
          2018,
          2019
         ],
         "xaxis": "x",
         "y": [
          7106284,
          7137494,
          7172351,
          7156529,
          7166233,
          7257932,
          7212969,
          7229886,
          7328056,
          7312548,
          7361009,
          7318273,
          7264715,
          7235663,
          7112394,
          7071655,
          7059232,
          7041015,
          7055790,
          7053004
         ],
         "yaxis": "y"
        },
        {
         "hovertemplate": "variable=Deaths - Drug use disorders - Sex: Both - Age: 15-49 years (Number)<br>Year=%{x}<br>value=%{y}<extra></extra>",
         "legendgroup": "Deaths - Drug use disorders - Sex: Both - Age: 15-49 years (Number)",
         "line": {
          "color": "#EF553B",
          "dash": "solid"
         },
         "marker": {
          "symbol": "circle"
         },
         "mode": "lines",
         "name": "Deaths - Drug use disorders - Sex: Both - Age: 15-49 years (Number)",
         "orientation": "v",
         "showlegend": true,
         "type": "scatter",
         "x": [
          2000,
          2001,
          2002,
          2003,
          2004,
          2005,
          2006,
          2007,
          2008,
          2009,
          2010,
          2011,
          2012,
          2013,
          2014,
          2015,
          2016,
          2017,
          2018,
          2019
         ],
         "xaxis": "x",
         "y": [
          422400,
          411006,
          397743,
          387226,
          386497,
          401194,
          402990,
          403540,
          405922,
          402520,
          403843,
          405761,
          409918,
          423940,
          444609,
          472606,
          510437,
          537983,
          555326,
          575019
         ],
         "yaxis": "y"
        },
        {
         "hovertemplate": "variable=Deaths - Nutritional deficiencies - Sex: Both - Age: 15-49 years (Number)<br>Year=%{x}<br>value=%{y}<extra></extra>",
         "legendgroup": "Deaths - Nutritional deficiencies - Sex: Both - Age: 15-49 years (Number)",
         "line": {
          "color": "#00cc96",
          "dash": "solid"
         },
         "marker": {
          "symbol": "circle"
         },
         "mode": "lines",
         "name": "Deaths - Nutritional deficiencies - Sex: Both - Age: 15-49 years (Number)",
         "orientation": "v",
         "showlegend": true,
         "type": "scatter",
         "x": [
          2000,
          2001,
          2002,
          2003,
          2004,
          2005,
          2006,
          2007,
          2008,
          2009,
          2010,
          2011,
          2012,
          2013,
          2014,
          2015,
          2016,
          2017,
          2018,
          2019
         ],
         "xaxis": "x",
         "y": [
          239721,
          231460,
          221515,
          158537,
          151033,
          144666,
          139739,
          134371,
          131165,
          126741,
          125326,
          122271,
          116625,
          113468,
          110437,
          107886,
          106718,
          106350,
          105124,
          103473
         ],
         "yaxis": "y"
        },
        {
         "hovertemplate": "variable=Deaths - Alcohol use disorders - Sex: Both - Age: 15-49 years (Number)<br>Year=%{x}<br>value=%{y}<extra></extra>",
         "legendgroup": "Deaths - Alcohol use disorders - Sex: Both - Age: 15-49 years (Number)",
         "line": {
          "color": "#ab63fa",
          "dash": "solid"
         },
         "marker": {
          "symbol": "circle"
         },
         "mode": "lines",
         "name": "Deaths - Alcohol use disorders - Sex: Both - Age: 15-49 years (Number)",
         "orientation": "v",
         "showlegend": true,
         "type": "scatter",
         "x": [
          2000,
          2001,
          2002,
          2003,
          2004,
          2005,
          2006,
          2007,
          2008,
          2009,
          2010,
          2011,
          2012,
          2013,
          2014,
          2015,
          2016,
          2017,
          2018,
          2019
         ],
         "xaxis": "x",
         "y": [
          533665,
          544561,
          554124,
          560885,
          561702,
          557311,
          538739,
          519757,
          504376,
          482057,
          466529,
          450447,
          436949,
          429294,
          423370,
          420650,
          421077,
          422011,
          431008,
          437768
         ],
         "yaxis": "y"
        },
        {
         "hovertemplate": "variable=Deaths - Lower respiratory infections - Sex: Both - Age: 15-49 years (Number)<br>Year=%{x}<br>value=%{y}<extra></extra>",
         "legendgroup": "Deaths - Lower respiratory infections - Sex: Both - Age: 15-49 years (Number)",
         "line": {
          "color": "#FFA15A",
          "dash": "solid"
         },
         "marker": {
          "symbol": "circle"
         },
         "mode": "lines",
         "name": "Deaths - Lower respiratory infections - Sex: Both - Age: 15-49 years (Number)",
         "orientation": "v",
         "showlegend": true,
         "type": "scatter",
         "x": [
          2000,
          2001,
          2002,
          2003,
          2004,
          2005,
          2006,
          2007,
          2008,
          2009,
          2010,
          2011,
          2012,
          2013,
          2014,
          2015,
          2016,
          2017,
          2018,
          2019
         ],
         "xaxis": "x",
         "y": [
          969880,
          970727,
          978462,
          986506,
          990029,
          1001708,
          987241,
          976525,
          978022,
          968481,
          956623,
          937672,
          924859,
          922097,
          914107,
          908593,
          909629,
          908899,
          923764,
          930739
         ],
         "yaxis": "y"
        },
        {
         "hovertemplate": "variable=Deaths - Diabetes mellitus - Sex: Both - Age: 15-49 years (Number)<br>Year=%{x}<br>value=%{y}<extra></extra>",
         "legendgroup": "Deaths - Diabetes mellitus - Sex: Both - Age: 15-49 years (Number)",
         "line": {
          "color": "#19d3f3",
          "dash": "solid"
         },
         "marker": {
          "symbol": "circle"
         },
         "mode": "lines",
         "name": "Deaths - Diabetes mellitus - Sex: Both - Age: 15-49 years (Number)",
         "orientation": "v",
         "showlegend": true,
         "type": "scatter",
         "x": [
          2000,
          2001,
          2002,
          2003,
          2004,
          2005,
          2006,
          2007,
          2008,
          2009,
          2010,
          2011,
          2012,
          2013,
          2014,
          2015,
          2016,
          2017,
          2018,
          2019
         ],
         "xaxis": "x",
         "y": [
          549706,
          556781,
          565119,
          570831,
          578032,
          588609,
          588519,
          591021,
          600101,
          605317,
          608728,
          613732,
          621322,
          631641,
          636014,
          645578,
          658234,
          666913,
          676916,
          683387
         ],
         "yaxis": "y"
        },
        {
         "hovertemplate": "variable=Deaths - Protein-energy malnutrition - Sex: Both - Age: 15-49 years (Number)<br>Year=%{x}<br>value=%{y}<extra></extra>",
         "legendgroup": "Deaths - Protein-energy malnutrition - Sex: Both - Age: 15-49 years (Number)",
         "line": {
          "color": "#FF6692",
          "dash": "solid"
         },
         "marker": {
          "symbol": "circle"
         },
         "mode": "lines",
         "name": "Deaths - Protein-energy malnutrition - Sex: Both - Age: 15-49 years (Number)",
         "orientation": "v",
         "showlegend": true,
         "type": "scatter",
         "x": [
          2000,
          2001,
          2002,
          2003,
          2004,
          2005,
          2006,
          2007,
          2008,
          2009,
          2010,
          2011,
          2012,
          2013,
          2014,
          2015,
          2016,
          2017,
          2018,
          2019
         ],
         "xaxis": "x",
         "y": [
          171968,
          167976,
          163122,
          105848,
          101404,
          97287,
          93704,
          89883,
          87287,
          84592,
          83980,
          81766,
          77476,
          75938,
          74412,
          73357,
          72766,
          72721,
          72067,
          71254
         ],
         "yaxis": "y"
        },
        {
         "hovertemplate": "variable=Deaths - Exposure to forces of nature - Sex: Both - Age: 15-49 years (Number)<br>Year=%{x}<br>value=%{y}<extra></extra>",
         "legendgroup": "Deaths - Exposure to forces of nature - Sex: Both - Age: 15-49 years (Number)",
         "line": {
          "color": "#B6E880",
          "dash": "solid"
         },
         "marker": {
          "symbol": "circle"
         },
         "mode": "lines",
         "name": "Deaths - Exposure to forces of nature - Sex: Both - Age: 15-49 years (Number)",
         "orientation": "v",
         "showlegend": true,
         "type": "scatter",
         "x": [
          2000,
          2001,
          2002,
          2003,
          2004,
          2005,
          2006,
          2007,
          2008,
          2009,
          2010,
          2011,
          2012,
          2013,
          2014,
          2015,
          2016,
          2017,
          2018,
          2019
         ],
         "xaxis": "x",
         "y": [
          24903,
          86198,
          24511,
          99385,
          746942,
          223071,
          52722,
          43733,
          663041,
          30569,
          632614,
          45133,
          23492,
          61711,
          19881,
          39664,
          22817,
          32656,
          31655,
          16637
         ],
         "yaxis": "y"
        },
        {
         "hovertemplate": "variable=Deaths - Environmental heat and cold exposure - Sex: Both - Age: 15-49 years (Number)<br>Year=%{x}<br>value=%{y}<extra></extra>",
         "legendgroup": "Deaths - Environmental heat and cold exposure - Sex: Both - Age: 15-49 years (Number)",
         "line": {
          "color": "#FF97FF",
          "dash": "solid"
         },
         "marker": {
          "symbol": "circle"
         },
         "mode": "lines",
         "name": "Deaths - Environmental heat and cold exposure - Sex: Both - Age: 15-49 years (Number)",
         "orientation": "v",
         "showlegend": true,
         "type": "scatter",
         "x": [
          2000,
          2001,
          2002,
          2003,
          2004,
          2005,
          2006,
          2007,
          2008,
          2009,
          2010,
          2011,
          2012,
          2013,
          2014,
          2015,
          2016,
          2017,
          2018,
          2019
         ],
         "xaxis": "x",
         "y": [
          152985,
          154479,
          161997,
          161763,
          153022,
          154915,
          140664,
          126261,
          117931,
          107318,
          112451,
          94439,
          90563,
          86252,
          83419,
          89892,
          78374,
          75278,
          75425,
          77457
         ],
         "yaxis": "y"
        },
        {
         "hovertemplate": "variable=Deaths - Diarrheal diseases - Sex: Both - Age: 15-49 years (Number)<br>Year=%{x}<br>value=%{y}<extra></extra>",
         "legendgroup": "Deaths - Diarrheal diseases - Sex: Both - Age: 15-49 years (Number)",
         "line": {
          "color": "#FECB52",
          "dash": "solid"
         },
         "marker": {
          "symbol": "circle"
         },
         "mode": "lines",
         "name": "Deaths - Diarrheal diseases - Sex: Both - Age: 15-49 years (Number)",
         "orientation": "v",
         "showlegend": true,
         "type": "scatter",
         "x": [
          2000,
          2001,
          2002,
          2003,
          2004,
          2005,
          2006,
          2007,
          2008,
          2009,
          2010,
          2011,
          2012,
          2013,
          2014,
          2015,
          2016,
          2017,
          2018,
          2019
         ],
         "xaxis": "x",
         "y": [
          1086862,
          1060135,
          1026968,
          1000199,
          970600,
          948983,
          936236,
          925475,
          918326,
          897267,
          899158,
          895990,
          849651,
          824766,
          793232,
          782119,
          771065,
          771037,
          754676,
          739602
         ],
         "yaxis": "y"
        },
        {
         "hovertemplate": "variable=Deaths - Road injuries - Sex: Both - Age: 15-49 years (Number)<br>Year=%{x}<br>value=%{y}<extra></extra>",
         "legendgroup": "Deaths - Road injuries - Sex: Both - Age: 15-49 years (Number)",
         "line": {
          "color": "#636efa",
          "dash": "solid"
         },
         "marker": {
          "symbol": "circle"
         },
         "mode": "lines",
         "name": "Deaths - Road injuries - Sex: Both - Age: 15-49 years (Number)",
         "orientation": "v",
         "showlegend": true,
         "type": "scatter",
         "x": [
          2000,
          2001,
          2002,
          2003,
          2004,
          2005,
          2006,
          2007,
          2008,
          2009,
          2010,
          2011,
          2012,
          2013,
          2014,
          2015,
          2016,
          2017,
          2018,
          2019
         ],
         "xaxis": "x",
         "y": [
          4162968,
          4201757,
          4239917,
          4267101,
          4302507,
          4322806,
          4306215,
          4319158,
          4354862,
          4331861,
          4300455,
          4214584,
          4115155,
          3997027,
          3887962,
          3781264,
          3722004,
          3692938,
          3720110,
          3706506
         ],
         "yaxis": "y"
        },
        {
         "hovertemplate": "variable=Deaths - Tuberculosis - Sex: Both - Age: 15-49 years (Number)<br>Year=%{x}<br>value=%{y}<extra></extra>",
         "legendgroup": "Deaths - Tuberculosis - Sex: Both - Age: 15-49 years (Number)",
         "line": {
          "color": "#EF553B",
          "dash": "solid"
         },
         "marker": {
          "symbol": "circle"
         },
         "mode": "lines",
         "name": "Deaths - Tuberculosis - Sex: Both - Age: 15-49 years (Number)",
         "orientation": "v",
         "showlegend": true,
         "type": "scatter",
         "x": [
          2000,
          2001,
          2002,
          2003,
          2004,
          2005,
          2006,
          2007,
          2008,
          2009,
          2010,
          2011,
          2012,
          2013,
          2014,
          2015,
          2016,
          2017,
          2018,
          2019
         ],
         "xaxis": "x",
         "y": [
          3319776,
          3246538,
          3174667,
          3092244,
          3020175,
          2972552,
          2897879,
          2833390,
          2786934,
          2692065,
          2597764,
          2503353,
          2451742,
          2413563,
          2343344,
          2249883,
          2209769,
          2177897,
          2136637,
          2084998
         ],
         "yaxis": "y"
        },
        {
         "hovertemplate": "variable=Deaths - HIV/AIDS - Sex: Both - Age: 15-49 years (Number)<br>Year=%{x}<br>value=%{y}<extra></extra>",
         "legendgroup": "Deaths - HIV/AIDS - Sex: Both - Age: 15-49 years (Number)",
         "line": {
          "color": "#00cc96",
          "dash": "solid"
         },
         "marker": {
          "symbol": "circle"
         },
         "mode": "lines",
         "name": "Deaths - HIV/AIDS - Sex: Both - Age: 15-49 years (Number)",
         "orientation": "v",
         "showlegend": true,
         "type": "scatter",
         "x": [
          2000,
          2001,
          2002,
          2003,
          2004,
          2005,
          2006,
          2007,
          2008,
          2009,
          2010,
          2011,
          2012,
          2013,
          2014,
          2015,
          2016,
          2017,
          2018,
          2019
         ],
         "xaxis": "x",
         "y": [
          5741129,
          6163738,
          6523551,
          6792834,
          6952485,
          6936100,
          6724814,
          6369479,
          5955451,
          5549470,
          5207854,
          4891462,
          4538815,
          4232480,
          4002875,
          3824054,
          3697013,
          3492983,
          3266541,
          3144497
         ],
         "yaxis": "y"
        },
        {
         "hovertemplate": "variable=Deaths - Alzheimer's disease and other dementias - Sex: Both - Age: 15-49 years (Number)<br>Year=%{x}<br>value=%{y}<extra></extra>",
         "legendgroup": "Deaths - Alzheimer's disease and other dementias - Sex: Both - Age: 15-49 years (Number)",
         "line": {
          "color": "#ab63fa",
          "dash": "solid"
         },
         "marker": {
          "symbol": "circle"
         },
         "mode": "lines",
         "name": "Deaths - Alzheimer's disease and other dementias - Sex: Both - Age: 15-49 years (Number)",
         "orientation": "v",
         "showlegend": true,
         "type": "scatter",
         "x": [
          2000,
          2001,
          2002,
          2003,
          2004,
          2005,
          2006,
          2007,
          2008,
          2009,
          2010,
          2011,
          2012,
          2013,
          2014,
          2015,
          2016,
          2017,
          2018,
          2019
         ],
         "xaxis": "x",
         "y": [
          17452,
          17833,
          18188,
          18354,
          18490,
          18680,
          18904,
          19291,
          19873,
          20597,
          21266,
          21778,
          22270,
          22584,
          22797,
          22972,
          23187,
          23341,
          23445,
          23515
         ],
         "yaxis": "y"
        },
        {
         "hovertemplate": "variable=Deaths - Parkinson's disease - Sex: Both - Age: 15-49 years (Number)<br>Year=%{x}<br>value=%{y}<extra></extra>",
         "legendgroup": "Deaths - Parkinson's disease - Sex: Both - Age: 15-49 years (Number)",
         "line": {
          "color": "#FFA15A",
          "dash": "solid"
         },
         "marker": {
          "symbol": "circle"
         },
         "mode": "lines",
         "name": "Deaths - Parkinson's disease - Sex: Both - Age: 15-49 years (Number)",
         "orientation": "v",
         "showlegend": true,
         "type": "scatter",
         "x": [
          2000,
          2001,
          2002,
          2003,
          2004,
          2005,
          2006,
          2007,
          2008,
          2009,
          2010,
          2011,
          2012,
          2013,
          2014,
          2015,
          2016,
          2017,
          2018,
          2019
         ],
         "xaxis": "x",
         "y": [
          11668,
          11696,
          11695,
          11596,
          11617,
          11708,
          11749,
          11957,
          12346,
          12700,
          13035,
          13216,
          13302,
          13345,
          13196,
          13150,
          13265,
          13258,
          13262,
          13294
         ],
         "yaxis": "y"
        },
        {
         "hovertemplate": "variable=Deaths - Acute hepatitis - Sex: Both - Age: 15-49 years (Number)<br>Year=%{x}<br>value=%{y}<extra></extra>",
         "legendgroup": "Deaths - Acute hepatitis - Sex: Both - Age: 15-49 years (Number)",
         "line": {
          "color": "#19d3f3",
          "dash": "solid"
         },
         "marker": {
          "symbol": "circle"
         },
         "mode": "lines",
         "name": "Deaths - Acute hepatitis - Sex: Both - Age: 15-49 years (Number)",
         "orientation": "v",
         "showlegend": true,
         "type": "scatter",
         "x": [
          2000,
          2001,
          2002,
          2003,
          2004,
          2005,
          2006,
          2007,
          2008,
          2009,
          2010,
          2011,
          2012,
          2013,
          2014,
          2015,
          2016,
          2017,
          2018,
          2019
         ],
         "xaxis": "x",
         "y": [
          260950,
          251708,
          241055,
          229997,
          223915,
          221367,
          216677,
          210477,
          205713,
          198971,
          195575,
          192373,
          186753,
          178798,
          168657,
          161119,
          156942,
          155257,
          154899,
          152310
         ],
         "yaxis": "y"
        }
       ],
       "layout": {
        "legend": {
         "title": {
          "text": "variable"
         },
         "tracegroupgap": 0
        },
        "template": {
         "data": {
          "bar": [
           {
            "error_x": {
             "color": "#2a3f5f"
            },
            "error_y": {
             "color": "#2a3f5f"
            },
            "marker": {
             "line": {
              "color": "#E5ECF6",
              "width": 0.5
             },
             "pattern": {
              "fillmode": "overlay",
              "size": 10,
              "solidity": 0.2
             }
            },
            "type": "bar"
           }
          ],
          "barpolar": [
           {
            "marker": {
             "line": {
              "color": "#E5ECF6",
              "width": 0.5
             },
             "pattern": {
              "fillmode": "overlay",
              "size": 10,
              "solidity": 0.2
             }
            },
            "type": "barpolar"
           }
          ],
          "carpet": [
           {
            "aaxis": {
             "endlinecolor": "#2a3f5f",
             "gridcolor": "white",
             "linecolor": "white",
             "minorgridcolor": "white",
             "startlinecolor": "#2a3f5f"
            },
            "baxis": {
             "endlinecolor": "#2a3f5f",
             "gridcolor": "white",
             "linecolor": "white",
             "minorgridcolor": "white",
             "startlinecolor": "#2a3f5f"
            },
            "type": "carpet"
           }
          ],
          "choropleth": [
           {
            "colorbar": {
             "outlinewidth": 0,
             "ticks": ""
            },
            "type": "choropleth"
           }
          ],
          "contour": [
           {
            "colorbar": {
             "outlinewidth": 0,
             "ticks": ""
            },
            "colorscale": [
             [
              0,
              "#0d0887"
             ],
             [
              0.1111111111111111,
              "#46039f"
             ],
             [
              0.2222222222222222,
              "#7201a8"
             ],
             [
              0.3333333333333333,
              "#9c179e"
             ],
             [
              0.4444444444444444,
              "#bd3786"
             ],
             [
              0.5555555555555556,
              "#d8576b"
             ],
             [
              0.6666666666666666,
              "#ed7953"
             ],
             [
              0.7777777777777778,
              "#fb9f3a"
             ],
             [
              0.8888888888888888,
              "#fdca26"
             ],
             [
              1,
              "#f0f921"
             ]
            ],
            "type": "contour"
           }
          ],
          "contourcarpet": [
           {
            "colorbar": {
             "outlinewidth": 0,
             "ticks": ""
            },
            "type": "contourcarpet"
           }
          ],
          "heatmap": [
           {
            "colorbar": {
             "outlinewidth": 0,
             "ticks": ""
            },
            "colorscale": [
             [
              0,
              "#0d0887"
             ],
             [
              0.1111111111111111,
              "#46039f"
             ],
             [
              0.2222222222222222,
              "#7201a8"
             ],
             [
              0.3333333333333333,
              "#9c179e"
             ],
             [
              0.4444444444444444,
              "#bd3786"
             ],
             [
              0.5555555555555556,
              "#d8576b"
             ],
             [
              0.6666666666666666,
              "#ed7953"
             ],
             [
              0.7777777777777778,
              "#fb9f3a"
             ],
             [
              0.8888888888888888,
              "#fdca26"
             ],
             [
              1,
              "#f0f921"
             ]
            ],
            "type": "heatmap"
           }
          ],
          "heatmapgl": [
           {
            "colorbar": {
             "outlinewidth": 0,
             "ticks": ""
            },
            "colorscale": [
             [
              0,
              "#0d0887"
             ],
             [
              0.1111111111111111,
              "#46039f"
             ],
             [
              0.2222222222222222,
              "#7201a8"
             ],
             [
              0.3333333333333333,
              "#9c179e"
             ],
             [
              0.4444444444444444,
              "#bd3786"
             ],
             [
              0.5555555555555556,
              "#d8576b"
             ],
             [
              0.6666666666666666,
              "#ed7953"
             ],
             [
              0.7777777777777778,
              "#fb9f3a"
             ],
             [
              0.8888888888888888,
              "#fdca26"
             ],
             [
              1,
              "#f0f921"
             ]
            ],
            "type": "heatmapgl"
           }
          ],
          "histogram": [
           {
            "marker": {
             "pattern": {
              "fillmode": "overlay",
              "size": 10,
              "solidity": 0.2
             }
            },
            "type": "histogram"
           }
          ],
          "histogram2d": [
           {
            "colorbar": {
             "outlinewidth": 0,
             "ticks": ""
            },
            "colorscale": [
             [
              0,
              "#0d0887"
             ],
             [
              0.1111111111111111,
              "#46039f"
             ],
             [
              0.2222222222222222,
              "#7201a8"
             ],
             [
              0.3333333333333333,
              "#9c179e"
             ],
             [
              0.4444444444444444,
              "#bd3786"
             ],
             [
              0.5555555555555556,
              "#d8576b"
             ],
             [
              0.6666666666666666,
              "#ed7953"
             ],
             [
              0.7777777777777778,
              "#fb9f3a"
             ],
             [
              0.8888888888888888,
              "#fdca26"
             ],
             [
              1,
              "#f0f921"
             ]
            ],
            "type": "histogram2d"
           }
          ],
          "histogram2dcontour": [
           {
            "colorbar": {
             "outlinewidth": 0,
             "ticks": ""
            },
            "colorscale": [
             [
              0,
              "#0d0887"
             ],
             [
              0.1111111111111111,
              "#46039f"
             ],
             [
              0.2222222222222222,
              "#7201a8"
             ],
             [
              0.3333333333333333,
              "#9c179e"
             ],
             [
              0.4444444444444444,
              "#bd3786"
             ],
             [
              0.5555555555555556,
              "#d8576b"
             ],
             [
              0.6666666666666666,
              "#ed7953"
             ],
             [
              0.7777777777777778,
              "#fb9f3a"
             ],
             [
              0.8888888888888888,
              "#fdca26"
             ],
             [
              1,
              "#f0f921"
             ]
            ],
            "type": "histogram2dcontour"
           }
          ],
          "mesh3d": [
           {
            "colorbar": {
             "outlinewidth": 0,
             "ticks": ""
            },
            "type": "mesh3d"
           }
          ],
          "parcoords": [
           {
            "line": {
             "colorbar": {
              "outlinewidth": 0,
              "ticks": ""
             }
            },
            "type": "parcoords"
           }
          ],
          "pie": [
           {
            "automargin": true,
            "type": "pie"
           }
          ],
          "scatter": [
           {
            "fillpattern": {
             "fillmode": "overlay",
             "size": 10,
             "solidity": 0.2
            },
            "type": "scatter"
           }
          ],
          "scatter3d": [
           {
            "line": {
             "colorbar": {
              "outlinewidth": 0,
              "ticks": ""
             }
            },
            "marker": {
             "colorbar": {
              "outlinewidth": 0,
              "ticks": ""
             }
            },
            "type": "scatter3d"
           }
          ],
          "scattercarpet": [
           {
            "marker": {
             "colorbar": {
              "outlinewidth": 0,
              "ticks": ""
             }
            },
            "type": "scattercarpet"
           }
          ],
          "scattergeo": [
           {
            "marker": {
             "colorbar": {
              "outlinewidth": 0,
              "ticks": ""
             }
            },
            "type": "scattergeo"
           }
          ],
          "scattergl": [
           {
            "marker": {
             "colorbar": {
              "outlinewidth": 0,
              "ticks": ""
             }
            },
            "type": "scattergl"
           }
          ],
          "scattermapbox": [
           {
            "marker": {
             "colorbar": {
              "outlinewidth": 0,
              "ticks": ""
             }
            },
            "type": "scattermapbox"
           }
          ],
          "scatterpolar": [
           {
            "marker": {
             "colorbar": {
              "outlinewidth": 0,
              "ticks": ""
             }
            },
            "type": "scatterpolar"
           }
          ],
          "scatterpolargl": [
           {
            "marker": {
             "colorbar": {
              "outlinewidth": 0,
              "ticks": ""
             }
            },
            "type": "scatterpolargl"
           }
          ],
          "scatterternary": [
           {
            "marker": {
             "colorbar": {
              "outlinewidth": 0,
              "ticks": ""
             }
            },
            "type": "scatterternary"
           }
          ],
          "surface": [
           {
            "colorbar": {
             "outlinewidth": 0,
             "ticks": ""
            },
            "colorscale": [
             [
              0,
              "#0d0887"
             ],
             [
              0.1111111111111111,
              "#46039f"
             ],
             [
              0.2222222222222222,
              "#7201a8"
             ],
             [
              0.3333333333333333,
              "#9c179e"
             ],
             [
              0.4444444444444444,
              "#bd3786"
             ],
             [
              0.5555555555555556,
              "#d8576b"
             ],
             [
              0.6666666666666666,
              "#ed7953"
             ],
             [
              0.7777777777777778,
              "#fb9f3a"
             ],
             [
              0.8888888888888888,
              "#fdca26"
             ],
             [
              1,
              "#f0f921"
             ]
            ],
            "type": "surface"
           }
          ],
          "table": [
           {
            "cells": {
             "fill": {
              "color": "#EBF0F8"
             },
             "line": {
              "color": "white"
             }
            },
            "header": {
             "fill": {
              "color": "#C8D4E3"
             },
             "line": {
              "color": "white"
             }
            },
            "type": "table"
           }
          ]
         },
         "layout": {
          "annotationdefaults": {
           "arrowcolor": "#2a3f5f",
           "arrowhead": 0,
           "arrowwidth": 1
          },
          "autotypenumbers": "strict",
          "coloraxis": {
           "colorbar": {
            "outlinewidth": 0,
            "ticks": ""
           }
          },
          "colorscale": {
           "diverging": [
            [
             0,
             "#8e0152"
            ],
            [
             0.1,
             "#c51b7d"
            ],
            [
             0.2,
             "#de77ae"
            ],
            [
             0.3,
             "#f1b6da"
            ],
            [
             0.4,
             "#fde0ef"
            ],
            [
             0.5,
             "#f7f7f7"
            ],
            [
             0.6,
             "#e6f5d0"
            ],
            [
             0.7,
             "#b8e186"
            ],
            [
             0.8,
             "#7fbc41"
            ],
            [
             0.9,
             "#4d9221"
            ],
            [
             1,
             "#276419"
            ]
           ],
           "sequential": [
            [
             0,
             "#0d0887"
            ],
            [
             0.1111111111111111,
             "#46039f"
            ],
            [
             0.2222222222222222,
             "#7201a8"
            ],
            [
             0.3333333333333333,
             "#9c179e"
            ],
            [
             0.4444444444444444,
             "#bd3786"
            ],
            [
             0.5555555555555556,
             "#d8576b"
            ],
            [
             0.6666666666666666,
             "#ed7953"
            ],
            [
             0.7777777777777778,
             "#fb9f3a"
            ],
            [
             0.8888888888888888,
             "#fdca26"
            ],
            [
             1,
             "#f0f921"
            ]
           ],
           "sequentialminus": [
            [
             0,
             "#0d0887"
            ],
            [
             0.1111111111111111,
             "#46039f"
            ],
            [
             0.2222222222222222,
             "#7201a8"
            ],
            [
             0.3333333333333333,
             "#9c179e"
            ],
            [
             0.4444444444444444,
             "#bd3786"
            ],
            [
             0.5555555555555556,
             "#d8576b"
            ],
            [
             0.6666666666666666,
             "#ed7953"
            ],
            [
             0.7777777777777778,
             "#fb9f3a"
            ],
            [
             0.8888888888888888,
             "#fdca26"
            ],
            [
             1,
             "#f0f921"
            ]
           ]
          },
          "colorway": [
           "#636efa",
           "#EF553B",
           "#00cc96",
           "#ab63fa",
           "#FFA15A",
           "#19d3f3",
           "#FF6692",
           "#B6E880",
           "#FF97FF",
           "#FECB52"
          ],
          "font": {
           "color": "#2a3f5f"
          },
          "geo": {
           "bgcolor": "white",
           "lakecolor": "white",
           "landcolor": "#E5ECF6",
           "showlakes": true,
           "showland": true,
           "subunitcolor": "white"
          },
          "hoverlabel": {
           "align": "left"
          },
          "hovermode": "closest",
          "mapbox": {
           "style": "light"
          },
          "paper_bgcolor": "white",
          "plot_bgcolor": "#E5ECF6",
          "polar": {
           "angularaxis": {
            "gridcolor": "white",
            "linecolor": "white",
            "ticks": ""
           },
           "bgcolor": "#E5ECF6",
           "radialaxis": {
            "gridcolor": "white",
            "linecolor": "white",
            "ticks": ""
           }
          },
          "scene": {
           "xaxis": {
            "backgroundcolor": "#E5ECF6",
            "gridcolor": "white",
            "gridwidth": 2,
            "linecolor": "white",
            "showbackground": true,
            "ticks": "",
            "zerolinecolor": "white"
           },
           "yaxis": {
            "backgroundcolor": "#E5ECF6",
            "gridcolor": "white",
            "gridwidth": 2,
            "linecolor": "white",
            "showbackground": true,
            "ticks": "",
            "zerolinecolor": "white"
           },
           "zaxis": {
            "backgroundcolor": "#E5ECF6",
            "gridcolor": "white",
            "gridwidth": 2,
            "linecolor": "white",
            "showbackground": true,
            "ticks": "",
            "zerolinecolor": "white"
           }
          },
          "shapedefaults": {
           "line": {
            "color": "#2a3f5f"
           }
          },
          "ternary": {
           "aaxis": {
            "gridcolor": "white",
            "linecolor": "white",
            "ticks": ""
           },
           "baxis": {
            "gridcolor": "white",
            "linecolor": "white",
            "ticks": ""
           },
           "bgcolor": "#E5ECF6",
           "caxis": {
            "gridcolor": "white",
            "linecolor": "white",
            "ticks": ""
           }
          },
          "title": {
           "x": 0.05
          },
          "xaxis": {
           "automargin": true,
           "gridcolor": "white",
           "linecolor": "white",
           "ticks": "",
           "title": {
            "standoff": 15
           },
           "zerolinecolor": "white",
           "zerolinewidth": 2
          },
          "yaxis": {
           "automargin": true,
           "gridcolor": "white",
           "linecolor": "white",
           "ticks": "",
           "title": {
            "standoff": 15
           },
           "zerolinecolor": "white",
           "zerolinewidth": 2
          }
         }
        },
        "title": {
         "text": "Your Plot Title"
        },
        "xaxis": {
         "anchor": "y",
         "domain": [
          0,
          1
         ],
         "title": {
          "text": "Year"
         }
        },
        "yaxis": {
         "anchor": "x",
         "domain": [
          0,
          1
         ],
         "title": {
          "text": "value"
         }
        }
       }
      }
     },
     "metadata": {},
     "output_type": "display_data"
    }
   ],
   "source": [
    "import plotly.express as px\n",
    "\n",
    "fig = px.line(grouped1, x=grouped1.index, y=grouped1.columns,\n",
    "              labels={'x': 'X-Axis Label', 'y': 'Y-Axis Label'},\n",
    "              title='Your Plot Title')\n",
    "\n",
    "fig.show()"
   ]
  },
  {
   "cell_type": "code",
   "execution_count": 126,
   "metadata": {},
   "outputs": [
    {
     "data": {
      "text/plain": [
       "array([2000, 2001, 2002, 2003, 2004, 2005, 2006, 2007, 2008, 2009, 2010,\n",
       "       2011, 2012, 2013, 2014, 2015, 2016, 2017, 2018, 2019], dtype=int64)"
      ]
     },
     "execution_count": 126,
     "metadata": {},
     "output_type": "execute_result"
    }
   ],
   "source": [
    "grouped1 = grouped1.reset_index()\n",
    "grouped1['Year'].unique()"
   ]
  },
  {
   "cell_type": "code",
   "execution_count": 127,
   "metadata": {},
   "outputs": [
    {
     "data": {
      "text/plain": [
       "array([2000, 2001, 2002, 2003, 2004, 2005, 2006, 2007, 2008, 2009, 2010,\n",
       "       2011, 2012, 2013, 2014, 2015, 2016, 2017, 2018, 2019], dtype=int64)"
      ]
     },
     "execution_count": 127,
     "metadata": {},
     "output_type": "execute_result"
    }
   ],
   "source": [
    "population_data = pd.read_csv(r'./population/Global_annual_population.csv')\n",
    "population_data = population_data[population_data['Year'] >= 2000]\n",
    "population_data = population_data[population_data['Year'] <= 2019]\n",
    "population_data['Year'].unique()"
   ]
  },
  {
   "cell_type": "code",
   "execution_count": 128,
   "metadata": {},
   "outputs": [
    {
     "data": {
      "text/html": [
       "<div>\n",
       "<style scoped>\n",
       "    .dataframe tbody tr th:only-of-type {\n",
       "        vertical-align: middle;\n",
       "    }\n",
       "\n",
       "    .dataframe tbody tr th {\n",
       "        vertical-align: top;\n",
       "    }\n",
       "\n",
       "    .dataframe thead th {\n",
       "        text-align: right;\n",
       "    }\n",
       "</style>\n",
       "<table border=\"1\" class=\"dataframe\">\n",
       "  <thead>\n",
       "    <tr style=\"text-align: right;\">\n",
       "      <th></th>\n",
       "      <th>Year</th>\n",
       "      <th>Population</th>\n",
       "      <th>Unnamed: 2</th>\n",
       "      <th>Deaths - Self-harm - Sex: Both - Age: 15-49 years (Number)</th>\n",
       "      <th>Deaths - Interpersonal violence - Sex: Both - Age: 15-49 years (Number)</th>\n",
       "      <th>Deaths - Drowning - Sex: Both - Age: 15-49 years (Number)</th>\n",
       "      <th>Deaths - Malaria - Sex: Both - Age: 15-49 years (Number)</th>\n",
       "      <th>Deaths - Fire, heat, and hot substances - Sex: Both - Age: 15-49 years (Number)</th>\n",
       "      <th>Deaths - Neoplasms - Sex: Both - Age: 15-49 years (Number)</th>\n",
       "      <th>Deaths - Digestive diseases - Sex: Both - Age: 15-49 years (Number)</th>\n",
       "      <th>...</th>\n",
       "      <th>Deaths - Protein-energy malnutrition - Sex: Both - Age: 15-49 years (Number)</th>\n",
       "      <th>Deaths - Exposure to forces of nature - Sex: Both - Age: 15-49 years (Number)</th>\n",
       "      <th>Deaths - Environmental heat and cold exposure - Sex: Both - Age: 15-49 years (Number)</th>\n",
       "      <th>Deaths - Diarrheal diseases - Sex: Both - Age: 15-49 years (Number)</th>\n",
       "      <th>Deaths - Road injuries - Sex: Both - Age: 15-49 years (Number)</th>\n",
       "      <th>Deaths - Tuberculosis - Sex: Both - Age: 15-49 years (Number)</th>\n",
       "      <th>Deaths - HIV/AIDS - Sex: Both - Age: 15-49 years (Number)</th>\n",
       "      <th>Deaths - Alzheimer's disease and other dementias - Sex: Both - Age: 15-49 years (Number)</th>\n",
       "      <th>Deaths - Parkinson's disease - Sex: Both - Age: 15-49 years (Number)</th>\n",
       "      <th>Deaths - Acute hepatitis - Sex: Both - Age: 15-49 years (Number)</th>\n",
       "    </tr>\n",
       "  </thead>\n",
       "  <tbody>\n",
       "    <tr>\n",
       "      <th>0</th>\n",
       "      <td>2000</td>\n",
       "      <td>6.11</td>\n",
       "      <td>NaN</td>\n",
       "      <td>3285819</td>\n",
       "      <td>1945587</td>\n",
       "      <td>720695</td>\n",
       "      <td>565499</td>\n",
       "      <td>281273</td>\n",
       "      <td>6132367</td>\n",
       "      <td>3031997</td>\n",
       "      <td>...</td>\n",
       "      <td>171968</td>\n",
       "      <td>24903</td>\n",
       "      <td>152985</td>\n",
       "      <td>1086862</td>\n",
       "      <td>4162968</td>\n",
       "      <td>3319776</td>\n",
       "      <td>5741129</td>\n",
       "      <td>17452</td>\n",
       "      <td>11668</td>\n",
       "      <td>260950</td>\n",
       "    </tr>\n",
       "    <tr>\n",
       "      <th>1</th>\n",
       "      <td>2001</td>\n",
       "      <td>6.19</td>\n",
       "      <td>NaN</td>\n",
       "      <td>3185529</td>\n",
       "      <td>1948837</td>\n",
       "      <td>709725</td>\n",
       "      <td>570461</td>\n",
       "      <td>281125</td>\n",
       "      <td>6112694</td>\n",
       "      <td>3047784</td>\n",
       "      <td>...</td>\n",
       "      <td>167976</td>\n",
       "      <td>86198</td>\n",
       "      <td>154479</td>\n",
       "      <td>1060135</td>\n",
       "      <td>4201757</td>\n",
       "      <td>3246538</td>\n",
       "      <td>6163738</td>\n",
       "      <td>17833</td>\n",
       "      <td>11696</td>\n",
       "      <td>251708</td>\n",
       "    </tr>\n",
       "    <tr>\n",
       "      <th>2</th>\n",
       "      <td>2002</td>\n",
       "      <td>6.27</td>\n",
       "      <td>NaN</td>\n",
       "      <td>3102946</td>\n",
       "      <td>1994423</td>\n",
       "      <td>699325</td>\n",
       "      <td>607201</td>\n",
       "      <td>278631</td>\n",
       "      <td>6049512</td>\n",
       "      <td>3063247</td>\n",
       "      <td>...</td>\n",
       "      <td>163122</td>\n",
       "      <td>24511</td>\n",
       "      <td>161997</td>\n",
       "      <td>1026968</td>\n",
       "      <td>4239917</td>\n",
       "      <td>3174667</td>\n",
       "      <td>6523551</td>\n",
       "      <td>18188</td>\n",
       "      <td>11695</td>\n",
       "      <td>241055</td>\n",
       "    </tr>\n",
       "    <tr>\n",
       "      <th>3</th>\n",
       "      <td>2003</td>\n",
       "      <td>6.35</td>\n",
       "      <td>NaN</td>\n",
       "      <td>3050035</td>\n",
       "      <td>1929333</td>\n",
       "      <td>684262</td>\n",
       "      <td>626770</td>\n",
       "      <td>278728</td>\n",
       "      <td>5981826</td>\n",
       "      <td>3072866</td>\n",
       "      <td>...</td>\n",
       "      <td>105848</td>\n",
       "      <td>99385</td>\n",
       "      <td>161763</td>\n",
       "      <td>1000199</td>\n",
       "      <td>4267101</td>\n",
       "      <td>3092244</td>\n",
       "      <td>6792834</td>\n",
       "      <td>18354</td>\n",
       "      <td>11596</td>\n",
       "      <td>229997</td>\n",
       "    </tr>\n",
       "    <tr>\n",
       "      <th>4</th>\n",
       "      <td>2004</td>\n",
       "      <td>6.43</td>\n",
       "      <td>NaN</td>\n",
       "      <td>3038210</td>\n",
       "      <td>1902236</td>\n",
       "      <td>675432</td>\n",
       "      <td>628515</td>\n",
       "      <td>273554</td>\n",
       "      <td>5967031</td>\n",
       "      <td>3085480</td>\n",
       "      <td>...</td>\n",
       "      <td>101404</td>\n",
       "      <td>746942</td>\n",
       "      <td>153022</td>\n",
       "      <td>970600</td>\n",
       "      <td>4302507</td>\n",
       "      <td>3020175</td>\n",
       "      <td>6952485</td>\n",
       "      <td>18490</td>\n",
       "      <td>11617</td>\n",
       "      <td>223915</td>\n",
       "    </tr>\n",
       "  </tbody>\n",
       "</table>\n",
       "<p>5 rows × 29 columns</p>\n",
       "</div>"
      ],
      "text/plain": [
       "   Year   Population  Unnamed: 2  \\\n",
       "0  2000         6.11         NaN   \n",
       "1  2001         6.19         NaN   \n",
       "2  2002         6.27         NaN   \n",
       "3  2003         6.35         NaN   \n",
       "4  2004         6.43         NaN   \n",
       "\n",
       "   Deaths - Self-harm - Sex: Both - Age: 15-49 years (Number)  \\\n",
       "0                                            3285819            \n",
       "1                                            3185529            \n",
       "2                                            3102946            \n",
       "3                                            3050035            \n",
       "4                                            3038210            \n",
       "\n",
       "   Deaths - Interpersonal violence - Sex: Both - Age: 15-49 years (Number)  \\\n",
       "0                                            1945587                         \n",
       "1                                            1948837                         \n",
       "2                                            1994423                         \n",
       "3                                            1929333                         \n",
       "4                                            1902236                         \n",
       "\n",
       "   Deaths - Drowning - Sex: Both - Age: 15-49 years (Number)  \\\n",
       "0                                             720695           \n",
       "1                                             709725           \n",
       "2                                             699325           \n",
       "3                                             684262           \n",
       "4                                             675432           \n",
       "\n",
       "   Deaths - Malaria - Sex: Both - Age: 15-49 years (Number)  \\\n",
       "0                                             565499          \n",
       "1                                             570461          \n",
       "2                                             607201          \n",
       "3                                             626770          \n",
       "4                                             628515          \n",
       "\n",
       "   Deaths - Fire, heat, and hot substances - Sex: Both - Age: 15-49 years (Number)  \\\n",
       "0                                             281273                                 \n",
       "1                                             281125                                 \n",
       "2                                             278631                                 \n",
       "3                                             278728                                 \n",
       "4                                             273554                                 \n",
       "\n",
       "   Deaths - Neoplasms - Sex: Both - Age: 15-49 years (Number)  \\\n",
       "0                                            6132367            \n",
       "1                                            6112694            \n",
       "2                                            6049512            \n",
       "3                                            5981826            \n",
       "4                                            5967031            \n",
       "\n",
       "   Deaths - Digestive diseases - Sex: Both - Age: 15-49 years (Number)  ...  \\\n",
       "0                                            3031997                    ...   \n",
       "1                                            3047784                    ...   \n",
       "2                                            3063247                    ...   \n",
       "3                                            3072866                    ...   \n",
       "4                                            3085480                    ...   \n",
       "\n",
       "   Deaths - Protein-energy malnutrition - Sex: Both - Age: 15-49 years (Number)  \\\n",
       "0                                             171968                              \n",
       "1                                             167976                              \n",
       "2                                             163122                              \n",
       "3                                             105848                              \n",
       "4                                             101404                              \n",
       "\n",
       "   Deaths - Exposure to forces of nature - Sex: Both - Age: 15-49 years (Number)  \\\n",
       "0                                              24903                               \n",
       "1                                              86198                               \n",
       "2                                              24511                               \n",
       "3                                              99385                               \n",
       "4                                             746942                               \n",
       "\n",
       "   Deaths - Environmental heat and cold exposure - Sex: Both - Age: 15-49 years (Number)  \\\n",
       "0                                             152985                                       \n",
       "1                                             154479                                       \n",
       "2                                             161997                                       \n",
       "3                                             161763                                       \n",
       "4                                             153022                                       \n",
       "\n",
       "   Deaths - Diarrheal diseases - Sex: Both - Age: 15-49 years (Number)  \\\n",
       "0                                            1086862                     \n",
       "1                                            1060135                     \n",
       "2                                            1026968                     \n",
       "3                                            1000199                     \n",
       "4                                             970600                     \n",
       "\n",
       "   Deaths - Road injuries - Sex: Both - Age: 15-49 years (Number)  \\\n",
       "0                                            4162968                \n",
       "1                                            4201757                \n",
       "2                                            4239917                \n",
       "3                                            4267101                \n",
       "4                                            4302507                \n",
       "\n",
       "   Deaths - Tuberculosis - Sex: Both - Age: 15-49 years (Number)  \\\n",
       "0                                            3319776               \n",
       "1                                            3246538               \n",
       "2                                            3174667               \n",
       "3                                            3092244               \n",
       "4                                            3020175               \n",
       "\n",
       "   Deaths - HIV/AIDS - Sex: Both - Age: 15-49 years (Number)  \\\n",
       "0                                            5741129           \n",
       "1                                            6163738           \n",
       "2                                            6523551           \n",
       "3                                            6792834           \n",
       "4                                            6952485           \n",
       "\n",
       "   Deaths - Alzheimer's disease and other dementias - Sex: Both - Age: 15-49 years (Number)  \\\n",
       "0                                              17452                                          \n",
       "1                                              17833                                          \n",
       "2                                              18188                                          \n",
       "3                                              18354                                          \n",
       "4                                              18490                                          \n",
       "\n",
       "   Deaths - Parkinson's disease - Sex: Both - Age: 15-49 years (Number)  \\\n",
       "0                                              11668                      \n",
       "1                                              11696                      \n",
       "2                                              11695                      \n",
       "3                                              11596                      \n",
       "4                                              11617                      \n",
       "\n",
       "   Deaths - Acute hepatitis - Sex: Both - Age: 15-49 years (Number)  \n",
       "0                                             260950                 \n",
       "1                                             251708                 \n",
       "2                                             241055                 \n",
       "3                                             229997                 \n",
       "4                                             223915                 \n",
       "\n",
       "[5 rows x 29 columns]"
      ]
     },
     "execution_count": 128,
     "metadata": {},
     "output_type": "execute_result"
    }
   ],
   "source": [
    "merged_data = pd.merge(population_data, grouped1, on='Year', how='inner')\n",
    "merged_data.head()"
   ]
  },
  {
   "cell_type": "code",
   "execution_count": 129,
   "metadata": {},
   "outputs": [
    {
     "data": {
      "text/plain": [
       "Index(['Year', ' Population', 'Unnamed: 2',\n",
       "       'Deaths - Self-harm - Sex: Both - Age: 15-49 years (Number)',\n",
       "       'Deaths - Interpersonal violence - Sex: Both - Age: 15-49 years (Number)',\n",
       "       'Deaths - Drowning - Sex: Both - Age: 15-49 years (Number)',\n",
       "       'Deaths - Malaria - Sex: Both - Age: 15-49 years (Number)',\n",
       "       'Deaths - Fire, heat, and hot substances - Sex: Both - Age: 15-49 years (Number)',\n",
       "       'Deaths - Neoplasms - Sex: Both - Age: 15-49 years (Number)',\n",
       "       'Deaths - Digestive diseases - Sex: Both - Age: 15-49 years (Number)',\n",
       "       'Deaths - Cirrhosis and other chronic liver diseases - Sex: Both - Age: 15-49 years (Number)',\n",
       "       'Deaths - Chronic respiratory diseases - Sex: Both - Age: 15-49 years (Number)',\n",
       "       'Deaths - Chronic kidney disease - Sex: Both - Age: 15-49 years (Number)',\n",
       "       'Deaths - Cardiovascular diseases - Sex: Both - Age: 15-49 years (Number)',\n",
       "       'Deaths - Drug use disorders - Sex: Both - Age: 15-49 years (Number)',\n",
       "       'Deaths - Nutritional deficiencies - Sex: Both - Age: 15-49 years (Number)',\n",
       "       'Deaths - Alcohol use disorders - Sex: Both - Age: 15-49 years (Number)',\n",
       "       'Deaths - Lower respiratory infections - Sex: Both - Age: 15-49 years (Number)',\n",
       "       'Deaths - Diabetes mellitus - Sex: Both - Age: 15-49 years (Number)',\n",
       "       'Deaths - Protein-energy malnutrition - Sex: Both - Age: 15-49 years (Number)',\n",
       "       'Deaths - Exposure to forces of nature - Sex: Both - Age: 15-49 years (Number)',\n",
       "       'Deaths - Environmental heat and cold exposure - Sex: Both - Age: 15-49 years (Number)',\n",
       "       'Deaths - Diarrheal diseases - Sex: Both - Age: 15-49 years (Number)',\n",
       "       'Deaths - Road injuries - Sex: Both - Age: 15-49 years (Number)',\n",
       "       'Deaths - Tuberculosis - Sex: Both - Age: 15-49 years (Number)',\n",
       "       'Deaths - HIV/AIDS - Sex: Both - Age: 15-49 years (Number)',\n",
       "       'Deaths - Alzheimer's disease and other dementias - Sex: Both - Age: 15-49 years (Number)',\n",
       "       'Deaths - Parkinson's disease - Sex: Both - Age: 15-49 years (Number)',\n",
       "       'Deaths - Acute hepatitis - Sex: Both - Age: 15-49 years (Number)'],\n",
       "      dtype='object')"
      ]
     },
     "execution_count": 129,
     "metadata": {},
     "output_type": "execute_result"
    }
   ],
   "source": [
    "merged_data.columns"
   ]
  },
  {
   "cell_type": "code",
   "execution_count": 130,
   "metadata": {},
   "outputs": [],
   "source": [
    "merged_data['death_percentage_self_harm'] = (merged_data['Deaths - Self-harm - Sex: Both - Age: 15-49 years (Number)'] / merged_data[' Population']) * 100"
   ]
  },
  {
   "cell_type": "code",
   "execution_count": 131,
   "metadata": {},
   "outputs": [
    {
     "data": {
      "text/plain": [
       "[<matplotlib.lines.Line2D at 0x272705876d0>]"
      ]
     },
     "execution_count": 131,
     "metadata": {},
     "output_type": "execute_result"
    },
    {
     "data": {
      "image/png": "[encoded data removed]",
      "text/plain": [
       "<Figure size 640x480 with 1 Axes>"
      ]
     },
     "metadata": {},
     "output_type": "display_data"
    }
   ],
   "source": [
    "plt.plot(merged_data['Year'],merged_data['death_percentage_self_harm'])"
   ]
  },
  {
   "cell_type": "code",
   "execution_count": 132,
   "metadata": {},
   "outputs": [
    {
     "data": {
      "text/plain": [
       "4560"
      ]
     },
     "execution_count": 132,
     "metadata": {},
     "output_type": "execute_result"
    }
   ],
   "source": [
    "len(causes[causes.columns[3]])"
   ]
  },
  {
   "cell_type": "code",
   "execution_count": 133,
   "metadata": {},
   "outputs": [
    {
     "data": {
      "text/plain": [
       "<Axes: ylabel='Deaths - Self-harm - Sex: Both - Age: 15-49 years (Number)'>"
      ]
     },
     "execution_count": 133,
     "metadata": {},
     "output_type": "execute_result"
    },
    {
     "data": {
      "image/png": "[encoded data removed]",
      "text/plain": [
       "<Figure size 640x480 with 1 Axes>"
      ]
     },
     "metadata": {},
     "output_type": "display_data"
    }
   ],
   "source": [
    "sns.boxplot(causes[causes.columns[3]])"
   ]
  },
  {
   "cell_type": "code",
   "execution_count": 134,
   "metadata": {},
   "outputs": [
    {
     "data": {
      "text/plain": [
       "(3019, 29)"
      ]
     },
     "execution_count": 134,
     "metadata": {},
     "output_type": "execute_result"
    }
   ],
   "source": [
    "self_harm_filtered = causes[causes[causes.columns[3]] <= 1000]\n",
    "self_harm_filtered.shape"
   ]
  },
  {
   "cell_type": "code",
   "execution_count": 135,
   "metadata": {},
   "outputs": [
    {
     "data": {
      "text/plain": [
       "<Axes: ylabel='Deaths - Self-harm - Sex: Both - Age: 15-49 years (Number)'>"
      ]
     },
     "execution_count": 135,
     "metadata": {},
     "output_type": "execute_result"
    },
    {
     "data": {
      "image/png": "[encoded data removed]",
      "text/plain": [
       "<Figure size 640x480 with 1 Axes>"
      ]
     },
     "metadata": {},
     "output_type": "display_data"
    }
   ],
   "source": [
    "sns.boxplot(self_harm_filtered[causes.columns[3]])"
   ]
  },
  {
   "cell_type": "code",
   "execution_count": 136,
   "metadata": {},
   "outputs": [
    {
     "data": {
      "text/html": [
       "<div>\n",
       "<style scoped>\n",
       "    .dataframe tbody tr th:only-of-type {\n",
       "        vertical-align: middle;\n",
       "    }\n",
       "\n",
       "    .dataframe tbody tr th {\n",
       "        vertical-align: top;\n",
       "    }\n",
       "\n",
       "    .dataframe thead th {\n",
       "        text-align: right;\n",
       "    }\n",
       "</style>\n",
       "<table border=\"1\" class=\"dataframe\">\n",
       "  <thead>\n",
       "    <tr style=\"text-align: right;\">\n",
       "      <th></th>\n",
       "      <th>Entity</th>\n",
       "      <th>Code</th>\n",
       "      <th>Year</th>\n",
       "      <th>Deaths - Self-harm - Sex: Both - Age: 15-49 years (Number)</th>\n",
       "      <th>Deaths - Interpersonal violence - Sex: Both - Age: 15-49 years (Number)</th>\n",
       "      <th>Deaths - Drowning - Sex: Both - Age: 15-49 years (Number)</th>\n",
       "      <th>Deaths - Malaria - Sex: Both - Age: 15-49 years (Number)</th>\n",
       "      <th>Deaths - Fire, heat, and hot substances - Sex: Both - Age: 15-49 years (Number)</th>\n",
       "      <th>Deaths - Neoplasms - Sex: Both - Age: 15-49 years (Number)</th>\n",
       "      <th>Deaths - Digestive diseases - Sex: Both - Age: 15-49 years (Number)</th>\n",
       "      <th>...</th>\n",
       "      <th>Deaths - Protein-energy malnutrition - Sex: Both - Age: 15-49 years (Number)</th>\n",
       "      <th>Deaths - Exposure to forces of nature - Sex: Both - Age: 15-49 years (Number)</th>\n",
       "      <th>Deaths - Environmental heat and cold exposure - Sex: Both - Age: 15-49 years (Number)</th>\n",
       "      <th>Deaths - Diarrheal diseases - Sex: Both - Age: 15-49 years (Number)</th>\n",
       "      <th>Deaths - Road injuries - Sex: Both - Age: 15-49 years (Number)</th>\n",
       "      <th>Deaths - Tuberculosis - Sex: Both - Age: 15-49 years (Number)</th>\n",
       "      <th>Deaths - HIV/AIDS - Sex: Both - Age: 15-49 years (Number)</th>\n",
       "      <th>Deaths - Alzheimer's disease and other dementias - Sex: Both - Age: 15-49 years (Number)</th>\n",
       "      <th>Deaths - Parkinson's disease - Sex: Both - Age: 15-49 years (Number)</th>\n",
       "      <th>Deaths - Acute hepatitis - Sex: Both - Age: 15-49 years (Number)</th>\n",
       "    </tr>\n",
       "  </thead>\n",
       "  <tbody>\n",
       "    <tr>\n",
       "      <th>10</th>\n",
       "      <td>Afghanistan</td>\n",
       "      <td>AFG</td>\n",
       "      <td>2000</td>\n",
       "      <td>886</td>\n",
       "      <td>2303</td>\n",
       "      <td>406</td>\n",
       "      <td>127</td>\n",
       "      <td>144</td>\n",
       "      <td>2999</td>\n",
       "      <td>1093</td>\n",
       "      <td>...</td>\n",
       "      <td>237</td>\n",
       "      <td>0</td>\n",
       "      <td>40</td>\n",
       "      <td>72</td>\n",
       "      <td>3751</td>\n",
       "      <td>1916</td>\n",
       "      <td>51</td>\n",
       "      <td>5</td>\n",
       "      <td>11</td>\n",
       "      <td>950</td>\n",
       "    </tr>\n",
       "    <tr>\n",
       "      <th>11</th>\n",
       "      <td>Afghanistan</td>\n",
       "      <td>AFG</td>\n",
       "      <td>2001</td>\n",
       "      <td>927</td>\n",
       "      <td>2397</td>\n",
       "      <td>427</td>\n",
       "      <td>103</td>\n",
       "      <td>149</td>\n",
       "      <td>3136</td>\n",
       "      <td>1133</td>\n",
       "      <td>...</td>\n",
       "      <td>244</td>\n",
       "      <td>2</td>\n",
       "      <td>184</td>\n",
       "      <td>75</td>\n",
       "      <td>3907</td>\n",
       "      <td>1983</td>\n",
       "      <td>56</td>\n",
       "      <td>5</td>\n",
       "      <td>11</td>\n",
       "      <td>985</td>\n",
       "    </tr>\n",
       "    <tr>\n",
       "      <th>12</th>\n",
       "      <td>Afghanistan</td>\n",
       "      <td>AFG</td>\n",
       "      <td>2002</td>\n",
       "      <td>935</td>\n",
       "      <td>2662</td>\n",
       "      <td>429</td>\n",
       "      <td>1415</td>\n",
       "      <td>148</td>\n",
       "      <td>3214</td>\n",
       "      <td>1147</td>\n",
       "      <td>...</td>\n",
       "      <td>233</td>\n",
       "      <td>534</td>\n",
       "      <td>42</td>\n",
       "      <td>72</td>\n",
       "      <td>3953</td>\n",
       "      <td>1936</td>\n",
       "      <td>62</td>\n",
       "      <td>5</td>\n",
       "      <td>11</td>\n",
       "      <td>986</td>\n",
       "    </tr>\n",
       "    <tr>\n",
       "      <th>13</th>\n",
       "      <td>Afghanistan</td>\n",
       "      <td>AFG</td>\n",
       "      <td>2003</td>\n",
       "      <td>978</td>\n",
       "      <td>2796</td>\n",
       "      <td>450</td>\n",
       "      <td>1067</td>\n",
       "      <td>155</td>\n",
       "      <td>3411</td>\n",
       "      <td>1204</td>\n",
       "      <td>...</td>\n",
       "      <td>237</td>\n",
       "      <td>58</td>\n",
       "      <td>44</td>\n",
       "      <td>73</td>\n",
       "      <td>4164</td>\n",
       "      <td>1935</td>\n",
       "      <td>67</td>\n",
       "      <td>5</td>\n",
       "      <td>11</td>\n",
       "      <td>1013</td>\n",
       "    </tr>\n",
       "    <tr>\n",
       "      <th>70</th>\n",
       "      <td>Albania</td>\n",
       "      <td>ALB</td>\n",
       "      <td>2000</td>\n",
       "      <td>112</td>\n",
       "      <td>251</td>\n",
       "      <td>39</td>\n",
       "      <td>0</td>\n",
       "      <td>7</td>\n",
       "      <td>462</td>\n",
       "      <td>59</td>\n",
       "      <td>...</td>\n",
       "      <td>1</td>\n",
       "      <td>0</td>\n",
       "      <td>3</td>\n",
       "      <td>1</td>\n",
       "      <td>155</td>\n",
       "      <td>4</td>\n",
       "      <td>1</td>\n",
       "      <td>2</td>\n",
       "      <td>1</td>\n",
       "      <td>0</td>\n",
       "    </tr>\n",
       "    <tr>\n",
       "      <th>...</th>\n",
       "      <td>...</td>\n",
       "      <td>...</td>\n",
       "      <td>...</td>\n",
       "      <td>...</td>\n",
       "      <td>...</td>\n",
       "      <td>...</td>\n",
       "      <td>...</td>\n",
       "      <td>...</td>\n",
       "      <td>...</td>\n",
       "      <td>...</td>\n",
       "      <td>...</td>\n",
       "      <td>...</td>\n",
       "      <td>...</td>\n",
       "      <td>...</td>\n",
       "      <td>...</td>\n",
       "      <td>...</td>\n",
       "      <td>...</td>\n",
       "      <td>...</td>\n",
       "      <td>...</td>\n",
       "      <td>...</td>\n",
       "      <td>...</td>\n",
       "    </tr>\n",
       "    <tr>\n",
       "      <th>6806</th>\n",
       "      <td>Zambia</td>\n",
       "      <td>ZMB</td>\n",
       "      <td>2016</td>\n",
       "      <td>775</td>\n",
       "      <td>1088</td>\n",
       "      <td>90</td>\n",
       "      <td>842</td>\n",
       "      <td>88</td>\n",
       "      <td>2271</td>\n",
       "      <td>2067</td>\n",
       "      <td>...</td>\n",
       "      <td>218</td>\n",
       "      <td>0</td>\n",
       "      <td>44</td>\n",
       "      <td>1235</td>\n",
       "      <td>1118</td>\n",
       "      <td>3740</td>\n",
       "      <td>16264</td>\n",
       "      <td>5</td>\n",
       "      <td>3</td>\n",
       "      <td>127</td>\n",
       "    </tr>\n",
       "    <tr>\n",
       "      <th>6807</th>\n",
       "      <td>Zambia</td>\n",
       "      <td>ZMB</td>\n",
       "      <td>2017</td>\n",
       "      <td>804</td>\n",
       "      <td>1122</td>\n",
       "      <td>94</td>\n",
       "      <td>784</td>\n",
       "      <td>90</td>\n",
       "      <td>2391</td>\n",
       "      <td>2171</td>\n",
       "      <td>...</td>\n",
       "      <td>223</td>\n",
       "      <td>0</td>\n",
       "      <td>45</td>\n",
       "      <td>1249</td>\n",
       "      <td>1147</td>\n",
       "      <td>3665</td>\n",
       "      <td>16073</td>\n",
       "      <td>6</td>\n",
       "      <td>4</td>\n",
       "      <td>128</td>\n",
       "    </tr>\n",
       "    <tr>\n",
       "      <th>6808</th>\n",
       "      <td>Zambia</td>\n",
       "      <td>ZMB</td>\n",
       "      <td>2018</td>\n",
       "      <td>826</td>\n",
       "      <td>1165</td>\n",
       "      <td>95</td>\n",
       "      <td>892</td>\n",
       "      <td>92</td>\n",
       "      <td>2492</td>\n",
       "      <td>2220</td>\n",
       "      <td>...</td>\n",
       "      <td>221</td>\n",
       "      <td>0</td>\n",
       "      <td>45</td>\n",
       "      <td>1221</td>\n",
       "      <td>1168</td>\n",
       "      <td>3542</td>\n",
       "      <td>15130</td>\n",
       "      <td>6</td>\n",
       "      <td>4</td>\n",
       "      <td>127</td>\n",
       "    </tr>\n",
       "    <tr>\n",
       "      <th>6809</th>\n",
       "      <td>Zambia</td>\n",
       "      <td>ZMB</td>\n",
       "      <td>2019</td>\n",
       "      <td>841</td>\n",
       "      <td>1197</td>\n",
       "      <td>96</td>\n",
       "      <td>901</td>\n",
       "      <td>94</td>\n",
       "      <td>2587</td>\n",
       "      <td>2269</td>\n",
       "      <td>...</td>\n",
       "      <td>220</td>\n",
       "      <td>2</td>\n",
       "      <td>45</td>\n",
       "      <td>1213</td>\n",
       "      <td>1186</td>\n",
       "      <td>3464</td>\n",
       "      <td>14234</td>\n",
       "      <td>6</td>\n",
       "      <td>4</td>\n",
       "      <td>126</td>\n",
       "    </tr>\n",
       "    <tr>\n",
       "      <th>6820</th>\n",
       "      <td>Zimbabwe</td>\n",
       "      <td>ZWE</td>\n",
       "      <td>2000</td>\n",
       "      <td>973</td>\n",
       "      <td>923</td>\n",
       "      <td>256</td>\n",
       "      <td>1292</td>\n",
       "      <td>148</td>\n",
       "      <td>1408</td>\n",
       "      <td>942</td>\n",
       "      <td>...</td>\n",
       "      <td>159</td>\n",
       "      <td>35</td>\n",
       "      <td>12</td>\n",
       "      <td>795</td>\n",
       "      <td>1472</td>\n",
       "      <td>3622</td>\n",
       "      <td>71593</td>\n",
       "      <td>3</td>\n",
       "      <td>3</td>\n",
       "      <td>37</td>\n",
       "    </tr>\n",
       "  </tbody>\n",
       "</table>\n",
       "<p>3019 rows × 29 columns</p>\n",
       "</div>"
      ],
      "text/plain": [
       "           Entity Code  Year  \\\n",
       "10    Afghanistan  AFG  2000   \n",
       "11    Afghanistan  AFG  2001   \n",
       "12    Afghanistan  AFG  2002   \n",
       "13    Afghanistan  AFG  2003   \n",
       "70        Albania  ALB  2000   \n",
       "...           ...  ...   ...   \n",
       "6806       Zambia  ZMB  2016   \n",
       "6807       Zambia  ZMB  2017   \n",
       "6808       Zambia  ZMB  2018   \n",
       "6809       Zambia  ZMB  2019   \n",
       "6820     Zimbabwe  ZWE  2000   \n",
       "\n",
       "      Deaths - Self-harm - Sex: Both - Age: 15-49 years (Number)  \\\n",
       "10                                                  886            \n",
       "11                                                  927            \n",
       "12                                                  935            \n",
       "13                                                  978            \n",
       "70                                                  112            \n",
       "...                                                 ...            \n",
       "6806                                                775            \n",
       "6807                                                804            \n",
       "6808                                                826            \n",
       "6809                                                841            \n",
       "6820                                                973            \n",
       "\n",
       "      Deaths - Interpersonal violence - Sex: Both - Age: 15-49 years (Number)  \\\n",
       "10                                                 2303                         \n",
       "11                                                 2397                         \n",
       "12                                                 2662                         \n",
       "13                                                 2796                         \n",
       "70                                                  251                         \n",
       "...                                                 ...                         \n",
       "6806                                               1088                         \n",
       "6807                                               1122                         \n",
       "6808                                               1165                         \n",
       "6809                                               1197                         \n",
       "6820                                                923                         \n",
       "\n",
       "      Deaths - Drowning - Sex: Both - Age: 15-49 years (Number)  \\\n",
       "10                                                  406           \n",
       "11                                                  427           \n",
       "12                                                  429           \n",
       "13                                                  450           \n",
       "70                                                   39           \n",
       "...                                                 ...           \n",
       "6806                                                 90           \n",
       "6807                                                 94           \n",
       "6808                                                 95           \n",
       "6809                                                 96           \n",
       "6820                                                256           \n",
       "\n",
       "      Deaths - Malaria - Sex: Both - Age: 15-49 years (Number)  \\\n",
       "10                                                  127          \n",
       "11                                                  103          \n",
       "12                                                 1415          \n",
       "13                                                 1067          \n",
       "70                                                    0          \n",
       "...                                                 ...          \n",
       "6806                                                842          \n",
       "6807                                                784          \n",
       "6808                                                892          \n",
       "6809                                                901          \n",
       "6820                                               1292          \n",
       "\n",
       "      Deaths - Fire, heat, and hot substances - Sex: Both - Age: 15-49 years (Number)  \\\n",
       "10                                                  144                                 \n",
       "11                                                  149                                 \n",
       "12                                                  148                                 \n",
       "13                                                  155                                 \n",
       "70                                                    7                                 \n",
       "...                                                 ...                                 \n",
       "6806                                                 88                                 \n",
       "6807                                                 90                                 \n",
       "6808                                                 92                                 \n",
       "6809                                                 94                                 \n",
       "6820                                                148                                 \n",
       "\n",
       "      Deaths - Neoplasms - Sex: Both - Age: 15-49 years (Number)  \\\n",
       "10                                                 2999            \n",
       "11                                                 3136            \n",
       "12                                                 3214            \n",
       "13                                                 3411            \n",
       "70                                                  462            \n",
       "...                                                 ...            \n",
       "6806                                               2271            \n",
       "6807                                               2391            \n",
       "6808                                               2492            \n",
       "6809                                               2587            \n",
       "6820                                               1408            \n",
       "\n",
       "      Deaths - Digestive diseases - Sex: Both - Age: 15-49 years (Number)  \\\n",
       "10                                                 1093                     \n",
       "11                                                 1133                     \n",
       "12                                                 1147                     \n",
       "13                                                 1204                     \n",
       "70                                                   59                     \n",
       "...                                                 ...                     \n",
       "6806                                               2067                     \n",
       "6807                                               2171                     \n",
       "6808                                               2220                     \n",
       "6809                                               2269                     \n",
       "6820                                                942                     \n",
       "\n",
       "      ...  \\\n",
       "10    ...   \n",
       "11    ...   \n",
       "12    ...   \n",
       "13    ...   \n",
       "70    ...   \n",
       "...   ...   \n",
       "6806  ...   \n",
       "6807  ...   \n",
       "6808  ...   \n",
       "6809  ...   \n",
       "6820  ...   \n",
       "\n",
       "      Deaths - Protein-energy malnutrition - Sex: Both - Age: 15-49 years (Number)  \\\n",
       "10                                                  237                              \n",
       "11                                                  244                              \n",
       "12                                                  233                              \n",
       "13                                                  237                              \n",
       "70                                                    1                              \n",
       "...                                                 ...                              \n",
       "6806                                                218                              \n",
       "6807                                                223                              \n",
       "6808                                                221                              \n",
       "6809                                                220                              \n",
       "6820                                                159                              \n",
       "\n",
       "      Deaths - Exposure to forces of nature - Sex: Both - Age: 15-49 years (Number)  \\\n",
       "10                                                    0                               \n",
       "11                                                    2                               \n",
       "12                                                  534                               \n",
       "13                                                   58                               \n",
       "70                                                    0                               \n",
       "...                                                 ...                               \n",
       "6806                                                  0                               \n",
       "6807                                                  0                               \n",
       "6808                                                  0                               \n",
       "6809                                                  2                               \n",
       "6820                                                 35                               \n",
       "\n",
       "      Deaths - Environmental heat and cold exposure - Sex: Both - Age: 15-49 years (Number)  \\\n",
       "10                                                   40                                       \n",
       "11                                                  184                                       \n",
       "12                                                   42                                       \n",
       "13                                                   44                                       \n",
       "70                                                    3                                       \n",
       "...                                                 ...                                       \n",
       "6806                                                 44                                       \n",
       "6807                                                 45                                       \n",
       "6808                                                 45                                       \n",
       "6809                                                 45                                       \n",
       "6820                                                 12                                       \n",
       "\n",
       "      Deaths - Diarrheal diseases - Sex: Both - Age: 15-49 years (Number)  \\\n",
       "10                                                   72                     \n",
       "11                                                   75                     \n",
       "12                                                   72                     \n",
       "13                                                   73                     \n",
       "70                                                    1                     \n",
       "...                                                 ...                     \n",
       "6806                                               1235                     \n",
       "6807                                               1249                     \n",
       "6808                                               1221                     \n",
       "6809                                               1213                     \n",
       "6820                                                795                     \n",
       "\n",
       "      Deaths - Road injuries - Sex: Both - Age: 15-49 years (Number)  \\\n",
       "10                                                 3751                \n",
       "11                                                 3907                \n",
       "12                                                 3953                \n",
       "13                                                 4164                \n",
       "70                                                  155                \n",
       "...                                                 ...                \n",
       "6806                                               1118                \n",
       "6807                                               1147                \n",
       "6808                                               1168                \n",
       "6809                                               1186                \n",
       "6820                                               1472                \n",
       "\n",
       "      Deaths - Tuberculosis - Sex: Both - Age: 15-49 years (Number)  \\\n",
       "10                                                 1916               \n",
       "11                                                 1983               \n",
       "12                                                 1936               \n",
       "13                                                 1935               \n",
       "70                                                    4               \n",
       "...                                                 ...               \n",
       "6806                                               3740               \n",
       "6807                                               3665               \n",
       "6808                                               3542               \n",
       "6809                                               3464               \n",
       "6820                                               3622               \n",
       "\n",
       "      Deaths - HIV/AIDS - Sex: Both - Age: 15-49 years (Number)  \\\n",
       "10                                                   51           \n",
       "11                                                   56           \n",
       "12                                                   62           \n",
       "13                                                   67           \n",
       "70                                                    1           \n",
       "...                                                 ...           \n",
       "6806                                              16264           \n",
       "6807                                              16073           \n",
       "6808                                              15130           \n",
       "6809                                              14234           \n",
       "6820                                              71593           \n",
       "\n",
       "      Deaths - Alzheimer's disease and other dementias - Sex: Both - Age: 15-49 years (Number)  \\\n",
       "10                                                    5                                          \n",
       "11                                                    5                                          \n",
       "12                                                    5                                          \n",
       "13                                                    5                                          \n",
       "70                                                    2                                          \n",
       "...                                                 ...                                          \n",
       "6806                                                  5                                          \n",
       "6807                                                  6                                          \n",
       "6808                                                  6                                          \n",
       "6809                                                  6                                          \n",
       "6820                                                  3                                          \n",
       "\n",
       "      Deaths - Parkinson's disease - Sex: Both - Age: 15-49 years (Number)  \\\n",
       "10                                                   11                      \n",
       "11                                                   11                      \n",
       "12                                                   11                      \n",
       "13                                                   11                      \n",
       "70                                                    1                      \n",
       "...                                                 ...                      \n",
       "6806                                                  3                      \n",
       "6807                                                  4                      \n",
       "6808                                                  4                      \n",
       "6809                                                  4                      \n",
       "6820                                                  3                      \n",
       "\n",
       "      Deaths - Acute hepatitis - Sex: Both - Age: 15-49 years (Number)  \n",
       "10                                                  950                 \n",
       "11                                                  985                 \n",
       "12                                                  986                 \n",
       "13                                                 1013                 \n",
       "70                                                    0                 \n",
       "...                                                 ...                 \n",
       "6806                                                127                 \n",
       "6807                                                128                 \n",
       "6808                                                127                 \n",
       "6809                                                126                 \n",
       "6820                                                 37                 \n",
       "\n",
       "[3019 rows x 29 columns]"
      ]
     },
     "execution_count": 136,
     "metadata": {},
     "output_type": "execute_result"
    }
   ],
   "source": [
    "self_harm_filtered"
   ]
  },
  {
   "cell_type": "code",
   "execution_count": 137,
   "metadata": {},
   "outputs": [
    {
     "data": {
      "text/html": [
       "<div>\n",
       "<style scoped>\n",
       "    .dataframe tbody tr th:only-of-type {\n",
       "        vertical-align: middle;\n",
       "    }\n",
       "\n",
       "    .dataframe tbody tr th {\n",
       "        vertical-align: top;\n",
       "    }\n",
       "\n",
       "    .dataframe thead th {\n",
       "        text-align: right;\n",
       "    }\n",
       "</style>\n",
       "<table border=\"1\" class=\"dataframe\">\n",
       "  <thead>\n",
       "    <tr style=\"text-align: right;\">\n",
       "      <th></th>\n",
       "      <th>Entity</th>\n",
       "      <th>Year</th>\n",
       "      <th>deaths_self_harm</th>\n",
       "    </tr>\n",
       "  </thead>\n",
       "  <tbody>\n",
       "    <tr>\n",
       "      <th>0</th>\n",
       "      <td>Afghanistan</td>\n",
       "      <td>2000</td>\n",
       "      <td>886</td>\n",
       "    </tr>\n",
       "    <tr>\n",
       "      <th>1</th>\n",
       "      <td>Afghanistan</td>\n",
       "      <td>2001</td>\n",
       "      <td>927</td>\n",
       "    </tr>\n",
       "    <tr>\n",
       "      <th>2</th>\n",
       "      <td>Afghanistan</td>\n",
       "      <td>2002</td>\n",
       "      <td>935</td>\n",
       "    </tr>\n",
       "    <tr>\n",
       "      <th>3</th>\n",
       "      <td>Afghanistan</td>\n",
       "      <td>2003</td>\n",
       "      <td>978</td>\n",
       "    </tr>\n",
       "    <tr>\n",
       "      <th>4</th>\n",
       "      <td>Albania</td>\n",
       "      <td>2000</td>\n",
       "      <td>112</td>\n",
       "    </tr>\n",
       "    <tr>\n",
       "      <th>...</th>\n",
       "      <td>...</td>\n",
       "      <td>...</td>\n",
       "      <td>...</td>\n",
       "    </tr>\n",
       "    <tr>\n",
       "      <th>3014</th>\n",
       "      <td>Zambia</td>\n",
       "      <td>2016</td>\n",
       "      <td>775</td>\n",
       "    </tr>\n",
       "    <tr>\n",
       "      <th>3015</th>\n",
       "      <td>Zambia</td>\n",
       "      <td>2017</td>\n",
       "      <td>804</td>\n",
       "    </tr>\n",
       "    <tr>\n",
       "      <th>3016</th>\n",
       "      <td>Zambia</td>\n",
       "      <td>2018</td>\n",
       "      <td>826</td>\n",
       "    </tr>\n",
       "    <tr>\n",
       "      <th>3017</th>\n",
       "      <td>Zambia</td>\n",
       "      <td>2019</td>\n",
       "      <td>841</td>\n",
       "    </tr>\n",
       "    <tr>\n",
       "      <th>3018</th>\n",
       "      <td>Zimbabwe</td>\n",
       "      <td>2000</td>\n",
       "      <td>973</td>\n",
       "    </tr>\n",
       "  </tbody>\n",
       "</table>\n",
       "<p>3019 rows × 3 columns</p>\n",
       "</div>"
      ],
      "text/plain": [
       "           Entity  Year  deaths_self_harm\n",
       "0     Afghanistan  2000               886\n",
       "1     Afghanistan  2001               927\n",
       "2     Afghanistan  2002               935\n",
       "3     Afghanistan  2003               978\n",
       "4         Albania  2000               112\n",
       "...           ...   ...               ...\n",
       "3014       Zambia  2016               775\n",
       "3015       Zambia  2017               804\n",
       "3016       Zambia  2018               826\n",
       "3017       Zambia  2019               841\n",
       "3018     Zimbabwe  2000               973\n",
       "\n",
       "[3019 rows x 3 columns]"
      ]
     },
     "execution_count": 137,
     "metadata": {},
     "output_type": "execute_result"
    }
   ],
   "source": [
    "grouped_data = self_harm_filtered.groupby(['Entity','Year']).agg(deaths_self_harm = pd.NamedAgg('Deaths - Self-harm - Sex: Both - Age: 15-49 years (Number)','sum')).reset_index()\n",
    "grouped_data"
   ]
  },
  {
   "cell_type": "code",
   "execution_count": 181,
   "metadata": {},
   "outputs": [
    {
     "data": {
      "application/vnd.plotly.v1+json": {
       "config": {
        "plotlyServerURL": "https://plot.ly"
       },
       "data": [
        {
         "hovertemplate": "Entity=Afghanistan<br>Year=%{x}<br>deaths_self_harm=%{y}<extra></extra>",
         "legendgroup": "Afghanistan",
         "line": {
          "color": "#636efa",
          "dash": "solid"
         },
         "marker": {
          "symbol": "circle"
         },
         "mode": "lines",
         "name": "Afghanistan",
         "showlegend": true,
         "type": "scattergl",
         "x": [
          2000,
          2001,
          2002,
          2003
         ],
         "xaxis": "x",
         "y": [
          886,
          927,
          935,
          978
         ],
         "yaxis": "y"
        },
        {
         "hovertemplate": "Entity=Albania<br>Year=%{x}<br>deaths_self_harm=%{y}<extra></extra>",
         "legendgroup": "Albania",
         "line": {
          "color": "#EF553B",
          "dash": "solid"
         },
         "marker": {
          "symbol": "circle"
         },
         "mode": "lines",
         "name": "Albania",
         "showlegend": true,
         "type": "scattergl",
         "x": [
          2000,
          2001,
          2002,
          2003,
          2004,
          2005,
          2006,
          2007,
          2008,
          2009,
          2010,
          2011,
          2012,
          2013,
          2014,
          2015,
          2016,
          2017,
          2018,
          2019
         ],
         "xaxis": "x",
         "y": [
          112,
          108,
          111,
          116,
          119,
          117,
          111,
          106,
          109,
          106,
          104,
          103,
          101,
          99,
          99,
          99,
          97,
          95,
          93,
          90
         ],
         "yaxis": "y"
        },
        {
         "hovertemplate": "Entity=American Samoa<br>Year=%{x}<br>deaths_self_harm=%{y}<extra></extra>",
         "legendgroup": "American Samoa",
         "line": {
          "color": "#00cc96",
          "dash": "solid"
         },
         "marker": {
          "symbol": "circle"
         },
         "mode": "lines",
         "name": "American Samoa",
         "showlegend": true,
         "type": "scattergl",
         "x": [
          2000,
          2001,
          2002,
          2003,
          2004,
          2005,
          2006,
          2007,
          2008,
          2009,
          2010,
          2011,
          2012,
          2013,
          2014,
          2015,
          2016,
          2017,
          2018,
          2019
         ],
         "xaxis": "x",
         "y": [
          3,
          3,
          3,
          3,
          3,
          3,
          2,
          2,
          2,
          2,
          3,
          3,
          3,
          3,
          3,
          3,
          3,
          3,
          3,
          3
         ],
         "yaxis": "y"
        },
        {
         "hovertemplate": "Entity=Andorra<br>Year=%{x}<br>deaths_self_harm=%{y}<extra></extra>",
         "legendgroup": "Andorra",
         "line": {
          "color": "#ab63fa",
          "dash": "solid"
         },
         "marker": {
          "symbol": "circle"
         },
         "mode": "lines",
         "name": "Andorra",
         "showlegend": true,
         "type": "scattergl",
         "x": [
          2000,
          2001,
          2002,
          2003,
          2004,
          2005,
          2006,
          2007,
          2008,
          2009,
          2010,
          2011,
          2012,
          2013,
          2014,
          2015,
          2016,
          2017,
          2018,
          2019
         ],
         "xaxis": "x",
         "y": [
          4,
          4,
          4,
          4,
          4,
          4,
          5,
          5,
          5,
          4,
          4,
          4,
          4,
          4,
          4,
          4,
          4,
          4,
          4,
          4
         ],
         "yaxis": "y"
        },
        {
         "hovertemplate": "Entity=Angola<br>Year=%{x}<br>deaths_self_harm=%{y}<extra></extra>",
         "legendgroup": "Angola",
         "line": {
          "color": "#FFA15A",
          "dash": "solid"
         },
         "marker": {
          "symbol": "circle"
         },
         "mode": "lines",
         "name": "Angola",
         "showlegend": true,
         "type": "scattergl",
         "x": [
          2000,
          2001,
          2002,
          2003,
          2004,
          2005,
          2006,
          2007,
          2008,
          2009,
          2010,
          2011,
          2012,
          2013,
          2014,
          2015,
          2016
         ],
         "xaxis": "x",
         "y": [
          678,
          682,
          678,
          699,
          735,
          734,
          756,
          770,
          791,
          823,
          851,
          878,
          904,
          922,
          920,
          941,
          955
         ],
         "yaxis": "y"
        },
        {
         "hovertemplate": "Entity=Antigua and Barbuda<br>Year=%{x}<br>deaths_self_harm=%{y}<extra></extra>",
         "legendgroup": "Antigua and Barbuda",
         "line": {
          "color": "#19d3f3",
          "dash": "solid"
         },
         "marker": {
          "symbol": "circle"
         },
         "mode": "lines",
         "name": "Antigua and Barbuda",
         "showlegend": true,
         "type": "scattergl",
         "x": [
          2000,
          2001,
          2002,
          2003,
          2004,
          2005,
          2006,
          2007,
          2008,
          2009,
          2010,
          2011,
          2012,
          2013,
          2014,
          2015,
          2016,
          2017,
          2018,
          2019
         ],
         "xaxis": "x",
         "y": [
          1,
          1,
          1,
          2,
          2,
          2,
          2,
          1,
          2,
          2,
          2,
          2,
          2,
          2,
          2,
          2,
          2,
          2,
          2,
          2
         ],
         "yaxis": "y"
        },
        {
         "hovertemplate": "Entity=Armenia<br>Year=%{x}<br>deaths_self_harm=%{y}<extra></extra>",
         "legendgroup": "Armenia",
         "line": {
          "color": "#FF6692",
          "dash": "solid"
         },
         "marker": {
          "symbol": "circle"
         },
         "mode": "lines",
         "name": "Armenia",
         "showlegend": true,
         "type": "scattergl",
         "x": [
          2000,
          2001,
          2002,
          2003,
          2004,
          2005,
          2006,
          2007,
          2008,
          2009,
          2010,
          2011,
          2012,
          2013,
          2014,
          2015,
          2016,
          2017,
          2018,
          2019
         ],
         "xaxis": "x",
         "y": [
          67,
          72,
          75,
          79,
          91,
          108,
          128,
          134,
          140,
          145,
          147,
          148,
          141,
          130,
          126,
          125,
          121,
          117,
          120,
          120
         ],
         "yaxis": "y"
        },
        {
         "hovertemplate": "Entity=Austria<br>Year=%{x}<br>deaths_self_harm=%{y}<extra></extra>",
         "legendgroup": "Austria",
         "line": {
          "color": "#B6E880",
          "dash": "solid"
         },
         "marker": {
          "symbol": "circle"
         },
         "mode": "lines",
         "name": "Austria",
         "showlegend": true,
         "type": "scattergl",
         "x": [
          2000,
          2001,
          2002,
          2003,
          2004,
          2005,
          2006,
          2007,
          2008,
          2009,
          2010,
          2011,
          2012,
          2013,
          2014,
          2015,
          2016,
          2017,
          2018,
          2019
         ],
         "xaxis": "x",
         "y": [
          738,
          716,
          704,
          681,
          661,
          645,
          623,
          609,
          591,
          599,
          599,
          583,
          562,
          543,
          542,
          540,
          530,
          522,
          521,
          515
         ],
         "yaxis": "y"
        },
        {
         "hovertemplate": "Entity=Azerbaijan<br>Year=%{x}<br>deaths_self_harm=%{y}<extra></extra>",
         "legendgroup": "Azerbaijan",
         "line": {
          "color": "#FF97FF",
          "dash": "solid"
         },
         "marker": {
          "symbol": "circle"
         },
         "mode": "lines",
         "name": "Azerbaijan",
         "showlegend": true,
         "type": "scattergl",
         "x": [
          2000,
          2001,
          2002,
          2003,
          2004,
          2005,
          2006,
          2007,
          2008,
          2009,
          2010,
          2011,
          2012,
          2013,
          2014,
          2015,
          2016,
          2017,
          2018,
          2019
         ],
         "xaxis": "x",
         "y": [
          169,
          191,
          203,
          224,
          247,
          268,
          280,
          294,
          288,
          283,
          283,
          279,
          269,
          263,
          255,
          242,
          231,
          229,
          237,
          238
         ],
         "yaxis": "y"
        },
        {
         "hovertemplate": "Entity=Bahamas<br>Year=%{x}<br>deaths_self_harm=%{y}<extra></extra>",
         "legendgroup": "Bahamas",
         "line": {
          "color": "#FECB52",
          "dash": "solid"
         },
         "marker": {
          "symbol": "circle"
         },
         "mode": "lines",
         "name": "Bahamas",
         "showlegend": true,
         "type": "scattergl",
         "x": [
          2000,
          2001,
          2002,
          2003,
          2004,
          2005,
          2006,
          2007,
          2008,
          2009,
          2010,
          2011,
          2012,
          2013,
          2014,
          2015,
          2016,
          2017,
          2018,
          2019
         ],
         "xaxis": "x",
         "y": [
          6,
          6,
          6,
          7,
          7,
          7,
          7,
          7,
          7,
          7,
          8,
          7,
          7,
          7,
          7,
          8,
          8,
          8,
          8,
          8
         ],
         "yaxis": "y"
        },
        {
         "hovertemplate": "Entity=Bahrain<br>Year=%{x}<br>deaths_self_harm=%{y}<extra></extra>",
         "legendgroup": "Bahrain",
         "line": {
          "color": "#636efa",
          "dash": "solid"
         },
         "marker": {
          "symbol": "circle"
         },
         "mode": "lines",
         "name": "Bahrain",
         "showlegend": true,
         "type": "scattergl",
         "x": [
          2000,
          2001,
          2002,
          2003,
          2004,
          2005,
          2006,
          2007,
          2008,
          2009,
          2010,
          2011,
          2012,
          2013,
          2014,
          2015,
          2016,
          2017,
          2018,
          2019
         ],
         "xaxis": "x",
         "y": [
          45,
          52,
          54,
          60,
          67,
          73,
          76,
          77,
          79,
          78,
          75,
          74,
          74,
          73,
          74,
          73,
          69,
          67,
          64,
          62
         ],
         "yaxis": "y"
        },
        {
         "hovertemplate": "Entity=Barbados<br>Year=%{x}<br>deaths_self_harm=%{y}<extra></extra>",
         "legendgroup": "Barbados",
         "line": {
          "color": "#EF553B",
          "dash": "solid"
         },
         "marker": {
          "symbol": "circle"
         },
         "mode": "lines",
         "name": "Barbados",
         "showlegend": true,
         "type": "scattergl",
         "x": [
          2000,
          2001,
          2002,
          2003,
          2004,
          2005,
          2006,
          2007,
          2008,
          2009,
          2010,
          2011,
          2012,
          2013,
          2014,
          2015,
          2016,
          2017,
          2018,
          2019
         ],
         "xaxis": "x",
         "y": [
          7,
          7,
          7,
          7,
          7,
          7,
          7,
          7,
          7,
          7,
          7,
          6,
          6,
          6,
          6,
          6,
          6,
          6,
          6,
          6
         ],
         "yaxis": "y"
        },
        {
         "hovertemplate": "Entity=Belgium<br>Year=%{x}<br>deaths_self_harm=%{y}<extra></extra>",
         "legendgroup": "Belgium",
         "line": {
          "color": "#00cc96",
          "dash": "solid"
         },
         "marker": {
          "symbol": "circle"
         },
         "mode": "lines",
         "name": "Belgium",
         "showlegend": true,
         "type": "scattergl",
         "x": [
          2016,
          2017,
          2018,
          2019
         ],
         "xaxis": "x",
         "y": [
          983,
          983,
          976,
          963
         ],
         "yaxis": "y"
        },
        {
         "hovertemplate": "Entity=Belize<br>Year=%{x}<br>deaths_self_harm=%{y}<extra></extra>",
         "legendgroup": "Belize",
         "line": {
          "color": "#ab63fa",
          "dash": "solid"
         },
         "marker": {
          "symbol": "circle"
         },
         "mode": "lines",
         "name": "Belize",
         "showlegend": true,
         "type": "scattergl",
         "x": [
          2000,
          2001,
          2002,
          2003,
          2004,
          2005,
          2006,
          2007,
          2008,
          2009,
          2010,
          2011,
          2012,
          2013,
          2014,
          2015,
          2016,
          2017,
          2018,
          2019
         ],
         "xaxis": "x",
         "y": [
          12,
          13,
          13,
          13,
          13,
          13,
          13,
          14,
          14,
          14,
          15,
          16,
          16,
          16,
          16,
          16,
          17,
          19,
          19,
          20
         ],
         "yaxis": "y"
        },
        {
         "hovertemplate": "Entity=Benin<br>Year=%{x}<br>deaths_self_harm=%{y}<extra></extra>",
         "legendgroup": "Benin",
         "line": {
          "color": "#FFA15A",
          "dash": "solid"
         },
         "marker": {
          "symbol": "circle"
         },
         "mode": "lines",
         "name": "Benin",
         "showlegend": true,
         "type": "scattergl",
         "x": [
          2000,
          2001,
          2002,
          2003,
          2004,
          2005,
          2006,
          2007,
          2008,
          2009,
          2010,
          2011,
          2012,
          2013,
          2014,
          2015,
          2016,
          2017,
          2018,
          2019
         ],
         "xaxis": "x",
         "y": [
          227,
          234,
          241,
          248,
          255,
          261,
          267,
          276,
          285,
          300,
          314,
          329,
          338,
          347,
          359,
          363,
          377,
          391,
          395,
          407
         ],
         "yaxis": "y"
        },
        {
         "hovertemplate": "Entity=Bermuda<br>Year=%{x}<br>deaths_self_harm=%{y}<extra></extra>",
         "legendgroup": "Bermuda",
         "line": {
          "color": "#19d3f3",
          "dash": "solid"
         },
         "marker": {
          "symbol": "circle"
         },
         "mode": "lines",
         "name": "Bermuda",
         "showlegend": true,
         "type": "scattergl",
         "x": [
          2000,
          2001,
          2002,
          2003,
          2004,
          2005,
          2006,
          2007,
          2008,
          2009,
          2010,
          2011,
          2012,
          2013,
          2014,
          2015,
          2016,
          2017,
          2018,
          2019
         ],
         "xaxis": "x",
         "y": [
          1,
          1,
          1,
          1,
          1,
          1,
          1,
          1,
          1,
          1,
          1,
          1,
          1,
          1,
          1,
          1,
          1,
          1,
          1,
          1
         ],
         "yaxis": "y"
        },
        {
         "hovertemplate": "Entity=Bhutan<br>Year=%{x}<br>deaths_self_harm=%{y}<extra></extra>",
         "legendgroup": "Bhutan",
         "line": {
          "color": "#FF6692",
          "dash": "solid"
         },
         "marker": {
          "symbol": "circle"
         },
         "mode": "lines",
         "name": "Bhutan",
         "showlegend": true,
         "type": "scattergl",
         "x": [
          2000,
          2001,
          2002,
          2003,
          2004,
          2005,
          2006,
          2007,
          2008,
          2009,
          2010,
          2011,
          2012,
          2013,
          2014,
          2015,
          2016,
          2017,
          2018,
          2019
         ],
         "xaxis": "x",
         "y": [
          26,
          25,
          24,
          24,
          24,
          24,
          23,
          23,
          24,
          24,
          24,
          25,
          25,
          25,
          25,
          25,
          25,
          25,
          25,
          24
         ],
         "yaxis": "y"
        },
        {
         "hovertemplate": "Entity=Bolivia<br>Year=%{x}<br>deaths_self_harm=%{y}<extra></extra>",
         "legendgroup": "Bolivia",
         "line": {
          "color": "#B6E880",
          "dash": "solid"
         },
         "marker": {
          "symbol": "circle"
         },
         "mode": "lines",
         "name": "Bolivia",
         "showlegend": true,
         "type": "scattergl",
         "x": [
          2000,
          2001,
          2002,
          2003,
          2004,
          2005,
          2006,
          2007,
          2008,
          2009,
          2010,
          2011,
          2012,
          2013,
          2014,
          2015,
          2016,
          2017,
          2018,
          2019
         ],
         "xaxis": "x",
         "y": [
          408,
          412,
          422,
          425,
          427,
          431,
          434,
          445,
          451,
          457,
          459,
          460,
          459,
          458,
          455,
          460,
          470,
          473,
          472,
          469
         ],
         "yaxis": "y"
        },
        {
         "hovertemplate": "Entity=Bosnia and Herzegovina<br>Year=%{x}<br>deaths_self_harm=%{y}<extra></extra>",
         "legendgroup": "Bosnia and Herzegovina",
         "line": {
          "color": "#FF97FF",
          "dash": "solid"
         },
         "marker": {
          "symbol": "circle"
         },
         "mode": "lines",
         "name": "Bosnia and Herzegovina",
         "showlegend": true,
         "type": "scattergl",
         "x": [
          2000,
          2001,
          2002,
          2003,
          2004,
          2005,
          2006,
          2007,
          2008,
          2009,
          2010,
          2011,
          2012,
          2013,
          2014,
          2015,
          2016,
          2017,
          2018,
          2019
         ],
         "xaxis": "x",
         "y": [
          244,
          247,
          249,
          243,
          236,
          242,
          233,
          245,
          223,
          210,
          197,
          189,
          179,
          177,
          171,
          171,
          164,
          157,
          153,
          149
         ],
         "yaxis": "y"
        },
        {
         "hovertemplate": "Entity=Botswana<br>Year=%{x}<br>deaths_self_harm=%{y}<extra></extra>",
         "legendgroup": "Botswana",
         "line": {
          "color": "#FECB52",
          "dash": "solid"
         },
         "marker": {
          "symbol": "circle"
         },
         "mode": "lines",
         "name": "Botswana",
         "showlegend": true,
         "type": "scattergl",
         "x": [
          2000,
          2001,
          2002,
          2003,
          2004,
          2005,
          2006,
          2007,
          2008,
          2009,
          2010,
          2011,
          2012,
          2013,
          2014,
          2015,
          2016,
          2017,
          2018,
          2019
         ],
         "xaxis": "x",
         "y": [
          306,
          314,
          322,
          318,
          309,
          296,
          292,
          282,
          285,
          286,
          291,
          293,
          290,
          288,
          286,
          288,
          286,
          290,
          295,
          294
         ],
         "yaxis": "y"
        },
        {
         "hovertemplate": "Entity=Brunei<br>Year=%{x}<br>deaths_self_harm=%{y}<extra></extra>",
         "legendgroup": "Brunei",
         "line": {
          "color": "#636efa",
          "dash": "solid"
         },
         "marker": {
          "symbol": "circle"
         },
         "mode": "lines",
         "name": "Brunei",
         "showlegend": true,
         "type": "scattergl",
         "x": [
          2000,
          2001,
          2002,
          2003,
          2004,
          2005,
          2006,
          2007,
          2008,
          2009,
          2010,
          2011,
          2012,
          2013,
          2014,
          2015,
          2016,
          2017,
          2018,
          2019
         ],
         "xaxis": "x",
         "y": [
          9,
          9,
          10,
          11,
          11,
          12,
          12,
          13,
          13,
          13,
          13,
          14,
          15,
          15,
          15,
          15,
          16,
          16,
          17,
          17
         ],
         "yaxis": "y"
        },
        {
         "hovertemplate": "Entity=Bulgaria<br>Year=%{x}<br>deaths_self_harm=%{y}<extra></extra>",
         "legendgroup": "Bulgaria",
         "line": {
          "color": "#EF553B",
          "dash": "solid"
         },
         "marker": {
          "symbol": "circle"
         },
         "mode": "lines",
         "name": "Bulgaria",
         "showlegend": true,
         "type": "scattergl",
         "x": [
          2000,
          2001,
          2002,
          2003,
          2004,
          2005,
          2006,
          2007,
          2008,
          2009,
          2010,
          2011,
          2012,
          2013,
          2014,
          2015,
          2016,
          2017,
          2018,
          2019
         ],
         "xaxis": "x",
         "y": [
          754,
          710,
          662,
          613,
          575,
          546,
          525,
          494,
          472,
          449,
          431,
          405,
          380,
          368,
          377,
          368,
          372,
          371,
          371,
          367
         ],
         "yaxis": "y"
        },
        {
         "hovertemplate": "Entity=Burkina Faso<br>Year=%{x}<br>deaths_self_harm=%{y}<extra></extra>",
         "legendgroup": "Burkina Faso",
         "line": {
          "color": "#00cc96",
          "dash": "solid"
         },
         "marker": {
          "symbol": "circle"
         },
         "mode": "lines",
         "name": "Burkina Faso",
         "showlegend": true,
         "type": "scattergl",
         "x": [
          2000,
          2001,
          2002,
          2003,
          2004,
          2005,
          2006,
          2007,
          2008,
          2009,
          2010,
          2011,
          2012,
          2013,
          2014,
          2015,
          2016,
          2017,
          2018,
          2019
         ],
         "xaxis": "x",
         "y": [
          363,
          374,
          384,
          401,
          419,
          435,
          443,
          454,
          457,
          470,
          497,
          511,
          554,
          590,
          630,
          658,
          701,
          736,
          763,
          765
         ],
         "yaxis": "y"
        },
        {
         "hovertemplate": "Entity=Burundi<br>Year=%{x}<br>deaths_self_harm=%{y}<extra></extra>",
         "legendgroup": "Burundi",
         "line": {
          "color": "#ab63fa",
          "dash": "solid"
         },
         "marker": {
          "symbol": "circle"
         },
         "mode": "lines",
         "name": "Burundi",
         "showlegend": true,
         "type": "scattergl",
         "x": [
          2000,
          2001,
          2002,
          2003,
          2004,
          2005,
          2006,
          2007,
          2008,
          2009,
          2010,
          2011,
          2012,
          2013,
          2014,
          2015,
          2016,
          2017,
          2018,
          2019
         ],
         "xaxis": "x",
         "y": [
          326,
          314,
          314,
          319,
          327,
          333,
          334,
          337,
          344,
          349,
          355,
          362,
          370,
          376,
          377,
          377,
          384,
          398,
          420,
          435
         ],
         "yaxis": "y"
        },
        {
         "hovertemplate": "Entity=Cambodia<br>Year=%{x}<br>deaths_self_harm=%{y}<extra></extra>",
         "legendgroup": "Cambodia",
         "line": {
          "color": "#FFA15A",
          "dash": "solid"
         },
         "marker": {
          "symbol": "circle"
         },
         "mode": "lines",
         "name": "Cambodia",
         "showlegend": true,
         "type": "scattergl",
         "x": [
          2000,
          2001,
          2002,
          2003,
          2004,
          2005,
          2006,
          2007,
          2008,
          2009,
          2010,
          2011,
          2012,
          2013,
          2014,
          2015,
          2016,
          2017,
          2018,
          2019
         ],
         "xaxis": "x",
         "y": [
          486,
          493,
          495,
          494,
          499,
          501,
          493,
          498,
          496,
          494,
          499,
          496,
          496,
          495,
          498,
          503,
          510,
          513,
          512,
          505
         ],
         "yaxis": "y"
        },
        {
         "hovertemplate": "Entity=Cameroon<br>Year=%{x}<br>deaths_self_harm=%{y}<extra></extra>",
         "legendgroup": "Cameroon",
         "line": {
          "color": "#19d3f3",
          "dash": "solid"
         },
         "marker": {
          "symbol": "circle"
         },
         "mode": "lines",
         "name": "Cameroon",
         "showlegend": true,
         "type": "scattergl",
         "x": [
          2000,
          2001,
          2002,
          2003,
          2004,
          2005,
          2006,
          2007,
          2008,
          2009,
          2010
         ],
         "xaxis": "x",
         "y": [
          650,
          686,
          720,
          757,
          787,
          824,
          854,
          894,
          918,
          955,
          990
         ],
         "yaxis": "y"
        },
        {
         "hovertemplate": "Entity=Cape Verde<br>Year=%{x}<br>deaths_self_harm=%{y}<extra></extra>",
         "legendgroup": "Cape Verde",
         "line": {
          "color": "#FF6692",
          "dash": "solid"
         },
         "marker": {
          "symbol": "circle"
         },
         "mode": "lines",
         "name": "Cape Verde",
         "showlegend": true,
         "type": "scattergl",
         "x": [
          2000,
          2001,
          2002,
          2003,
          2004,
          2005,
          2006,
          2007,
          2008,
          2009,
          2010,
          2011,
          2012,
          2013,
          2014,
          2015,
          2016,
          2017,
          2018,
          2019
         ],
         "xaxis": "x",
         "y": [
          37,
          38,
          40,
          42,
          44,
          46,
          46,
          48,
          48,
          50,
          51,
          52,
          52,
          53,
          54,
          54,
          55,
          54,
          44,
          43
         ],
         "yaxis": "y"
        },
        {
         "hovertemplate": "Entity=Central African Republic<br>Year=%{x}<br>deaths_self_harm=%{y}<extra></extra>",
         "legendgroup": "Central African Republic",
         "line": {
          "color": "#B6E880",
          "dash": "solid"
         },
         "marker": {
          "symbol": "circle"
         },
         "mode": "lines",
         "name": "Central African Republic",
         "showlegend": true,
         "type": "scattergl",
         "x": [
          2000,
          2001,
          2002,
          2003,
          2004,
          2005,
          2006,
          2007,
          2008,
          2009,
          2010,
          2011,
          2012,
          2013,
          2014,
          2015,
          2016,
          2017,
          2018,
          2019
         ],
         "xaxis": "x",
         "y": [
          263,
          267,
          276,
          281,
          285,
          289,
          296,
          299,
          298,
          307,
          325,
          336,
          331,
          334,
          329,
          331,
          336,
          341,
          344,
          344
         ],
         "yaxis": "y"
        },
        {
         "hovertemplate": "Entity=Chad<br>Year=%{x}<br>deaths_self_harm=%{y}<extra></extra>",
         "legendgroup": "Chad",
         "line": {
          "color": "#FF97FF",
          "dash": "solid"
         },
         "marker": {
          "symbol": "circle"
         },
         "mode": "lines",
         "name": "Chad",
         "showlegend": true,
         "type": "scattergl",
         "x": [
          2000,
          2001,
          2002,
          2003,
          2004,
          2005,
          2006,
          2007,
          2008,
          2009,
          2010,
          2011,
          2012,
          2013,
          2014,
          2015,
          2016,
          2017,
          2018,
          2019
         ],
         "xaxis": "x",
         "y": [
          274,
          287,
          295,
          314,
          320,
          329,
          336,
          352,
          363,
          371,
          388,
          398,
          405,
          411,
          421,
          429,
          444,
          461,
          481,
          500
         ],
         "yaxis": "y"
        },
        {
         "hovertemplate": "Entity=Comoros<br>Year=%{x}<br>deaths_self_harm=%{y}<extra></extra>",
         "legendgroup": "Comoros",
         "line": {
          "color": "#FECB52",
          "dash": "solid"
         },
         "marker": {
          "symbol": "circle"
         },
         "mode": "lines",
         "name": "Comoros",
         "showlegend": true,
         "type": "scattergl",
         "x": [
          2000,
          2001,
          2002,
          2003,
          2004,
          2005,
          2006,
          2007,
          2008,
          2009,
          2010,
          2011,
          2012,
          2013,
          2014,
          2015,
          2016,
          2017,
          2018,
          2019
         ],
         "xaxis": "x",
         "y": [
          15,
          15,
          15,
          14,
          12,
          14,
          11,
          15,
          15,
          13,
          11,
          12,
          12,
          13,
          20,
          20,
          20,
          20,
          19,
          19
         ],
         "yaxis": "y"
        },
        {
         "hovertemplate": "Entity=Congo<br>Year=%{x}<br>deaths_self_harm=%{y}<extra></extra>",
         "legendgroup": "Congo",
         "line": {
          "color": "#636efa",
          "dash": "solid"
         },
         "marker": {
          "symbol": "circle"
         },
         "mode": "lines",
         "name": "Congo",
         "showlegend": true,
         "type": "scattergl",
         "x": [
          2000,
          2001,
          2002,
          2003,
          2004,
          2005,
          2006,
          2007,
          2008,
          2009,
          2010,
          2011,
          2012,
          2013,
          2014,
          2015,
          2016,
          2017,
          2018,
          2019
         ],
         "xaxis": "x",
         "y": [
          195,
          179,
          173,
          181,
          183,
          187,
          189,
          193,
          195,
          198,
          198,
          194,
          201,
          204,
          206,
          207,
          209,
          213,
          219,
          224
         ],
         "yaxis": "y"
        },
        {
         "hovertemplate": "Entity=Cook Islands<br>Year=%{x}<br>deaths_self_harm=%{y}<extra></extra>",
         "legendgroup": "Cook Islands",
         "line": {
          "color": "#EF553B",
          "dash": "solid"
         },
         "marker": {
          "symbol": "circle"
         },
         "mode": "lines",
         "name": "Cook Islands",
         "showlegend": true,
         "type": "scattergl",
         "x": [
          2000,
          2001,
          2002,
          2003,
          2004,
          2005,
          2006,
          2007,
          2008,
          2009,
          2010,
          2011,
          2012,
          2013,
          2014,
          2015,
          2016,
          2017,
          2018,
          2019
         ],
         "xaxis": "x",
         "y": [
          2,
          2,
          2,
          2,
          2,
          2,
          2,
          1,
          1,
          1,
          1,
          1,
          1,
          1,
          1,
          1,
          1,
          1,
          1,
          1
         ],
         "yaxis": "y"
        },
        {
         "hovertemplate": "Entity=Costa Rica<br>Year=%{x}<br>deaths_self_harm=%{y}<extra></extra>",
         "legendgroup": "Costa Rica",
         "line": {
          "color": "#00cc96",
          "dash": "solid"
         },
         "marker": {
          "symbol": "circle"
         },
         "mode": "lines",
         "name": "Costa Rica",
         "showlegend": true,
         "type": "scattergl",
         "x": [
          2000,
          2001,
          2002,
          2003,
          2004,
          2005,
          2006,
          2007,
          2008,
          2009,
          2010,
          2011,
          2012,
          2013,
          2014,
          2015,
          2016,
          2017,
          2018,
          2019
         ],
         "xaxis": "x",
         "y": [
          209,
          213,
          229,
          242,
          252,
          231,
          255,
          229,
          231,
          226,
          250,
          242,
          244,
          241,
          234,
          253,
          277,
          286,
          274,
          270
         ],
         "yaxis": "y"
        },
        {
         "hovertemplate": "Entity=Cote d'Ivoire<br>Year=%{x}<br>deaths_self_harm=%{y}<extra></extra>",
         "legendgroup": "Cote d'Ivoire",
         "line": {
          "color": "#ab63fa",
          "dash": "solid"
         },
         "marker": {
          "symbol": "circle"
         },
         "mode": "lines",
         "name": "Cote d'Ivoire",
         "showlegend": true,
         "type": "scattergl",
         "x": [
          2000,
          2001,
          2002,
          2003,
          2004,
          2005,
          2006,
          2007,
          2008,
          2009,
          2010,
          2011,
          2012
         ],
         "xaxis": "x",
         "y": [
          859,
          883,
          894,
          914,
          922,
          921,
          923,
          926,
          922,
          938,
          958,
          977,
          1000
         ],
         "yaxis": "y"
        },
        {
         "hovertemplate": "Entity=Croatia<br>Year=%{x}<br>deaths_self_harm=%{y}<extra></extra>",
         "legendgroup": "Croatia",
         "line": {
          "color": "#FFA15A",
          "dash": "solid"
         },
         "marker": {
          "symbol": "circle"
         },
         "mode": "lines",
         "name": "Croatia",
         "showlegend": true,
         "type": "scattergl",
         "x": [
          2000,
          2001,
          2002,
          2003,
          2004,
          2005,
          2006,
          2007,
          2008,
          2009,
          2010,
          2011,
          2012,
          2013,
          2014,
          2015,
          2016,
          2017,
          2018,
          2019
         ],
         "xaxis": "x",
         "y": [
          424,
          405,
          387,
          373,
          344,
          344,
          324,
          320,
          322,
          296,
          276,
          266,
          266,
          252,
          244,
          239,
          220,
          215,
          218,
          216
         ],
         "yaxis": "y"
        },
        {
         "hovertemplate": "Entity=Cuba<br>Year=%{x}<br>deaths_self_harm=%{y}<extra></extra>",
         "legendgroup": "Cuba",
         "line": {
          "color": "#19d3f3",
          "dash": "solid"
         },
         "marker": {
          "symbol": "circle"
         },
         "mode": "lines",
         "name": "Cuba",
         "showlegend": true,
         "type": "scattergl",
         "x": [
          2001,
          2002,
          2003,
          2004,
          2005,
          2006,
          2007,
          2008,
          2009,
          2010,
          2011,
          2012,
          2013,
          2014,
          2015,
          2016,
          2017,
          2018,
          2019
         ],
         "xaxis": "x",
         "y": [
          948,
          851,
          814,
          778,
          763,
          704,
          686,
          680,
          685,
          685,
          644,
          658,
          634,
          610,
          605,
          586,
          587,
          575,
          568
         ],
         "yaxis": "y"
        },
        {
         "hovertemplate": "Entity=Cyprus<br>Year=%{x}<br>deaths_self_harm=%{y}<extra></extra>",
         "legendgroup": "Cyprus",
         "line": {
          "color": "#FF6692",
          "dash": "solid"
         },
         "marker": {
          "symbol": "circle"
         },
         "mode": "lines",
         "name": "Cyprus",
         "showlegend": true,
         "type": "scattergl",
         "x": [
          2000,
          2001,
          2002,
          2003,
          2004,
          2005,
          2006,
          2007,
          2008,
          2009,
          2010,
          2011,
          2012,
          2013,
          2014,
          2015,
          2016,
          2017,
          2018,
          2019
         ],
         "xaxis": "x",
         "y": [
          32,
          32,
          32,
          32,
          32,
          33,
          34,
          36,
          37,
          38,
          37,
          36,
          37,
          38,
          39,
          39,
          39,
          39,
          40,
          41
         ],
         "yaxis": "y"
        },
        {
         "hovertemplate": "Entity=Czechia<br>Year=%{x}<br>deaths_self_harm=%{y}<extra></extra>",
         "legendgroup": "Czechia",
         "line": {
          "color": "#B6E880",
          "dash": "solid"
         },
         "marker": {
          "symbol": "circle"
         },
         "mode": "lines",
         "name": "Czechia",
         "showlegend": true,
         "type": "scattergl",
         "x": [
          2000,
          2001,
          2002,
          2003,
          2004,
          2005,
          2006,
          2007,
          2008,
          2009,
          2010,
          2011,
          2012,
          2013,
          2014,
          2015,
          2016,
          2017,
          2018,
          2019
         ],
         "xaxis": "x",
         "y": [
          964,
          959,
          930,
          948,
          912,
          889,
          844,
          853,
          848,
          835,
          831,
          828,
          813,
          792,
          742,
          718,
          698,
          688,
          675,
          656
         ],
         "yaxis": "y"
        },
        {
         "hovertemplate": "Entity=Denmark<br>Year=%{x}<br>deaths_self_harm=%{y}<extra></extra>",
         "legendgroup": "Denmark",
         "line": {
          "color": "#FF97FF",
          "dash": "solid"
         },
         "marker": {
          "symbol": "circle"
         },
         "mode": "lines",
         "name": "Denmark",
         "showlegend": true,
         "type": "scattergl",
         "x": [
          2000,
          2001,
          2002,
          2003,
          2004,
          2005,
          2006,
          2007,
          2008,
          2009,
          2010,
          2011,
          2012,
          2013,
          2014,
          2015,
          2016,
          2017,
          2018,
          2019
         ],
         "xaxis": "x",
         "y": [
          420,
          397,
          389,
          372,
          359,
          331,
          327,
          326,
          316,
          305,
          290,
          281,
          272,
          260,
          255,
          249,
          250,
          250,
          250,
          248
         ],
         "yaxis": "y"
        },
        {
         "hovertemplate": "Entity=Djibouti<br>Year=%{x}<br>deaths_self_harm=%{y}<extra></extra>",
         "legendgroup": "Djibouti",
         "line": {
          "color": "#FECB52",
          "dash": "solid"
         },
         "marker": {
          "symbol": "circle"
         },
         "mode": "lines",
         "name": "Djibouti",
         "showlegend": true,
         "type": "scattergl",
         "x": [
          2000,
          2001,
          2002,
          2003,
          2004,
          2005,
          2006,
          2007,
          2008,
          2009,
          2010,
          2011,
          2012,
          2013,
          2014,
          2015,
          2016,
          2017,
          2018,
          2019
         ],
         "xaxis": "x",
         "y": [
          22,
          22,
          24,
          23,
          26,
          27,
          27,
          29,
          30,
          30,
          32,
          33,
          34,
          35,
          34,
          35,
          36,
          37,
          39,
          40
         ],
         "yaxis": "y"
        },
        {
         "hovertemplate": "Entity=Dominica<br>Year=%{x}<br>deaths_self_harm=%{y}<extra></extra>",
         "legendgroup": "Dominica",
         "line": {
          "color": "#636efa",
          "dash": "solid"
         },
         "marker": {
          "symbol": "circle"
         },
         "mode": "lines",
         "name": "Dominica",
         "showlegend": true,
         "type": "scattergl",
         "x": [
          2000,
          2001,
          2002,
          2003,
          2004,
          2005,
          2006,
          2007,
          2008,
          2009,
          2010,
          2011,
          2012,
          2013,
          2014,
          2015,
          2016,
          2017,
          2018,
          2019
         ],
         "xaxis": "x",
         "y": [
          2,
          2,
          2,
          2,
          2,
          2,
          2,
          2,
          2,
          2,
          2,
          2,
          2,
          2,
          2,
          2,
          2,
          2,
          2,
          2
         ],
         "yaxis": "y"
        },
        {
         "hovertemplate": "Entity=Dominican Republic<br>Year=%{x}<br>deaths_self_harm=%{y}<extra></extra>",
         "legendgroup": "Dominican Republic",
         "line": {
          "color": "#EF553B",
          "dash": "solid"
         },
         "marker": {
          "symbol": "circle"
         },
         "mode": "lines",
         "name": "Dominican Republic",
         "showlegend": true,
         "type": "scattergl",
         "x": [
          2000,
          2001,
          2002,
          2003,
          2004,
          2005,
          2006,
          2007,
          2008,
          2009,
          2010,
          2011,
          2012,
          2013,
          2014,
          2015,
          2016,
          2017,
          2018,
          2019
         ],
         "xaxis": "x",
         "y": [
          307,
          317,
          335,
          356,
          379,
          392,
          402,
          397,
          391,
          384,
          379,
          380,
          402,
          431,
          445,
          454,
          457,
          444,
          430,
          419
         ],
         "yaxis": "y"
        },
        {
         "hovertemplate": "Entity=East Timor<br>Year=%{x}<br>deaths_self_harm=%{y}<extra></extra>",
         "legendgroup": "East Timor",
         "line": {
          "color": "#00cc96",
          "dash": "solid"
         },
         "marker": {
          "symbol": "circle"
         },
         "mode": "lines",
         "name": "East Timor",
         "showlegend": true,
         "type": "scattergl",
         "x": [
          2000,
          2001,
          2002,
          2003,
          2004,
          2005,
          2006,
          2007,
          2008,
          2009,
          2010,
          2011,
          2012,
          2013,
          2014,
          2015,
          2016,
          2017,
          2018,
          2019
         ],
         "xaxis": "x",
         "y": [
          35,
          34,
          31,
          32,
          26,
          26,
          24,
          24,
          22,
          25,
          26,
          31,
          35,
          36,
          38,
          40,
          41,
          42,
          44,
          44
         ],
         "yaxis": "y"
        },
        {
         "hovertemplate": "Entity=Ecuador<br>Year=%{x}<br>deaths_self_harm=%{y}<extra></extra>",
         "legendgroup": "Ecuador",
         "line": {
          "color": "#ab63fa",
          "dash": "solid"
         },
         "marker": {
          "symbol": "circle"
         },
         "mode": "lines",
         "name": "Ecuador",
         "showlegend": true,
         "type": "scattergl",
         "x": [
          2000,
          2001,
          2002,
          2003,
          2004,
          2005
         ],
         "xaxis": "x",
         "y": [
          654,
          672,
          772,
          833,
          893,
          977
         ],
         "yaxis": "y"
        },
        {
         "hovertemplate": "Entity=El Salvador<br>Year=%{x}<br>deaths_self_harm=%{y}<extra></extra>",
         "legendgroup": "El Salvador",
         "line": {
          "color": "#FFA15A",
          "dash": "solid"
         },
         "marker": {
          "symbol": "circle"
         },
         "mode": "lines",
         "name": "El Salvador",
         "showlegend": true,
         "type": "scattergl",
         "x": [
          2000,
          2001,
          2002,
          2003,
          2004,
          2005,
          2006,
          2007,
          2008,
          2009,
          2010,
          2011,
          2012,
          2013,
          2014,
          2015,
          2016,
          2017,
          2018,
          2019
         ],
         "xaxis": "x",
         "y": [
          404,
          387,
          357,
          363,
          374,
          376,
          376,
          364,
          351,
          377,
          359,
          379,
          329,
          340,
          393,
          407,
          402,
          399,
          400,
          388
         ],
         "yaxis": "y"
        },
        {
         "hovertemplate": "Entity=Equatorial Guinea<br>Year=%{x}<br>deaths_self_harm=%{y}<extra></extra>",
         "legendgroup": "Equatorial Guinea",
         "line": {
          "color": "#19d3f3",
          "dash": "solid"
         },
         "marker": {
          "symbol": "circle"
         },
         "mode": "lines",
         "name": "Equatorial Guinea",
         "showlegend": true,
         "type": "scattergl",
         "x": [
          2000,
          2001,
          2002,
          2003,
          2004,
          2005,
          2006,
          2007,
          2008,
          2009,
          2010,
          2011,
          2012,
          2013,
          2014,
          2015,
          2016,
          2017,
          2018,
          2019
         ],
         "xaxis": "x",
         "y": [
          24,
          23,
          21,
          22,
          23,
          24,
          25,
          26,
          26,
          28,
          30,
          33,
          35,
          35,
          37,
          39,
          42,
          44,
          46,
          48
         ],
         "yaxis": "y"
        },
        {
         "hovertemplate": "Entity=Eritrea<br>Year=%{x}<br>deaths_self_harm=%{y}<extra></extra>",
         "legendgroup": "Eritrea",
         "line": {
          "color": "#FF6692",
          "dash": "solid"
         },
         "marker": {
          "symbol": "circle"
         },
         "mode": "lines",
         "name": "Eritrea",
         "showlegend": true,
         "type": "scattergl",
         "x": [
          2000,
          2001,
          2002,
          2003,
          2004,
          2005,
          2006,
          2007,
          2008,
          2009,
          2010,
          2011,
          2012,
          2013,
          2014,
          2015,
          2016,
          2017,
          2018,
          2019
         ],
         "xaxis": "x",
         "y": [
          205,
          206,
          230,
          239,
          250,
          255,
          261,
          267,
          275,
          281,
          284,
          287,
          294,
          300,
          304,
          312,
          318,
          325,
          336,
          348
         ],
         "yaxis": "y"
        },
        {
         "hovertemplate": "Entity=Estonia<br>Year=%{x}<br>deaths_self_harm=%{y}<extra></extra>",
         "legendgroup": "Estonia",
         "line": {
          "color": "#B6E880",
          "dash": "solid"
         },
         "marker": {
          "symbol": "circle"
         },
         "mode": "lines",
         "name": "Estonia",
         "showlegend": true,
         "type": "scattergl",
         "x": [
          2000,
          2001,
          2002,
          2003,
          2004,
          2005,
          2006,
          2007,
          2008,
          2009,
          2010,
          2011,
          2012,
          2013,
          2014,
          2015,
          2016,
          2017,
          2018,
          2019
         ],
         "xaxis": "x",
         "y": [
          246,
          253,
          239,
          213,
          201,
          182,
          174,
          174,
          147,
          131,
          116,
          115,
          116,
          100,
          99,
          90,
          89,
          91,
          91,
          89
         ],
         "yaxis": "y"
        },
        {
         "hovertemplate": "Entity=Eswatini<br>Year=%{x}<br>deaths_self_harm=%{y}<extra></extra>",
         "legendgroup": "Eswatini",
         "line": {
          "color": "#FF97FF",
          "dash": "solid"
         },
         "marker": {
          "symbol": "circle"
         },
         "mode": "lines",
         "name": "Eswatini",
         "showlegend": true,
         "type": "scattergl",
         "x": [
          2000,
          2001,
          2002,
          2003,
          2004,
          2005,
          2006,
          2007,
          2008,
          2009,
          2010,
          2011,
          2012,
          2013,
          2014,
          2015,
          2016,
          2017,
          2018,
          2019
         ],
         "xaxis": "x",
         "y": [
          129,
          142,
          153,
          161,
          168,
          171,
          172,
          173,
          175,
          177,
          175,
          172,
          173,
          173,
          173,
          173,
          172,
          172,
          172,
          171
         ],
         "yaxis": "y"
        },
        {
         "hovertemplate": "Entity=Fiji<br>Year=%{x}<br>deaths_self_harm=%{y}<extra></extra>",
         "legendgroup": "Fiji",
         "line": {
          "color": "#FECB52",
          "dash": "solid"
         },
         "marker": {
          "symbol": "circle"
         },
         "mode": "lines",
         "name": "Fiji",
         "showlegend": true,
         "type": "scattergl",
         "x": [
          2000,
          2001,
          2002,
          2003,
          2004,
          2005,
          2006,
          2007,
          2008,
          2009,
          2010,
          2011,
          2012,
          2013,
          2014,
          2015,
          2016,
          2017,
          2018,
          2019
         ],
         "xaxis": "x",
         "y": [
          68,
          66,
          64,
          65,
          63,
          64,
          62,
          62,
          63,
          61,
          62,
          64,
          64,
          64,
          63,
          63,
          63,
          62,
          62,
          61
         ],
         "yaxis": "y"
        },
        {
         "hovertemplate": "Entity=Finland<br>Year=%{x}<br>deaths_self_harm=%{y}<extra></extra>",
         "legendgroup": "Finland",
         "line": {
          "color": "#636efa",
          "dash": "solid"
         },
         "marker": {
          "symbol": "circle"
         },
         "mode": "lines",
         "name": "Finland",
         "showlegend": true,
         "type": "scattergl",
         "x": [
          2000,
          2001,
          2002,
          2003,
          2004,
          2005,
          2006,
          2007,
          2008,
          2009,
          2010,
          2011,
          2012,
          2013,
          2014,
          2015,
          2016,
          2017,
          2018,
          2019
         ],
         "xaxis": "x",
         "y": [
          772,
          730,
          674,
          640,
          619,
          589,
          577,
          579,
          571,
          565,
          541,
          505,
          485,
          462,
          429,
          402,
          399,
          399,
          403,
          410
         ],
         "yaxis": "y"
        },
        {
         "hovertemplate": "Entity=Gabon<br>Year=%{x}<br>deaths_self_harm=%{y}<extra></extra>",
         "legendgroup": "Gabon",
         "line": {
          "color": "#EF553B",
          "dash": "solid"
         },
         "marker": {
          "symbol": "circle"
         },
         "mode": "lines",
         "name": "Gabon",
         "showlegend": true,
         "type": "scattergl",
         "x": [
          2000,
          2001,
          2002,
          2003,
          2004,
          2005,
          2006,
          2007,
          2008,
          2009,
          2010,
          2011,
          2012,
          2013,
          2014,
          2015,
          2016,
          2017,
          2018,
          2019
         ],
         "xaxis": "x",
         "y": [
          72,
          73,
          73,
          74,
          74,
          73,
          74,
          77,
          79,
          80,
          78,
          79,
          79,
          79,
          79,
          80,
          82,
          83,
          84,
          84
         ],
         "yaxis": "y"
        },
        {
         "hovertemplate": "Entity=Gambia<br>Year=%{x}<br>deaths_self_harm=%{y}<extra></extra>",
         "legendgroup": "Gambia",
         "line": {
          "color": "#00cc96",
          "dash": "solid"
         },
         "marker": {
          "symbol": "circle"
         },
         "mode": "lines",
         "name": "Gambia",
         "showlegend": true,
         "type": "scattergl",
         "x": [
          2000,
          2001,
          2002,
          2003,
          2004,
          2005,
          2006,
          2007,
          2008,
          2009,
          2010,
          2011,
          2012,
          2013,
          2014,
          2015,
          2016,
          2017,
          2018,
          2019
         ],
         "xaxis": "x",
         "y": [
          35,
          36,
          37,
          40,
          45,
          47,
          47,
          48,
          47,
          49,
          49,
          45,
          46,
          49,
          55,
          54,
          59,
          64,
          65,
          68
         ],
         "yaxis": "y"
        },
        {
         "hovertemplate": "Entity=Georgia<br>Year=%{x}<br>deaths_self_harm=%{y}<extra></extra>",
         "legendgroup": "Georgia",
         "line": {
          "color": "#ab63fa",
          "dash": "solid"
         },
         "marker": {
          "symbol": "circle"
         },
         "mode": "lines",
         "name": "Georgia",
         "showlegend": true,
         "type": "scattergl",
         "x": [
          2000,
          2001,
          2002,
          2003,
          2004,
          2005,
          2006,
          2007,
          2008,
          2009,
          2010,
          2011,
          2012,
          2013,
          2014,
          2015,
          2016,
          2017,
          2018,
          2019
         ],
         "xaxis": "x",
         "y": [
          165,
          161,
          161,
          144,
          145,
          139,
          134,
          139,
          155,
          163,
          154,
          146,
          147,
          148,
          146,
          146,
          148,
          146,
          144,
          142
         ],
         "yaxis": "y"
        },
        {
         "hovertemplate": "Entity=Ghana<br>Year=%{x}<br>deaths_self_harm=%{y}<extra></extra>",
         "legendgroup": "Ghana",
         "line": {
          "color": "#FFA15A",
          "dash": "solid"
         },
         "marker": {
          "symbol": "circle"
         },
         "mode": "lines",
         "name": "Ghana",
         "showlegend": true,
         "type": "scattergl",
         "x": [
          2000,
          2001,
          2002,
          2003,
          2004,
          2005,
          2006,
          2007,
          2008,
          2009,
          2010,
          2011,
          2012,
          2013,
          2014
         ],
         "xaxis": "x",
         "y": [
          585,
          625,
          655,
          689,
          725,
          753,
          772,
          792,
          808,
          839,
          871,
          909,
          933,
          960,
          996
         ],
         "yaxis": "y"
        },
        {
         "hovertemplate": "Entity=Greece<br>Year=%{x}<br>deaths_self_harm=%{y}<extra></extra>",
         "legendgroup": "Greece",
         "line": {
          "color": "#19d3f3",
          "dash": "solid"
         },
         "marker": {
          "symbol": "circle"
         },
         "mode": "lines",
         "name": "Greece",
         "showlegend": true,
         "type": "scattergl",
         "x": [
          2000,
          2001,
          2002,
          2003,
          2004,
          2005,
          2006,
          2007,
          2008,
          2009,
          2010,
          2011,
          2012,
          2013,
          2014,
          2015,
          2016,
          2017,
          2018,
          2019
         ],
         "xaxis": "x",
         "y": [
          209,
          205,
          200,
          205,
          211,
          215,
          216,
          225,
          228,
          236,
          235,
          237,
          237,
          226,
          221,
          217,
          210,
          202,
          203,
          201
         ],
         "yaxis": "y"
        },
        {
         "hovertemplate": "Entity=Greenland<br>Year=%{x}<br>deaths_self_harm=%{y}<extra></extra>",
         "legendgroup": "Greenland",
         "line": {
          "color": "#FF6692",
          "dash": "solid"
         },
         "marker": {
          "symbol": "circle"
         },
         "mode": "lines",
         "name": "Greenland",
         "showlegend": true,
         "type": "scattergl",
         "x": [
          2000,
          2001,
          2002,
          2003,
          2004,
          2005,
          2006,
          2007,
          2008,
          2009,
          2010,
          2011,
          2012,
          2013,
          2014,
          2015,
          2016,
          2017,
          2018,
          2019
         ],
         "xaxis": "x",
         "y": [
          37,
          36,
          35,
          35,
          34,
          34,
          33,
          32,
          32,
          31,
          30,
          29,
          27,
          26,
          25,
          23,
          22,
          21,
          21,
          20
         ],
         "yaxis": "y"
        },
        {
         "hovertemplate": "Entity=Grenada<br>Year=%{x}<br>deaths_self_harm=%{y}<extra></extra>",
         "legendgroup": "Grenada",
         "line": {
          "color": "#B6E880",
          "dash": "solid"
         },
         "marker": {
          "symbol": "circle"
         },
         "mode": "lines",
         "name": "Grenada",
         "showlegend": true,
         "type": "scattergl",
         "x": [
          2000,
          2001,
          2002,
          2003,
          2004,
          2005,
          2006,
          2007,
          2008,
          2009,
          2010,
          2011,
          2012,
          2013,
          2014,
          2015,
          2016,
          2017,
          2018,
          2019
         ],
         "xaxis": "x",
         "y": [
          3,
          3,
          3,
          3,
          3,
          3,
          3,
          3,
          3,
          3,
          3,
          3,
          3,
          3,
          3,
          3,
          3,
          3,
          3,
          3
         ],
         "yaxis": "y"
        },
        {
         "hovertemplate": "Entity=Guam<br>Year=%{x}<br>deaths_self_harm=%{y}<extra></extra>",
         "legendgroup": "Guam",
         "line": {
          "color": "#FF97FF",
          "dash": "solid"
         },
         "marker": {
          "symbol": "circle"
         },
         "mode": "lines",
         "name": "Guam",
         "showlegend": true,
         "type": "scattergl",
         "x": [
          2000,
          2001,
          2002,
          2003,
          2004,
          2005,
          2006,
          2007,
          2008,
          2009,
          2010,
          2011,
          2012,
          2013,
          2014,
          2015,
          2016,
          2017,
          2018,
          2019
         ],
         "xaxis": "x",
         "y": [
          21,
          21,
          20,
          20,
          20,
          19,
          20,
          20,
          21,
          21,
          22,
          22,
          22,
          23,
          23,
          24,
          24,
          24,
          24,
          23
         ],
         "yaxis": "y"
        },
        {
         "hovertemplate": "Entity=Guatemala<br>Year=%{x}<br>deaths_self_harm=%{y}<extra></extra>",
         "legendgroup": "Guatemala",
         "line": {
          "color": "#FECB52",
          "dash": "solid"
         },
         "marker": {
          "symbol": "circle"
         },
         "mode": "lines",
         "name": "Guatemala",
         "showlegend": true,
         "type": "scattergl",
         "x": [
          2000,
          2001,
          2002,
          2003,
          2004,
          2005,
          2006,
          2007,
          2008,
          2009,
          2010,
          2011,
          2012,
          2013,
          2014,
          2015,
          2016,
          2017,
          2018,
          2019
         ],
         "xaxis": "x",
         "y": [
          805,
          888,
          895,
          922,
          954,
          911,
          919,
          853,
          802,
          747,
          736,
          710,
          683,
          663,
          667,
          678,
          702,
          734,
          755,
          788
         ],
         "yaxis": "y"
        },
        {
         "hovertemplate": "Entity=Guinea<br>Year=%{x}<br>deaths_self_harm=%{y}<extra></extra>",
         "legendgroup": "Guinea",
         "line": {
          "color": "#636efa",
          "dash": "solid"
         },
         "marker": {
          "symbol": "circle"
         },
         "mode": "lines",
         "name": "Guinea",
         "showlegend": true,
         "type": "scattergl",
         "x": [
          2000,
          2001,
          2002,
          2003,
          2004,
          2005,
          2006,
          2007,
          2008,
          2009,
          2010,
          2011,
          2012,
          2013,
          2014,
          2015,
          2016,
          2017,
          2018,
          2019
         ],
         "xaxis": "x",
         "y": [
          219,
          229,
          239,
          247,
          256,
          264,
          278,
          289,
          296,
          309,
          322,
          333,
          342,
          356,
          375,
          386,
          393,
          399,
          407,
          411
         ],
         "yaxis": "y"
        },
        {
         "hovertemplate": "Entity=Guinea-Bissau<br>Year=%{x}<br>deaths_self_harm=%{y}<extra></extra>",
         "legendgroup": "Guinea-Bissau",
         "line": {
          "color": "#EF553B",
          "dash": "solid"
         },
         "marker": {
          "symbol": "circle"
         },
         "mode": "lines",
         "name": "Guinea-Bissau",
         "showlegend": true,
         "type": "scattergl",
         "x": [
          2000,
          2001,
          2002,
          2003,
          2004,
          2005,
          2006,
          2007,
          2008,
          2009,
          2010,
          2011,
          2012,
          2013,
          2014,
          2015,
          2016,
          2017,
          2018,
          2019
         ],
         "xaxis": "x",
         "y": [
          62,
          64,
          66,
          68,
          72,
          73,
          75,
          78,
          80,
          82,
          84,
          85,
          86,
          88,
          90,
          92,
          94,
          95,
          96,
          98
         ],
         "yaxis": "y"
        },
        {
         "hovertemplate": "Entity=Guyana<br>Year=%{x}<br>deaths_self_harm=%{y}<extra></extra>",
         "legendgroup": "Guyana",
         "line": {
          "color": "#00cc96",
          "dash": "solid"
         },
         "marker": {
          "symbol": "circle"
         },
         "mode": "lines",
         "name": "Guyana",
         "showlegend": true,
         "type": "scattergl",
         "x": [
          2000,
          2001,
          2002,
          2003,
          2004,
          2005,
          2006,
          2007,
          2008,
          2009,
          2010,
          2011,
          2012,
          2013,
          2014,
          2015,
          2016,
          2017,
          2018,
          2019
         ],
         "xaxis": "x",
         "y": [
          174,
          192,
          196,
          197,
          197,
          189,
          189,
          187,
          179,
          178,
          188,
          189,
          194,
          189,
          193,
          188,
          189,
          192,
          189,
          177
         ],
         "yaxis": "y"
        },
        {
         "hovertemplate": "Entity=Haiti<br>Year=%{x}<br>deaths_self_harm=%{y}<extra></extra>",
         "legendgroup": "Haiti",
         "line": {
          "color": "#ab63fa",
          "dash": "solid"
         },
         "marker": {
          "symbol": "circle"
         },
         "mode": "lines",
         "name": "Haiti",
         "showlegend": true,
         "type": "scattergl",
         "x": [
          2000,
          2001,
          2002,
          2003,
          2004,
          2005,
          2006,
          2007,
          2008,
          2009,
          2010,
          2011,
          2012,
          2013,
          2014,
          2015,
          2016,
          2017,
          2018,
          2019
         ],
         "xaxis": "x",
         "y": [
          466,
          486,
          492,
          510,
          533,
          543,
          551,
          569,
          574,
          580,
          582,
          613,
          625,
          647,
          667,
          687,
          701,
          713,
          723,
          731
         ],
         "yaxis": "y"
        },
        {
         "hovertemplate": "Entity=Honduras<br>Year=%{x}<br>deaths_self_harm=%{y}<extra></extra>",
         "legendgroup": "Honduras",
         "line": {
          "color": "#FFA15A",
          "dash": "solid"
         },
         "marker": {
          "symbol": "circle"
         },
         "mode": "lines",
         "name": "Honduras",
         "showlegend": true,
         "type": "scattergl",
         "x": [
          2000,
          2001,
          2002,
          2003,
          2004,
          2005,
          2006,
          2007,
          2008,
          2009,
          2010,
          2011,
          2012,
          2013,
          2014,
          2015,
          2016,
          2017,
          2018,
          2019
         ],
         "xaxis": "x",
         "y": [
          122,
          126,
          130,
          135,
          136,
          139,
          140,
          141,
          139,
          135,
          130,
          123,
          108,
          111,
          114,
          117,
          120,
          124,
          128,
          132
         ],
         "yaxis": "y"
        },
        {
         "hovertemplate": "Entity=Hungary<br>Year=%{x}<br>deaths_self_harm=%{y}<extra></extra>",
         "legendgroup": "Hungary",
         "line": {
          "color": "#19d3f3",
          "dash": "solid"
         },
         "marker": {
          "symbol": "circle"
         },
         "mode": "lines",
         "name": "Hungary",
         "showlegend": true,
         "type": "scattergl",
         "x": [
          2010,
          2011,
          2012,
          2013,
          2014,
          2015,
          2016,
          2017,
          2018,
          2019
         ],
         "xaxis": "x",
         "y": [
          957,
          906,
          870,
          807,
          781,
          771,
          717,
          693,
          687,
          693
         ],
         "yaxis": "y"
        },
        {
         "hovertemplate": "Entity=Iceland<br>Year=%{x}<br>deaths_self_harm=%{y}<extra></extra>",
         "legendgroup": "Iceland",
         "line": {
          "color": "#FF6692",
          "dash": "solid"
         },
         "marker": {
          "symbol": "circle"
         },
         "mode": "lines",
         "name": "Iceland",
         "showlegend": true,
         "type": "scattergl",
         "x": [
          2000,
          2001,
          2002,
          2003,
          2004,
          2005,
          2006,
          2007,
          2008,
          2009,
          2010,
          2011,
          2012,
          2013,
          2014,
          2015,
          2016,
          2017,
          2018,
          2019
         ],
         "xaxis": "x",
         "y": [
          21,
          20,
          19,
          18,
          18,
          18,
          18,
          18,
          18,
          18,
          18,
          18,
          17,
          17,
          17,
          17,
          17,
          17,
          17,
          17
         ],
         "yaxis": "y"
        },
        {
         "hovertemplate": "Entity=Ireland<br>Year=%{x}<br>deaths_self_harm=%{y}<extra></extra>",
         "legendgroup": "Ireland",
         "line": {
          "color": "#B6E880",
          "dash": "solid"
         },
         "marker": {
          "symbol": "circle"
         },
         "mode": "lines",
         "name": "Ireland",
         "showlegend": true,
         "type": "scattergl",
         "x": [
          2000,
          2001,
          2002,
          2003,
          2004,
          2005,
          2006,
          2007,
          2008,
          2009,
          2010,
          2011,
          2012,
          2013,
          2014,
          2015,
          2016,
          2017,
          2018,
          2019
         ],
         "xaxis": "x",
         "y": [
          390,
          391,
          384,
          368,
          376,
          381,
          384,
          385,
          399,
          420,
          387,
          388,
          362,
          333,
          318,
          296,
          281,
          276,
          277,
          271
         ],
         "yaxis": "y"
        },
        {
         "hovertemplate": "Entity=Israel<br>Year=%{x}<br>deaths_self_harm=%{y}<extra></extra>",
         "legendgroup": "Israel",
         "line": {
          "color": "#FF97FF",
          "dash": "solid"
         },
         "marker": {
          "symbol": "circle"
         },
         "mode": "lines",
         "name": "Israel",
         "showlegend": true,
         "type": "scattergl",
         "x": [
          2000,
          2001,
          2002,
          2003,
          2004,
          2005,
          2006,
          2007,
          2008,
          2009,
          2010,
          2011,
          2012,
          2013,
          2014,
          2015,
          2016,
          2017,
          2018,
          2019
         ],
         "xaxis": "x",
         "y": [
          351,
          363,
          352,
          335,
          323,
          326,
          318,
          317,
          315,
          313,
          310,
          289,
          277,
          274,
          274,
          275,
          279,
          283,
          289,
          295
         ],
         "yaxis": "y"
        },
        {
         "hovertemplate": "Entity=Jamaica<br>Year=%{x}<br>deaths_self_harm=%{y}<extra></extra>",
         "legendgroup": "Jamaica",
         "line": {
          "color": "#FECB52",
          "dash": "solid"
         },
         "marker": {
          "symbol": "circle"
         },
         "mode": "lines",
         "name": "Jamaica",
         "showlegend": true,
         "type": "scattergl",
         "x": [
          2000,
          2001,
          2002,
          2003,
          2004,
          2005,
          2006,
          2007,
          2008,
          2009,
          2010,
          2011,
          2012,
          2013,
          2014,
          2015,
          2016,
          2017,
          2018,
          2019
         ],
         "xaxis": "x",
         "y": [
          48,
          46,
          45,
          42,
          38,
          35,
          36,
          41,
          53,
          54,
          43,
          50,
          48,
          45,
          49,
          49,
          50,
          51,
          52,
          55
         ],
         "yaxis": "y"
        },
        {
         "hovertemplate": "Entity=Jordan<br>Year=%{x}<br>deaths_self_harm=%{y}<extra></extra>",
         "legendgroup": "Jordan",
         "line": {
          "color": "#636efa",
          "dash": "solid"
         },
         "marker": {
          "symbol": "circle"
         },
         "mode": "lines",
         "name": "Jordan",
         "showlegend": true,
         "type": "scattergl",
         "x": [
          2000,
          2001,
          2002,
          2003,
          2004,
          2005,
          2006,
          2007,
          2008,
          2009,
          2010,
          2011,
          2012,
          2013,
          2014,
          2015,
          2016,
          2017,
          2018,
          2019
         ],
         "xaxis": "x",
         "y": [
          116,
          115,
          113,
          117,
          119,
          116,
          112,
          111,
          114,
          113,
          115,
          121,
          131,
          136,
          143,
          152,
          161,
          169,
          182,
          195
         ],
         "yaxis": "y"
        },
        {
         "hovertemplate": "Entity=Kenya<br>Year=%{x}<br>deaths_self_harm=%{y}<extra></extra>",
         "legendgroup": "Kenya",
         "line": {
          "color": "#EF553B",
          "dash": "solid"
         },
         "marker": {
          "symbol": "circle"
         },
         "mode": "lines",
         "name": "Kenya",
         "showlegend": true,
         "type": "scattergl",
         "x": [
          2000,
          2001
         ],
         "xaxis": "x",
         "y": [
          941,
          999
         ],
         "yaxis": "y"
        },
        {
         "hovertemplate": "Entity=Kiribati<br>Year=%{x}<br>deaths_self_harm=%{y}<extra></extra>",
         "legendgroup": "Kiribati",
         "line": {
          "color": "#00cc96",
          "dash": "solid"
         },
         "marker": {
          "symbol": "circle"
         },
         "mode": "lines",
         "name": "Kiribati",
         "showlegend": true,
         "type": "scattergl",
         "x": [
          2000,
          2001,
          2002,
          2003,
          2004,
          2005,
          2006,
          2007,
          2008,
          2009,
          2010,
          2011,
          2012,
          2013,
          2014,
          2015,
          2016,
          2017,
          2018,
          2019
         ],
         "xaxis": "x",
         "y": [
          22,
          22,
          22,
          22,
          22,
          23,
          23,
          24,
          25,
          25,
          25,
          26,
          26,
          26,
          26,
          26,
          26,
          26,
          26,
          26
         ],
         "yaxis": "y"
        },
        {
         "hovertemplate": "Entity=Kuwait<br>Year=%{x}<br>deaths_self_harm=%{y}<extra></extra>",
         "legendgroup": "Kuwait",
         "line": {
          "color": "#ab63fa",
          "dash": "solid"
         },
         "marker": {
          "symbol": "circle"
         },
         "mode": "lines",
         "name": "Kuwait",
         "showlegend": true,
         "type": "scattergl",
         "x": [
          2000,
          2001,
          2002,
          2003,
          2004,
          2005,
          2006,
          2007,
          2008,
          2009,
          2010,
          2011,
          2012,
          2013,
          2014,
          2015,
          2016,
          2017,
          2018,
          2019
         ],
         "xaxis": "x",
         "y": [
          62,
          56,
          60,
          58,
          62,
          67,
          71,
          73,
          84,
          82,
          78,
          78,
          86,
          88,
          90,
          94,
          97,
          100,
          103,
          107
         ],
         "yaxis": "y"
        },
        {
         "hovertemplate": "Entity=Kyrgyzstan<br>Year=%{x}<br>deaths_self_harm=%{y}<extra></extra>",
         "legendgroup": "Kyrgyzstan",
         "line": {
          "color": "#FFA15A",
          "dash": "solid"
         },
         "marker": {
          "symbol": "circle"
         },
         "mode": "lines",
         "name": "Kyrgyzstan",
         "showlegend": true,
         "type": "scattergl",
         "x": [
          2000,
          2001,
          2002,
          2003,
          2004,
          2005,
          2006,
          2007,
          2008,
          2009,
          2010,
          2011,
          2012,
          2013,
          2014,
          2015,
          2016,
          2017,
          2018,
          2019
         ],
         "xaxis": "x",
         "y": [
          493,
          501,
          500,
          495,
          486,
          498,
          514,
          512,
          506,
          496,
          503,
          499,
          493,
          477,
          468,
          446,
          414,
          409,
          428,
          432
         ],
         "yaxis": "y"
        },
        {
         "hovertemplate": "Entity=Laos<br>Year=%{x}<br>deaths_self_harm=%{y}<extra></extra>",
         "legendgroup": "Laos",
         "line": {
          "color": "#19d3f3",
          "dash": "solid"
         },
         "marker": {
          "symbol": "circle"
         },
         "mode": "lines",
         "name": "Laos",
         "showlegend": true,
         "type": "scattergl",
         "x": [
          2000,
          2001,
          2002,
          2003,
          2004,
          2005,
          2006,
          2007,
          2008,
          2009,
          2010,
          2011,
          2012,
          2013,
          2014,
          2015,
          2016,
          2017,
          2018,
          2019
         ],
         "xaxis": "x",
         "y": [
          354,
          356,
          350,
          347,
          345,
          346,
          345,
          344,
          345,
          344,
          339,
          335,
          329,
          333,
          340,
          344,
          349,
          349,
          344,
          333
         ],
         "yaxis": "y"
        },
        {
         "hovertemplate": "Entity=Latvia<br>Year=%{x}<br>deaths_self_harm=%{y}<extra></extra>",
         "legendgroup": "Latvia",
         "line": {
          "color": "#FF6692",
          "dash": "solid"
         },
         "marker": {
          "symbol": "circle"
         },
         "mode": "lines",
         "name": "Latvia",
         "showlegend": true,
         "type": "scattergl",
         "x": [
          2000,
          2001,
          2002,
          2003,
          2004,
          2005,
          2006,
          2007,
          2008,
          2009,
          2010,
          2011,
          2012,
          2013,
          2014,
          2015,
          2016,
          2017,
          2018,
          2019
         ],
         "xaxis": "x",
         "y": [
          426,
          429,
          400,
          357,
          337,
          341,
          340,
          326,
          298,
          276,
          265,
          234,
          225,
          219,
          208,
          197,
          180,
          180,
          177,
          175
         ],
         "yaxis": "y"
        },
        {
         "hovertemplate": "Entity=Lebanon<br>Year=%{x}<br>deaths_self_harm=%{y}<extra></extra>",
         "legendgroup": "Lebanon",
         "line": {
          "color": "#B6E880",
          "dash": "solid"
         },
         "marker": {
          "symbol": "circle"
         },
         "mode": "lines",
         "name": "Lebanon",
         "showlegend": true,
         "type": "scattergl",
         "x": [
          2000,
          2001,
          2002,
          2003,
          2004,
          2005,
          2006,
          2007,
          2008,
          2009,
          2010,
          2011,
          2012,
          2013,
          2014,
          2015,
          2016,
          2017,
          2018,
          2019
         ],
         "xaxis": "x",
         "y": [
          90,
          89,
          89,
          90,
          91,
          94,
          96,
          98,
          100,
          101,
          103,
          110,
          121,
          129,
          131,
          130,
          130,
          131,
          130,
          129
         ],
         "yaxis": "y"
        },
        {
         "hovertemplate": "Entity=Lesotho<br>Year=%{x}<br>deaths_self_harm=%{y}<extra></extra>",
         "legendgroup": "Lesotho",
         "line": {
          "color": "#FF97FF",
          "dash": "solid"
         },
         "marker": {
          "symbol": "circle"
         },
         "mode": "lines",
         "name": "Lesotho",
         "showlegend": true,
         "type": "scattergl",
         "x": [
          2000,
          2001,
          2002,
          2003,
          2004,
          2005,
          2006,
          2007,
          2008,
          2009,
          2010,
          2011,
          2012,
          2013,
          2014,
          2015,
          2016,
          2017,
          2018,
          2019
         ],
         "xaxis": "x",
         "y": [
          255,
          272,
          297,
          321,
          344,
          362,
          378,
          392,
          409,
          423,
          439,
          448,
          463,
          478,
          490,
          495,
          490,
          486,
          487,
          486
         ],
         "yaxis": "y"
        },
        {
         "hovertemplate": "Entity=Liberia<br>Year=%{x}<br>deaths_self_harm=%{y}<extra></extra>",
         "legendgroup": "Liberia",
         "line": {
          "color": "#FECB52",
          "dash": "solid"
         },
         "marker": {
          "symbol": "circle"
         },
         "mode": "lines",
         "name": "Liberia",
         "showlegend": true,
         "type": "scattergl",
         "x": [
          2000,
          2001,
          2002,
          2003,
          2004,
          2005,
          2006,
          2007,
          2008,
          2009,
          2010,
          2011,
          2012,
          2013,
          2014,
          2015,
          2016,
          2017,
          2018,
          2019
         ],
         "xaxis": "x",
         "y": [
          83,
          81,
          79,
          80,
          83,
          87,
          94,
          100,
          104,
          113,
          123,
          127,
          132,
          136,
          137,
          137,
          139,
          140,
          144,
          150
         ],
         "yaxis": "y"
        },
        {
         "hovertemplate": "Entity=Libya<br>Year=%{x}<br>deaths_self_harm=%{y}<extra></extra>",
         "legendgroup": "Libya",
         "line": {
          "color": "#636efa",
          "dash": "solid"
         },
         "marker": {
          "symbol": "circle"
         },
         "mode": "lines",
         "name": "Libya",
         "showlegend": true,
         "type": "scattergl",
         "x": [
          2000,
          2001,
          2002,
          2003,
          2004,
          2005,
          2006,
          2007,
          2008,
          2009,
          2010,
          2011,
          2012,
          2013,
          2014,
          2015,
          2016,
          2017,
          2018,
          2019
         ],
         "xaxis": "x",
         "y": [
          182,
          191,
          200,
          203,
          192,
          189,
          194,
          222,
          249,
          270,
          273,
          278,
          272,
          274,
          276,
          273,
          271,
          274,
          278,
          280
         ],
         "yaxis": "y"
        },
        {
         "hovertemplate": "Entity=Lithuania<br>Year=%{x}<br>deaths_self_harm=%{y}<extra></extra>",
         "legendgroup": "Lithuania",
         "line": {
          "color": "#EF553B",
          "dash": "solid"
         },
         "marker": {
          "symbol": "circle"
         },
         "mode": "lines",
         "name": "Lithuania",
         "showlegend": true,
         "type": "scattergl",
         "x": [
          2000,
          2001,
          2002,
          2003,
          2004,
          2005,
          2006,
          2007,
          2008,
          2009,
          2010,
          2011,
          2012,
          2013,
          2014,
          2015,
          2016,
          2017,
          2018,
          2019
         ],
         "xaxis": "x",
         "y": [
          960,
          988,
          948,
          906,
          873,
          889,
          876,
          901,
          825,
          708,
          671,
          638,
          614,
          614,
          564,
          528,
          490,
          421,
          400,
          390
         ],
         "yaxis": "y"
        },
        {
         "hovertemplate": "Entity=Luxembourg<br>Year=%{x}<br>deaths_self_harm=%{y}<extra></extra>",
         "legendgroup": "Luxembourg",
         "line": {
          "color": "#00cc96",
          "dash": "solid"
         },
         "marker": {
          "symbol": "circle"
         },
         "mode": "lines",
         "name": "Luxembourg",
         "showlegend": true,
         "type": "scattergl",
         "x": [
          2000,
          2001,
          2002,
          2003,
          2004,
          2005,
          2006,
          2007,
          2008,
          2009,
          2010,
          2011,
          2012,
          2013,
          2014,
          2015,
          2016,
          2017,
          2018,
          2019
         ],
         "xaxis": "x",
         "y": [
          34,
          33,
          33,
          32,
          31,
          30,
          30,
          29,
          28,
          27,
          27,
          28,
          28,
          28,
          30,
          32,
          31,
          32,
          32,
          32
         ],
         "yaxis": "y"
        },
        {
         "hovertemplate": "Entity=Madagascar<br>Year=%{x}<br>deaths_self_harm=%{y}<extra></extra>",
         "legendgroup": "Madagascar",
         "line": {
          "color": "#ab63fa",
          "dash": "solid"
         },
         "marker": {
          "symbol": "circle"
         },
         "mode": "lines",
         "name": "Madagascar",
         "showlegend": true,
         "type": "scattergl",
         "x": [
          2000,
          2001,
          2002,
          2003,
          2004,
          2005,
          2006,
          2007,
          2008,
          2009,
          2010,
          2011,
          2012,
          2013,
          2014,
          2015,
          2016,
          2017,
          2018,
          2019
         ],
         "xaxis": "x",
         "y": [
          547,
          558,
          586,
          612,
          626,
          632,
          634,
          642,
          666,
          687,
          704,
          718,
          730,
          746,
          762,
          778,
          800,
          822,
          844,
          863
         ],
         "yaxis": "y"
        },
        {
         "hovertemplate": "Entity=Malawi<br>Year=%{x}<br>deaths_self_harm=%{y}<extra></extra>",
         "legendgroup": "Malawi",
         "line": {
          "color": "#FFA15A",
          "dash": "solid"
         },
         "marker": {
          "symbol": "circle"
         },
         "mode": "lines",
         "name": "Malawi",
         "showlegend": true,
         "type": "scattergl",
         "x": [
          2000,
          2001,
          2002,
          2003,
          2004,
          2005,
          2006,
          2007,
          2008,
          2009,
          2010,
          2011,
          2012,
          2013,
          2014,
          2015,
          2016,
          2017,
          2018,
          2019
         ],
         "xaxis": "x",
         "y": [
          505,
          506,
          513,
          523,
          533,
          532,
          528,
          529,
          529,
          539,
          556,
          567,
          573,
          581,
          593,
          606,
          626,
          639,
          658,
          673
         ],
         "yaxis": "y"
        },
        {
         "hovertemplate": "Entity=Malaysia<br>Year=%{x}<br>deaths_self_harm=%{y}<extra></extra>",
         "legendgroup": "Malaysia",
         "line": {
          "color": "#19d3f3",
          "dash": "solid"
         },
         "marker": {
          "symbol": "circle"
         },
         "mode": "lines",
         "name": "Malaysia",
         "showlegend": true,
         "type": "scattergl",
         "x": [
          2000,
          2001,
          2002,
          2003,
          2004,
          2005,
          2006,
          2007,
          2008,
          2009,
          2010,
          2011,
          2012,
          2013,
          2014,
          2015,
          2016,
          2017
         ],
         "xaxis": "x",
         "y": [
          800,
          781,
          779,
          825,
          831,
          825,
          810,
          792,
          813,
          828,
          815,
          819,
          824,
          801,
          840,
          880,
          937,
          983
         ],
         "yaxis": "y"
        },
        {
         "hovertemplate": "Entity=Maldives<br>Year=%{x}<br>deaths_self_harm=%{y}<extra></extra>",
         "legendgroup": "Maldives",
         "line": {
          "color": "#FF6692",
          "dash": "solid"
         },
         "marker": {
          "symbol": "circle"
         },
         "mode": "lines",
         "name": "Maldives",
         "showlegend": true,
         "type": "scattergl",
         "x": [
          2000,
          2001,
          2002,
          2003,
          2004,
          2005,
          2006,
          2007,
          2008,
          2009,
          2010,
          2011,
          2012,
          2013,
          2014,
          2015,
          2016,
          2017,
          2018,
          2019
         ],
         "xaxis": "x",
         "y": [
          9,
          9,
          9,
          8,
          8,
          8,
          8,
          8,
          8,
          9,
          9,
          10,
          10,
          11,
          12,
          13,
          14,
          15,
          15,
          16
         ],
         "yaxis": "y"
        },
        {
         "hovertemplate": "Entity=Mali<br>Year=%{x}<br>deaths_self_harm=%{y}<extra></extra>",
         "legendgroup": "Mali",
         "line": {
          "color": "#B6E880",
          "dash": "solid"
         },
         "marker": {
          "symbol": "circle"
         },
         "mode": "lines",
         "name": "Mali",
         "showlegend": true,
         "type": "scattergl",
         "x": [
          2000,
          2001,
          2002,
          2003,
          2004,
          2005,
          2006,
          2007,
          2008,
          2009,
          2010,
          2011,
          2012,
          2013,
          2014,
          2015,
          2016,
          2017,
          2018,
          2019
         ],
         "xaxis": "x",
         "y": [
          262,
          265,
          273,
          277,
          282,
          288,
          295,
          308,
          317,
          329,
          338,
          342,
          347,
          363,
          382,
          402,
          434,
          461,
          477,
          494
         ],
         "yaxis": "y"
        },
        {
         "hovertemplate": "Entity=Malta<br>Year=%{x}<br>deaths_self_harm=%{y}<extra></extra>",
         "legendgroup": "Malta",
         "line": {
          "color": "#FF97FF",
          "dash": "solid"
         },
         "marker": {
          "symbol": "circle"
         },
         "mode": "lines",
         "name": "Malta",
         "showlegend": true,
         "type": "scattergl",
         "x": [
          2000,
          2001,
          2002,
          2003,
          2004,
          2005,
          2006,
          2007,
          2008,
          2009,
          2010,
          2011,
          2012,
          2013,
          2014,
          2015,
          2016,
          2017,
          2018,
          2019
         ],
         "xaxis": "x",
         "y": [
          11,
          11,
          11,
          11,
          11,
          11,
          12,
          12,
          12,
          12,
          12,
          12,
          12,
          11,
          11,
          11,
          11,
          11,
          11,
          11
         ],
         "yaxis": "y"
        },
        {
         "hovertemplate": "Entity=Marshall Islands<br>Year=%{x}<br>deaths_self_harm=%{y}<extra></extra>",
         "legendgroup": "Marshall Islands",
         "line": {
          "color": "#FECB52",
          "dash": "solid"
         },
         "marker": {
          "symbol": "circle"
         },
         "mode": "lines",
         "name": "Marshall Islands",
         "showlegend": true,
         "type": "scattergl",
         "x": [
          2000,
          2001,
          2002,
          2003,
          2004,
          2005,
          2006,
          2007,
          2008,
          2009,
          2010,
          2011,
          2012,
          2013,
          2014,
          2015,
          2016,
          2017,
          2018,
          2019
         ],
         "xaxis": "x",
         "y": [
          10,
          10,
          10,
          10,
          10,
          10,
          11,
          11,
          11,
          11,
          10,
          10,
          10,
          10,
          10,
          10,
          10,
          10,
          10,
          10
         ],
         "yaxis": "y"
        },
        {
         "hovertemplate": "Entity=Mauritania<br>Year=%{x}<br>deaths_self_harm=%{y}<extra></extra>",
         "legendgroup": "Mauritania",
         "line": {
          "color": "#636efa",
          "dash": "solid"
         },
         "marker": {
          "symbol": "circle"
         },
         "mode": "lines",
         "name": "Mauritania",
         "showlegend": true,
         "type": "scattergl",
         "x": [
          2000,
          2001,
          2002,
          2003,
          2004,
          2005,
          2006,
          2007,
          2008,
          2009,
          2010,
          2011,
          2012,
          2013,
          2014,
          2015,
          2016,
          2017,
          2018,
          2019
         ],
         "xaxis": "x",
         "y": [
          56,
          57,
          58,
          58,
          59,
          60,
          61,
          60,
          59,
          62,
          62,
          63,
          66,
          67,
          66,
          67,
          67,
          70,
          70,
          70
         ],
         "yaxis": "y"
        },
        {
         "hovertemplate": "Entity=Mauritius<br>Year=%{x}<br>deaths_self_harm=%{y}<extra></extra>",
         "legendgroup": "Mauritius",
         "line": {
          "color": "#EF553B",
          "dash": "solid"
         },
         "marker": {
          "symbol": "circle"
         },
         "mode": "lines",
         "name": "Mauritius",
         "showlegend": true,
         "type": "scattergl",
         "x": [
          2000,
          2001,
          2002,
          2003,
          2004,
          2005,
          2006,
          2007,
          2008,
          2009,
          2010,
          2011,
          2012,
          2013,
          2014,
          2015,
          2016,
          2017,
          2018,
          2019
         ],
         "xaxis": "x",
         "y": [
          122,
          111,
          108,
          99,
          99,
          98,
          98,
          97,
          91,
          94,
          91,
          94,
          90,
          85,
          88,
          90,
          87,
          87,
          85,
          83
         ],
         "yaxis": "y"
        },
        {
         "hovertemplate": "Entity=Micronesia (country)<br>Year=%{x}<br>deaths_self_harm=%{y}<extra></extra>",
         "legendgroup": "Micronesia (country)",
         "line": {
          "color": "#00cc96",
          "dash": "solid"
         },
         "marker": {
          "symbol": "circle"
         },
         "mode": "lines",
         "name": "Micronesia (country)",
         "showlegend": true,
         "type": "scattergl",
         "x": [
          2000,
          2001,
          2002,
          2003,
          2004,
          2005,
          2006,
          2007,
          2008,
          2009,
          2010,
          2011,
          2012,
          2013,
          2014,
          2015,
          2016,
          2017,
          2018,
          2019
         ],
         "xaxis": "x",
         "y": [
          21,
          21,
          20,
          20,
          20,
          20,
          20,
          20,
          20,
          19,
          19,
          19,
          19,
          19,
          19,
          19,
          19,
          19,
          19,
          19
         ],
         "yaxis": "y"
        },
        {
         "hovertemplate": "Entity=Moldova<br>Year=%{x}<br>deaths_self_harm=%{y}<extra></extra>",
         "legendgroup": "Moldova",
         "line": {
          "color": "#ab63fa",
          "dash": "solid"
         },
         "marker": {
          "symbol": "circle"
         },
         "mode": "lines",
         "name": "Moldova",
         "showlegend": true,
         "type": "scattergl",
         "x": [
          2000,
          2001,
          2002,
          2003,
          2004,
          2005,
          2006,
          2007,
          2008,
          2009,
          2010,
          2011,
          2012,
          2013,
          2014,
          2015,
          2016,
          2017,
          2018,
          2019
         ],
         "xaxis": "x",
         "y": [
          446,
          448,
          450,
          451,
          452,
          486,
          467,
          453,
          437,
          441,
          450,
          375,
          361,
          337,
          347,
          350,
          328,
          295,
          282,
          281
         ],
         "yaxis": "y"
        },
        {
         "hovertemplate": "Entity=Monaco<br>Year=%{x}<br>deaths_self_harm=%{y}<extra></extra>",
         "legendgroup": "Monaco",
         "line": {
          "color": "#FFA15A",
          "dash": "solid"
         },
         "marker": {
          "symbol": "circle"
         },
         "mode": "lines",
         "name": "Monaco",
         "showlegend": true,
         "type": "scattergl",
         "x": [
          2000,
          2001,
          2002,
          2003,
          2004,
          2005,
          2006,
          2007,
          2008,
          2009,
          2010,
          2011,
          2012,
          2013,
          2014,
          2015,
          2016,
          2017,
          2018,
          2019
         ],
         "xaxis": "x",
         "y": [
          2,
          2,
          2,
          2,
          2,
          2,
          2,
          2,
          2,
          2,
          2,
          2,
          2,
          2,
          2,
          2,
          2,
          2,
          2,
          2
         ],
         "yaxis": "y"
        },
        {
         "hovertemplate": "Entity=Mongolia<br>Year=%{x}<br>deaths_self_harm=%{y}<extra></extra>",
         "legendgroup": "Mongolia",
         "line": {
          "color": "#19d3f3",
          "dash": "solid"
         },
         "marker": {
          "symbol": "circle"
         },
         "mode": "lines",
         "name": "Mongolia",
         "showlegend": true,
         "type": "scattergl",
         "x": [
          2000,
          2001,
          2002,
          2003,
          2004,
          2005,
          2006,
          2007,
          2008,
          2009,
          2010,
          2011,
          2012,
          2013,
          2014,
          2015,
          2016,
          2017,
          2018,
          2019
         ],
         "xaxis": "x",
         "y": [
          453,
          460,
          469,
          485,
          515,
          533,
          531,
          537,
          538,
          533,
          537,
          539,
          530,
          522,
          519,
          513,
          514,
          518,
          509,
          494
         ],
         "yaxis": "y"
        },
        {
         "hovertemplate": "Entity=Montenegro<br>Year=%{x}<br>deaths_self_harm=%{y}<extra></extra>",
         "legendgroup": "Montenegro",
         "line": {
          "color": "#FF6692",
          "dash": "solid"
         },
         "marker": {
          "symbol": "circle"
         },
         "mode": "lines",
         "name": "Montenegro",
         "showlegend": true,
         "type": "scattergl",
         "x": [
          2000,
          2001,
          2002,
          2003,
          2004,
          2005,
          2006,
          2007,
          2008,
          2009,
          2010,
          2011,
          2012,
          2013,
          2014,
          2015,
          2016,
          2017,
          2018,
          2019
         ],
         "xaxis": "x",
         "y": [
          72,
          67,
          63,
          64,
          64,
          64,
          65,
          62,
          58,
          55,
          51,
          49,
          48,
          47,
          46,
          44,
          44,
          43,
          44,
          43
         ],
         "yaxis": "y"
        },
        {
         "hovertemplate": "Entity=Mozambique<br>Year=%{x}<br>deaths_self_harm=%{y}<extra></extra>",
         "legendgroup": "Mozambique",
         "line": {
          "color": "#B6E880",
          "dash": "solid"
         },
         "marker": {
          "symbol": "circle"
         },
         "mode": "lines",
         "name": "Mozambique",
         "showlegend": true,
         "type": "scattergl",
         "x": [
          2000,
          2001,
          2002,
          2003,
          2004,
          2005,
          2006,
          2007,
          2008,
          2009,
          2010
         ],
         "xaxis": "x",
         "y": [
          575,
          578,
          599,
          626,
          665,
          717,
          763,
          820,
          882,
          934,
          993
         ],
         "yaxis": "y"
        },
        {
         "hovertemplate": "Entity=Namibia<br>Year=%{x}<br>deaths_self_harm=%{y}<extra></extra>",
         "legendgroup": "Namibia",
         "line": {
          "color": "#FF97FF",
          "dash": "solid"
         },
         "marker": {
          "symbol": "circle"
         },
         "mode": "lines",
         "name": "Namibia",
         "showlegend": true,
         "type": "scattergl",
         "x": [
          2000,
          2001,
          2002,
          2003,
          2004,
          2005,
          2006,
          2007,
          2008,
          2009,
          2010,
          2011,
          2012,
          2013,
          2014,
          2015,
          2016,
          2017,
          2018,
          2019
         ],
         "xaxis": "x",
         "y": [
          174,
          176,
          185,
          187,
          183,
          181,
          172,
          166,
          161,
          158,
          157,
          152,
          153,
          156,
          162,
          167,
          171,
          174,
          177,
          175
         ],
         "yaxis": "y"
        },
        {
         "hovertemplate": "Entity=Nauru<br>Year=%{x}<br>deaths_self_harm=%{y}<extra></extra>",
         "legendgroup": "Nauru",
         "line": {
          "color": "#FECB52",
          "dash": "solid"
         },
         "marker": {
          "symbol": "circle"
         },
         "mode": "lines",
         "name": "Nauru",
         "showlegend": true,
         "type": "scattergl",
         "x": [
          2000,
          2001,
          2002,
          2003,
          2004,
          2005,
          2006,
          2007,
          2008,
          2009,
          2010,
          2011,
          2012,
          2013,
          2014,
          2015,
          2016,
          2017,
          2018,
          2019
         ],
         "xaxis": "x",
         "y": [
          2,
          2,
          2,
          2,
          2,
          2,
          2,
          2,
          2,
          2,
          2,
          2,
          2,
          2,
          2,
          2,
          2,
          2,
          2,
          2
         ],
         "yaxis": "y"
        },
        {
         "hovertemplate": "Entity=Netherlands<br>Year=%{x}<br>deaths_self_harm=%{y}<extra></extra>",
         "legendgroup": "Netherlands",
         "line": {
          "color": "#636efa",
          "dash": "solid"
         },
         "marker": {
          "symbol": "circle"
         },
         "mode": "lines",
         "name": "Netherlands",
         "showlegend": true,
         "type": "scattergl",
         "x": [
          2005,
          2006,
          2007,
          2008,
          2009,
          2010,
          2011,
          2012,
          2013,
          2014,
          2015,
          2016,
          2017,
          2018,
          2019
         ],
         "xaxis": "x",
         "y": [
          978,
          945,
          912,
          920,
          913,
          922,
          935,
          938,
          920,
          895,
          891,
          887,
          873,
          859,
          845
         ],
         "yaxis": "y"
        },
        {
         "hovertemplate": "Entity=New Zealand<br>Year=%{x}<br>deaths_self_harm=%{y}<extra></extra>",
         "legendgroup": "New Zealand",
         "line": {
          "color": "#EF553B",
          "dash": "solid"
         },
         "marker": {
          "symbol": "circle"
         },
         "mode": "lines",
         "name": "New Zealand",
         "showlegend": true,
         "type": "scattergl",
         "x": [
          2000,
          2001,
          2002,
          2003,
          2004,
          2005,
          2006,
          2007,
          2008,
          2009,
          2010,
          2011,
          2012,
          2013,
          2014,
          2015,
          2016,
          2017,
          2018,
          2019
         ],
         "xaxis": "x",
         "y": [
          385,
          388,
          383,
          385,
          384,
          384,
          377,
          377,
          374,
          366,
          362,
          357,
          352,
          333,
          325,
          323,
          325,
          321,
          318,
          316
         ],
         "yaxis": "y"
        },
        {
         "hovertemplate": "Entity=Nicaragua<br>Year=%{x}<br>deaths_self_harm=%{y}<extra></extra>",
         "legendgroup": "Nicaragua",
         "line": {
          "color": "#00cc96",
          "dash": "solid"
         },
         "marker": {
          "symbol": "circle"
         },
         "mode": "lines",
         "name": "Nicaragua",
         "showlegend": true,
         "type": "scattergl",
         "x": [
          2000,
          2001,
          2002,
          2003,
          2004,
          2005,
          2006,
          2007,
          2008,
          2009,
          2010,
          2011,
          2012,
          2013,
          2014,
          2015,
          2016,
          2017,
          2018,
          2019
         ],
         "xaxis": "x",
         "y": [
          224,
          228,
          234,
          238,
          239,
          251,
          224,
          238,
          257,
          259,
          244,
          260,
          265,
          265,
          276,
          250,
          273,
          259,
          253,
          253
         ],
         "yaxis": "y"
        },
        {
         "hovertemplate": "Entity=Niger<br>Year=%{x}<br>deaths_self_harm=%{y}<extra></extra>",
         "legendgroup": "Niger",
         "line": {
          "color": "#ab63fa",
          "dash": "solid"
         },
         "marker": {
          "symbol": "circle"
         },
         "mode": "lines",
         "name": "Niger",
         "showlegend": true,
         "type": "scattergl",
         "x": [
          2000,
          2001,
          2002,
          2003,
          2004,
          2005,
          2006,
          2007,
          2008,
          2009,
          2010,
          2011,
          2012,
          2013,
          2014,
          2015,
          2016,
          2017,
          2018,
          2019
         ],
         "xaxis": "x",
         "y": [
          264,
          280,
          289,
          302,
          305,
          316,
          319,
          326,
          322,
          327,
          332,
          342,
          353,
          369,
          390,
          406,
          431,
          455,
          479,
          496
         ],
         "yaxis": "y"
        },
        {
         "hovertemplate": "Entity=Niue<br>Year=%{x}<br>deaths_self_harm=%{y}<extra></extra>",
         "legendgroup": "Niue",
         "line": {
          "color": "#FFA15A",
          "dash": "solid"
         },
         "marker": {
          "symbol": "circle"
         },
         "mode": "lines",
         "name": "Niue",
         "showlegend": true,
         "type": "scattergl",
         "x": [
          2000,
          2001,
          2002,
          2003,
          2004,
          2005,
          2006,
          2007,
          2008,
          2009,
          2010,
          2011,
          2012,
          2013,
          2014,
          2015,
          2016,
          2017,
          2018,
          2019
         ],
         "xaxis": "x",
         "y": [
          0,
          0,
          0,
          0,
          0,
          0,
          0,
          0,
          0,
          0,
          0,
          0,
          0,
          0,
          0,
          0,
          0,
          0,
          0,
          0
         ],
         "yaxis": "y"
        },
        {
         "hovertemplate": "Entity=North Macedonia<br>Year=%{x}<br>deaths_self_harm=%{y}<extra></extra>",
         "legendgroup": "North Macedonia",
         "line": {
          "color": "#19d3f3",
          "dash": "solid"
         },
         "marker": {
          "symbol": "circle"
         },
         "mode": "lines",
         "name": "North Macedonia",
         "showlegend": true,
         "type": "scattergl",
         "x": [
          2000,
          2001,
          2002,
          2003,
          2004,
          2005,
          2006,
          2007,
          2008,
          2009,
          2010,
          2011,
          2012,
          2013,
          2014,
          2015,
          2016,
          2017,
          2018,
          2019
         ],
         "xaxis": "x",
         "y": [
          106,
          109,
          114,
          109,
          100,
          94,
          96,
          98,
          93,
          91,
          87,
          83,
          85,
          85,
          83,
          83,
          85,
          85,
          83,
          83
         ],
         "yaxis": "y"
        },
        {
         "hovertemplate": "Entity=Northern Ireland<br>Year=%{x}<br>deaths_self_harm=%{y}<extra></extra>",
         "legendgroup": "Northern Ireland",
         "line": {
          "color": "#FF6692",
          "dash": "solid"
         },
         "marker": {
          "symbol": "circle"
         },
         "mode": "lines",
         "name": "Northern Ireland",
         "showlegend": true,
         "type": "scattergl",
         "x": [
          2000,
          2001,
          2002,
          2003,
          2004,
          2005,
          2006,
          2007,
          2008,
          2009,
          2010,
          2011,
          2012,
          2013,
          2014,
          2015,
          2016,
          2017,
          2018,
          2019
         ],
         "xaxis": "x",
         "y": [
          122,
          120,
          120,
          113,
          119,
          130,
          143,
          148,
          155,
          157,
          159,
          152,
          148,
          143,
          141,
          145,
          138,
          135,
          136,
          132
         ],
         "yaxis": "y"
        },
        {
         "hovertemplate": "Entity=Northern Mariana Islands<br>Year=%{x}<br>deaths_self_harm=%{y}<extra></extra>",
         "legendgroup": "Northern Mariana Islands",
         "line": {
          "color": "#B6E880",
          "dash": "solid"
         },
         "marker": {
          "symbol": "circle"
         },
         "mode": "lines",
         "name": "Northern Mariana Islands",
         "showlegend": true,
         "type": "scattergl",
         "x": [
          2000,
          2001,
          2002,
          2003,
          2004,
          2005,
          2006,
          2007,
          2008,
          2009,
          2010,
          2011,
          2012,
          2013,
          2014,
          2015,
          2016,
          2017,
          2018,
          2019
         ],
         "xaxis": "x",
         "y": [
          10,
          10,
          9,
          9,
          8,
          8,
          8,
          8,
          7,
          7,
          7,
          6,
          6,
          6,
          5,
          5,
          5,
          5,
          5,
          5
         ],
         "yaxis": "y"
        },
        {
         "hovertemplate": "Entity=Norway<br>Year=%{x}<br>deaths_self_harm=%{y}<extra></extra>",
         "legendgroup": "Norway",
         "line": {
          "color": "#FF97FF",
          "dash": "solid"
         },
         "marker": {
          "symbol": "circle"
         },
         "mode": "lines",
         "name": "Norway",
         "showlegend": true,
         "type": "scattergl",
         "x": [
          2000,
          2001,
          2002,
          2003,
          2004,
          2005,
          2006,
          2007,
          2008,
          2009,
          2010,
          2011,
          2012,
          2013,
          2014,
          2015,
          2016,
          2017,
          2018,
          2019
         ],
         "xaxis": "x",
         "y": [
          362,
          354,
          343,
          335,
          329,
          323,
          316,
          310,
          318,
          329,
          328,
          332,
          317,
          317,
          313,
          304,
          310,
          307,
          308,
          303
         ],
         "yaxis": "y"
        },
        {
         "hovertemplate": "Entity=Oman<br>Year=%{x}<br>deaths_self_harm=%{y}<extra></extra>",
         "legendgroup": "Oman",
         "line": {
          "color": "#FECB52",
          "dash": "solid"
         },
         "marker": {
          "symbol": "circle"
         },
         "mode": "lines",
         "name": "Oman",
         "showlegend": true,
         "type": "scattergl",
         "x": [
          2000,
          2001,
          2002,
          2003,
          2004,
          2005,
          2006,
          2007,
          2008,
          2009,
          2010,
          2011,
          2012,
          2013,
          2014,
          2015,
          2016,
          2017,
          2018,
          2019
         ],
         "xaxis": "x",
         "y": [
          62,
          63,
          66,
          67,
          64,
          63,
          67,
          76,
          80,
          80,
          83,
          94,
          103,
          100,
          96,
          95,
          97,
          98,
          99,
          101
         ],
         "yaxis": "y"
        },
        {
         "hovertemplate": "Entity=Palau<br>Year=%{x}<br>deaths_self_harm=%{y}<extra></extra>",
         "legendgroup": "Palau",
         "line": {
          "color": "#636efa",
          "dash": "solid"
         },
         "marker": {
          "symbol": "circle"
         },
         "mode": "lines",
         "name": "Palau",
         "showlegend": true,
         "type": "scattergl",
         "x": [
          2000,
          2001,
          2002,
          2003,
          2004,
          2005,
          2006,
          2007,
          2008,
          2009,
          2010,
          2011,
          2012,
          2013,
          2014,
          2015,
          2016,
          2017,
          2018,
          2019
         ],
         "xaxis": "x",
         "y": [
          2,
          2,
          2,
          2,
          2,
          2,
          2,
          2,
          2,
          2,
          2,
          2,
          2,
          2,
          2,
          2,
          2,
          2,
          2,
          2
         ],
         "yaxis": "y"
        },
        {
         "hovertemplate": "Entity=Palestine<br>Year=%{x}<br>deaths_self_harm=%{y}<extra></extra>",
         "legendgroup": "Palestine",
         "line": {
          "color": "#EF553B",
          "dash": "solid"
         },
         "marker": {
          "symbol": "circle"
         },
         "mode": "lines",
         "name": "Palestine",
         "showlegend": true,
         "type": "scattergl",
         "x": [
          2000,
          2001,
          2002,
          2003,
          2004,
          2005,
          2006,
          2007,
          2008,
          2009,
          2010,
          2011,
          2012,
          2013,
          2014,
          2015,
          2016,
          2017,
          2018,
          2019
         ],
         "xaxis": "x",
         "y": [
          57,
          60,
          62,
          63,
          63,
          63,
          64,
          64,
          62,
          59,
          57,
          62,
          74,
          85,
          88,
          86,
          88,
          89,
          92,
          98
         ],
         "yaxis": "y"
        },
        {
         "hovertemplate": "Entity=Panama<br>Year=%{x}<br>deaths_self_harm=%{y}<extra></extra>",
         "legendgroup": "Panama",
         "line": {
          "color": "#00cc96",
          "dash": "solid"
         },
         "marker": {
          "symbol": "circle"
         },
         "mode": "lines",
         "name": "Panama",
         "showlegend": true,
         "type": "scattergl",
         "x": [
          2000,
          2001,
          2002,
          2003,
          2004,
          2005,
          2006,
          2007,
          2008,
          2009,
          2010,
          2011,
          2012,
          2013,
          2014,
          2015,
          2016,
          2017,
          2018,
          2019
         ],
         "xaxis": "x",
         "y": [
          122,
          128,
          132,
          144,
          140,
          139,
          147,
          147,
          155,
          152,
          142,
          139,
          138,
          130,
          134,
          126,
          126,
          130,
          136,
          137
         ],
         "yaxis": "y"
        },
        {
         "hovertemplate": "Entity=Papua New Guinea<br>Year=%{x}<br>deaths_self_harm=%{y}<extra></extra>",
         "legendgroup": "Papua New Guinea",
         "line": {
          "color": "#ab63fa",
          "dash": "solid"
         },
         "marker": {
          "symbol": "circle"
         },
         "mode": "lines",
         "name": "Papua New Guinea",
         "showlegend": true,
         "type": "scattergl",
         "x": [
          2000,
          2001,
          2002,
          2003,
          2004,
          2005,
          2006,
          2007,
          2008,
          2009,
          2010,
          2011,
          2012,
          2013,
          2014,
          2015,
          2016,
          2017,
          2018,
          2019
         ],
         "xaxis": "x",
         "y": [
          125,
          128,
          133,
          136,
          141,
          146,
          151,
          158,
          162,
          164,
          175,
          182,
          184,
          185,
          190,
          200,
          203,
          209,
          216,
          216
         ],
         "yaxis": "y"
        },
        {
         "hovertemplate": "Entity=Paraguay<br>Year=%{x}<br>deaths_self_harm=%{y}<extra></extra>",
         "legendgroup": "Paraguay",
         "line": {
          "color": "#FFA15A",
          "dash": "solid"
         },
         "marker": {
          "symbol": "circle"
         },
         "mode": "lines",
         "name": "Paraguay",
         "showlegend": true,
         "type": "scattergl",
         "x": [
          2000,
          2001,
          2002,
          2003,
          2004,
          2005,
          2006,
          2007,
          2008,
          2009,
          2010,
          2011,
          2012,
          2013,
          2014,
          2015,
          2016,
          2017,
          2018,
          2019
         ],
         "xaxis": "x",
         "y": [
          170,
          175,
          186,
          204,
          220,
          216,
          222,
          223,
          235,
          254,
          253,
          254,
          257,
          268,
          273,
          285,
          303,
          306,
          308,
          312
         ],
         "yaxis": "y"
        },
        {
         "hovertemplate": "Entity=Peru<br>Year=%{x}<br>deaths_self_harm=%{y}<extra></extra>",
         "legendgroup": "Peru",
         "line": {
          "color": "#19d3f3",
          "dash": "solid"
         },
         "marker": {
          "symbol": "circle"
         },
         "mode": "lines",
         "name": "Peru",
         "showlegend": true,
         "type": "scattergl",
         "x": [
          2000,
          2001,
          2002,
          2003,
          2004,
          2005,
          2006,
          2007,
          2008,
          2009,
          2010,
          2011,
          2012,
          2013,
          2014,
          2015,
          2016,
          2017,
          2018,
          2019
         ],
         "xaxis": "x",
         "y": [
          684,
          658,
          650,
          658,
          644,
          642,
          635,
          624,
          640,
          722,
          738,
          737,
          728,
          705,
          674,
          663,
          667,
          687,
          703,
          713
         ],
         "yaxis": "y"
        },
        {
         "hovertemplate": "Entity=Portugal<br>Year=%{x}<br>deaths_self_harm=%{y}<extra></extra>",
         "legendgroup": "Portugal",
         "line": {
          "color": "#FF6692",
          "dash": "solid"
         },
         "marker": {
          "symbol": "circle"
         },
         "mode": "lines",
         "name": "Portugal",
         "showlegend": true,
         "type": "scattergl",
         "x": [
          2000,
          2001,
          2002,
          2003,
          2004,
          2005,
          2006,
          2007,
          2008,
          2009,
          2010,
          2011,
          2012,
          2013,
          2014,
          2015,
          2016,
          2017,
          2018,
          2019
         ],
         "xaxis": "x",
         "y": [
          592,
          595,
          588,
          574,
          563,
          543,
          529,
          531,
          529,
          529,
          524,
          509,
          494,
          473,
          461,
          419,
          382,
          358,
          386,
          394
         ],
         "yaxis": "y"
        },
        {
         "hovertemplate": "Entity=Puerto Rico<br>Year=%{x}<br>deaths_self_harm=%{y}<extra></extra>",
         "legendgroup": "Puerto Rico",
         "line": {
          "color": "#B6E880",
          "dash": "solid"
         },
         "marker": {
          "symbol": "circle"
         },
         "mode": "lines",
         "name": "Puerto Rico",
         "showlegend": true,
         "type": "scattergl",
         "x": [
          2000,
          2001,
          2002,
          2003,
          2004,
          2005,
          2006,
          2007,
          2008,
          2009,
          2010,
          2011,
          2012,
          2013,
          2014,
          2015,
          2016,
          2017,
          2018,
          2019
         ],
         "xaxis": "x",
         "y": [
          185,
          185,
          170,
          165,
          167,
          170,
          169,
          168,
          163,
          166,
          150,
          152,
          137,
          132,
          121,
          113,
          112,
          115,
          115,
          115
         ],
         "yaxis": "y"
        },
        {
         "hovertemplate": "Entity=Qatar<br>Year=%{x}<br>deaths_self_harm=%{y}<extra></extra>",
         "legendgroup": "Qatar",
         "line": {
          "color": "#FF97FF",
          "dash": "solid"
         },
         "marker": {
          "symbol": "circle"
         },
         "mode": "lines",
         "name": "Qatar",
         "showlegend": true,
         "type": "scattergl",
         "x": [
          2000,
          2001,
          2002,
          2003,
          2004,
          2005,
          2006,
          2007,
          2008,
          2009,
          2010,
          2011,
          2012,
          2013,
          2014,
          2015,
          2016,
          2017,
          2018,
          2019
         ],
         "xaxis": "x",
         "y": [
          31,
          33,
          35,
          36,
          39,
          45,
          54,
          66,
          76,
          89,
          99,
          104,
          108,
          112,
          114,
          115,
          115,
          114,
          116,
          119
         ],
         "yaxis": "y"
        },
        {
         "hovertemplate": "Entity=Romania<br>Year=%{x}<br>deaths_self_harm=%{y}<extra></extra>",
         "legendgroup": "Romania",
         "line": {
          "color": "#FECB52",
          "dash": "solid"
         },
         "marker": {
          "symbol": "circle"
         },
         "mode": "lines",
         "name": "Romania",
         "showlegend": true,
         "type": "scattergl",
         "x": [
          2018,
          2019
         ],
         "xaxis": "x",
         "y": [
          973,
          937
         ],
         "yaxis": "y"
        },
        {
         "hovertemplate": "Entity=Rwanda<br>Year=%{x}<br>deaths_self_harm=%{y}<extra></extra>",
         "legendgroup": "Rwanda",
         "line": {
          "color": "#636efa",
          "dash": "solid"
         },
         "marker": {
          "symbol": "circle"
         },
         "mode": "lines",
         "name": "Rwanda",
         "showlegend": true,
         "type": "scattergl",
         "x": [
          2000,
          2001,
          2002,
          2003,
          2004,
          2005,
          2006,
          2007,
          2008,
          2009,
          2010,
          2011,
          2012,
          2013,
          2014,
          2015,
          2016,
          2017,
          2018,
          2019
         ],
         "xaxis": "x",
         "y": [
          426,
          403,
          392,
          382,
          374,
          362,
          350,
          341,
          331,
          323,
          325,
          329,
          337,
          338,
          346,
          357,
          370,
          382,
          397,
          409
         ],
         "yaxis": "y"
        },
        {
         "hovertemplate": "Entity=Saint Kitts and Nevis<br>Year=%{x}<br>deaths_self_harm=%{y}<extra></extra>",
         "legendgroup": "Saint Kitts and Nevis",
         "line": {
          "color": "#EF553B",
          "dash": "solid"
         },
         "marker": {
          "symbol": "circle"
         },
         "mode": "lines",
         "name": "Saint Kitts and Nevis",
         "showlegend": true,
         "type": "scattergl",
         "x": [
          2000,
          2001,
          2002,
          2003,
          2004,
          2005,
          2006,
          2007,
          2008,
          2009,
          2010,
          2011,
          2012,
          2013,
          2014,
          2015,
          2016,
          2017,
          2018,
          2019
         ],
         "xaxis": "x",
         "y": [
          1,
          1,
          1,
          1,
          1,
          1,
          1,
          1,
          1,
          1,
          1,
          1,
          1,
          1,
          1,
          1,
          1,
          1,
          1,
          1
         ],
         "yaxis": "y"
        },
        {
         "hovertemplate": "Entity=Saint Lucia<br>Year=%{x}<br>deaths_self_harm=%{y}<extra></extra>",
         "legendgroup": "Saint Lucia",
         "line": {
          "color": "#00cc96",
          "dash": "solid"
         },
         "marker": {
          "symbol": "circle"
         },
         "mode": "lines",
         "name": "Saint Lucia",
         "showlegend": true,
         "type": "scattergl",
         "x": [
          2000,
          2001,
          2002,
          2003,
          2004,
          2005,
          2006,
          2007,
          2008,
          2009,
          2010,
          2011,
          2012,
          2013,
          2014,
          2015,
          2016,
          2017,
          2018,
          2019
         ],
         "xaxis": "x",
         "y": [
          7,
          6,
          6,
          7,
          7,
          7,
          7,
          7,
          7,
          7,
          7,
          7,
          8,
          8,
          8,
          8,
          8,
          8,
          7,
          7
         ],
         "yaxis": "y"
        },
        {
         "hovertemplate": "Entity=Saint Vincent and the Grenadines<br>Year=%{x}<br>deaths_self_harm=%{y}<extra></extra>",
         "legendgroup": "Saint Vincent and the Grenadines",
         "line": {
          "color": "#ab63fa",
          "dash": "solid"
         },
         "marker": {
          "symbol": "circle"
         },
         "mode": "lines",
         "name": "Saint Vincent and the Grenadines",
         "showlegend": true,
         "type": "scattergl",
         "x": [
          2000,
          2001,
          2002,
          2003,
          2004,
          2005,
          2006,
          2007,
          2008,
          2009,
          2010,
          2011,
          2012,
          2013,
          2014,
          2015,
          2016,
          2017,
          2018,
          2019
         ],
         "xaxis": "x",
         "y": [
          5,
          5,
          5,
          5,
          4,
          5,
          5,
          5,
          5,
          5,
          4,
          4,
          4,
          4,
          4,
          4,
          4,
          4,
          4,
          4
         ],
         "yaxis": "y"
        },
        {
         "hovertemplate": "Entity=Samoa<br>Year=%{x}<br>deaths_self_harm=%{y}<extra></extra>",
         "legendgroup": "Samoa",
         "line": {
          "color": "#FFA15A",
          "dash": "solid"
         },
         "marker": {
          "symbol": "circle"
         },
         "mode": "lines",
         "name": "Samoa",
         "showlegend": true,
         "type": "scattergl",
         "x": [
          2000,
          2001,
          2002,
          2003,
          2004,
          2005,
          2006,
          2007,
          2008,
          2009,
          2010,
          2011,
          2012,
          2013,
          2014,
          2015,
          2016,
          2017,
          2018,
          2019
         ],
         "xaxis": "x",
         "y": [
          20,
          20,
          19,
          19,
          19,
          19,
          19,
          18,
          18,
          18,
          18,
          18,
          18,
          18,
          19,
          19,
          19,
          19,
          20,
          20
         ],
         "yaxis": "y"
        },
        {
         "hovertemplate": "Entity=San Marino<br>Year=%{x}<br>deaths_self_harm=%{y}<extra></extra>",
         "legendgroup": "San Marino",
         "line": {
          "color": "#19d3f3",
          "dash": "solid"
         },
         "marker": {
          "symbol": "circle"
         },
         "mode": "lines",
         "name": "San Marino",
         "showlegend": true,
         "type": "scattergl",
         "x": [
          2000,
          2001,
          2002,
          2003,
          2004,
          2005,
          2006,
          2007,
          2008,
          2009,
          2010,
          2011,
          2012,
          2013,
          2014,
          2015,
          2016,
          2017,
          2018,
          2019
         ],
         "xaxis": "x",
         "y": [
          1,
          1,
          1,
          1,
          1,
          1,
          1,
          1,
          1,
          2,
          2,
          2,
          2,
          2,
          2,
          2,
          2,
          2,
          2,
          2
         ],
         "yaxis": "y"
        },
        {
         "hovertemplate": "Entity=Sao Tome and Principe<br>Year=%{x}<br>deaths_self_harm=%{y}<extra></extra>",
         "legendgroup": "Sao Tome and Principe",
         "line": {
          "color": "#FF6692",
          "dash": "solid"
         },
         "marker": {
          "symbol": "circle"
         },
         "mode": "lines",
         "name": "Sao Tome and Principe",
         "showlegend": true,
         "type": "scattergl",
         "x": [
          2000,
          2001,
          2002,
          2003,
          2004,
          2005,
          2006,
          2007,
          2008,
          2009,
          2010,
          2011,
          2012,
          2013,
          2014,
          2015,
          2016,
          2017,
          2018,
          2019
         ],
         "xaxis": "x",
         "y": [
          2,
          2,
          2,
          2,
          2,
          2,
          2,
          2,
          2,
          2,
          2,
          2,
          2,
          2,
          3,
          3,
          3,
          3,
          3,
          3
         ],
         "yaxis": "y"
        },
        {
         "hovertemplate": "Entity=Saudi Arabia<br>Year=%{x}<br>deaths_self_harm=%{y}<extra></extra>",
         "legendgroup": "Saudi Arabia",
         "line": {
          "color": "#B6E880",
          "dash": "solid"
         },
         "marker": {
          "symbol": "circle"
         },
         "mode": "lines",
         "name": "Saudi Arabia",
         "showlegend": true,
         "type": "scattergl",
         "x": [
          2000,
          2001,
          2002,
          2003,
          2004,
          2005,
          2006,
          2007,
          2008,
          2009,
          2010
         ],
         "xaxis": "x",
         "y": [
          436,
          446,
          463,
          485,
          503,
          554,
          602,
          666,
          735,
          816,
          930
         ],
         "yaxis": "y"
        },
        {
         "hovertemplate": "Entity=Scotland<br>Year=%{x}<br>deaths_self_harm=%{y}<extra></extra>",
         "legendgroup": "Scotland",
         "line": {
          "color": "#FF97FF",
          "dash": "solid"
         },
         "marker": {
          "symbol": "circle"
         },
         "mode": "lines",
         "name": "Scotland",
         "showlegend": true,
         "type": "scattergl",
         "x": [
          2000,
          2001,
          2002,
          2003,
          2004,
          2005,
          2006,
          2007,
          2008,
          2009,
          2010,
          2011,
          2012,
          2013,
          2014,
          2015,
          2016,
          2017,
          2018,
          2019
         ],
         "xaxis": "x",
         "y": [
          516,
          512,
          504,
          472,
          452,
          438,
          464,
          472,
          475,
          458,
          450,
          445,
          426,
          408,
          385,
          394,
          416,
          421,
          408,
          396
         ],
         "yaxis": "y"
        },
        {
         "hovertemplate": "Entity=Senegal<br>Year=%{x}<br>deaths_self_harm=%{y}<extra></extra>",
         "legendgroup": "Senegal",
         "line": {
          "color": "#FECB52",
          "dash": "solid"
         },
         "marker": {
          "symbol": "circle"
         },
         "mode": "lines",
         "name": "Senegal",
         "showlegend": true,
         "type": "scattergl",
         "x": [
          2000,
          2001,
          2002,
          2003,
          2004,
          2005,
          2006,
          2007,
          2008,
          2009,
          2010,
          2011,
          2012,
          2013,
          2014,
          2015,
          2016,
          2017,
          2018,
          2019
         ],
         "xaxis": "x",
         "y": [
          273,
          360,
          367,
          348,
          372,
          378,
          373,
          384,
          395,
          420,
          386,
          404,
          407,
          430,
          465,
          478,
          504,
          510,
          509,
          522
         ],
         "yaxis": "y"
        },
        {
         "hovertemplate": "Entity=Serbia<br>Year=%{x}<br>deaths_self_harm=%{y}<extra></extra>",
         "legendgroup": "Serbia",
         "line": {
          "color": "#636efa",
          "dash": "solid"
         },
         "marker": {
          "symbol": "circle"
         },
         "mode": "lines",
         "name": "Serbia",
         "showlegend": true,
         "type": "scattergl",
         "x": [
          2001,
          2002,
          2003,
          2004,
          2005,
          2006,
          2007,
          2008,
          2009,
          2010,
          2011,
          2012,
          2013,
          2014,
          2015,
          2016,
          2017,
          2018,
          2019
         ],
         "xaxis": "x",
         "y": [
          980,
          920,
          885,
          840,
          803,
          749,
          707,
          701,
          666,
          613,
          592,
          571,
          541,
          525,
          521,
          489,
          483,
          490,
          490
         ],
         "yaxis": "y"
        },
        {
         "hovertemplate": "Entity=Seychelles<br>Year=%{x}<br>deaths_self_harm=%{y}<extra></extra>",
         "legendgroup": "Seychelles",
         "line": {
          "color": "#EF553B",
          "dash": "solid"
         },
         "marker": {
          "symbol": "circle"
         },
         "mode": "lines",
         "name": "Seychelles",
         "showlegend": true,
         "type": "scattergl",
         "x": [
          2000,
          2001,
          2002,
          2003,
          2004,
          2005,
          2006,
          2007,
          2008,
          2009,
          2010,
          2011,
          2012,
          2013,
          2014,
          2015,
          2016,
          2017,
          2018,
          2019
         ],
         "xaxis": "x",
         "y": [
          6,
          6,
          6,
          6,
          6,
          5,
          5,
          5,
          5,
          5,
          5,
          5,
          5,
          5,
          5,
          6,
          6,
          6,
          6,
          6
         ],
         "yaxis": "y"
        },
        {
         "hovertemplate": "Entity=Sierra Leone<br>Year=%{x}<br>deaths_self_harm=%{y}<extra></extra>",
         "legendgroup": "Sierra Leone",
         "line": {
          "color": "#00cc96",
          "dash": "solid"
         },
         "marker": {
          "symbol": "circle"
         },
         "mode": "lines",
         "name": "Sierra Leone",
         "showlegend": true,
         "type": "scattergl",
         "x": [
          2000,
          2001,
          2002,
          2003,
          2004,
          2005,
          2006,
          2007,
          2008,
          2009,
          2010,
          2011,
          2012,
          2013,
          2014,
          2015,
          2016,
          2017,
          2018,
          2019
         ],
         "xaxis": "x",
         "y": [
          111,
          122,
          133,
          145,
          156,
          165,
          171,
          179,
          178,
          185,
          195,
          197,
          208,
          215,
          225,
          228,
          238,
          248,
          261,
          270
         ],
         "yaxis": "y"
        },
        {
         "hovertemplate": "Entity=Singapore<br>Year=%{x}<br>deaths_self_harm=%{y}<extra></extra>",
         "legendgroup": "Singapore",
         "line": {
          "color": "#ab63fa",
          "dash": "solid"
         },
         "marker": {
          "symbol": "circle"
         },
         "mode": "lines",
         "name": "Singapore",
         "showlegend": true,
         "type": "scattergl",
         "x": [
          2000,
          2001,
          2002,
          2003,
          2004,
          2005,
          2006,
          2007,
          2008,
          2009,
          2010,
          2011,
          2012,
          2013,
          2014,
          2015,
          2016,
          2017,
          2018,
          2019
         ],
         "xaxis": "x",
         "y": [
          309,
          306,
          300,
          277,
          266,
          253,
          255,
          259,
          270,
          267,
          256,
          252,
          257,
          247,
          239,
          237,
          229,
          213,
          209,
          211
         ],
         "yaxis": "y"
        },
        {
         "hovertemplate": "Entity=Slovakia<br>Year=%{x}<br>deaths_self_harm=%{y}<extra></extra>",
         "legendgroup": "Slovakia",
         "line": {
          "color": "#FFA15A",
          "dash": "solid"
         },
         "marker": {
          "symbol": "circle"
         },
         "mode": "lines",
         "name": "Slovakia",
         "showlegend": true,
         "type": "scattergl",
         "x": [
          2000,
          2001,
          2002,
          2003,
          2004,
          2005,
          2006,
          2007,
          2008,
          2009,
          2010,
          2011,
          2012,
          2013,
          2014,
          2015,
          2016,
          2017,
          2018,
          2019
         ],
         "xaxis": "x",
         "y": [
          500,
          499,
          507,
          507,
          483,
          490,
          481,
          484,
          470,
          436,
          409,
          401,
          386,
          362,
          357,
          364,
          335,
          330,
          332,
          327
         ],
         "yaxis": "y"
        },
        {
         "hovertemplate": "Entity=Slovenia<br>Year=%{x}<br>deaths_self_harm=%{y}<extra></extra>",
         "legendgroup": "Slovenia",
         "line": {
          "color": "#19d3f3",
          "dash": "solid"
         },
         "marker": {
          "symbol": "circle"
         },
         "mode": "lines",
         "name": "Slovenia",
         "showlegend": true,
         "type": "scattergl",
         "x": [
          2000,
          2001,
          2002,
          2003,
          2004,
          2005,
          2006,
          2007,
          2008,
          2009,
          2010,
          2011,
          2012,
          2013,
          2014,
          2015,
          2016,
          2017,
          2018,
          2019
         ],
         "xaxis": "x",
         "y": [
          319,
          317,
          297,
          297,
          275,
          252,
          250,
          236,
          216,
          197,
          186,
          173,
          170,
          162,
          146,
          152,
          146,
          143,
          141,
          137
         ],
         "yaxis": "y"
        },
        {
         "hovertemplate": "Entity=Solomon Islands<br>Year=%{x}<br>deaths_self_harm=%{y}<extra></extra>",
         "legendgroup": "Solomon Islands",
         "line": {
          "color": "#FF6692",
          "dash": "solid"
         },
         "marker": {
          "symbol": "circle"
         },
         "mode": "lines",
         "name": "Solomon Islands",
         "showlegend": true,
         "type": "scattergl",
         "x": [
          2000,
          2001,
          2002,
          2003,
          2004,
          2005,
          2006,
          2007,
          2008,
          2009,
          2010,
          2011,
          2012,
          2013,
          2014,
          2015,
          2016,
          2017,
          2018,
          2019
         ],
         "xaxis": "x",
         "y": [
          86,
          89,
          91,
          93,
          95,
          97,
          100,
          102,
          101,
          105,
          107,
          111,
          113,
          114,
          117,
          119,
          121,
          123,
          124,
          124
         ],
         "yaxis": "y"
        },
        {
         "hovertemplate": "Entity=Somalia<br>Year=%{x}<br>deaths_self_harm=%{y}<extra></extra>",
         "legendgroup": "Somalia",
         "line": {
          "color": "#B6E880",
          "dash": "solid"
         },
         "marker": {
          "symbol": "circle"
         },
         "mode": "lines",
         "name": "Somalia",
         "showlegend": true,
         "type": "scattergl",
         "x": [
          2000,
          2001,
          2002,
          2003,
          2004,
          2005,
          2006,
          2007,
          2008,
          2009,
          2010,
          2011,
          2012,
          2013,
          2014,
          2015,
          2016,
          2017,
          2018,
          2019
         ],
         "xaxis": "x",
         "y": [
          429,
          436,
          449,
          461,
          471,
          480,
          484,
          502,
          517,
          531,
          543,
          559,
          577,
          603,
          633,
          667,
          702,
          737,
          774,
          807
         ],
         "yaxis": "y"
        },
        {
         "hovertemplate": "Entity=South Sudan<br>Year=%{x}<br>deaths_self_harm=%{y}<extra></extra>",
         "legendgroup": "South Sudan",
         "line": {
          "color": "#FF97FF",
          "dash": "solid"
         },
         "marker": {
          "symbol": "circle"
         },
         "mode": "lines",
         "name": "South Sudan",
         "showlegend": true,
         "type": "scattergl",
         "x": [
          2000,
          2001,
          2002,
          2003,
          2004,
          2005,
          2006,
          2007,
          2008,
          2009,
          2010,
          2011,
          2012,
          2013,
          2014,
          2015,
          2016,
          2017,
          2018,
          2019
         ],
         "xaxis": "x",
         "y": [
          171,
          163,
          161,
          171,
          179,
          183,
          193,
          198,
          200,
          203,
          205,
          207,
          209,
          209,
          205,
          194,
          183,
          183,
          191,
          198
         ],
         "yaxis": "y"
        },
        {
         "hovertemplate": "Entity=Suriname<br>Year=%{x}<br>deaths_self_harm=%{y}<extra></extra>",
         "legendgroup": "Suriname",
         "line": {
          "color": "#FECB52",
          "dash": "solid"
         },
         "marker": {
          "symbol": "circle"
         },
         "mode": "lines",
         "name": "Suriname",
         "showlegend": true,
         "type": "scattergl",
         "x": [
          2000,
          2001,
          2002,
          2003,
          2004,
          2005,
          2006,
          2007,
          2008,
          2009,
          2010,
          2011,
          2012,
          2013,
          2014,
          2015,
          2016,
          2017,
          2018,
          2019
         ],
         "xaxis": "x",
         "y": [
          67,
          67,
          71,
          79,
          83,
          84,
          88,
          93,
          96,
          96,
          97,
          96,
          91,
          89,
          84,
          90,
          92,
          91,
          89,
          88
         ],
         "yaxis": "y"
        },
        {
         "hovertemplate": "Entity=Sweden<br>Year=%{x}<br>deaths_self_harm=%{y}<extra></extra>",
         "legendgroup": "Sweden",
         "line": {
          "color": "#636efa",
          "dash": "solid"
         },
         "marker": {
          "symbol": "circle"
         },
         "mode": "lines",
         "name": "Sweden",
         "showlegend": true,
         "type": "scattergl",
         "x": [
          2000,
          2001,
          2002,
          2003,
          2004,
          2005,
          2006,
          2007,
          2008,
          2009,
          2010,
          2011,
          2012,
          2013,
          2014,
          2015,
          2016,
          2017,
          2018,
          2019
         ],
         "xaxis": "x",
         "y": [
          677,
          667,
          653,
          651,
          659,
          638,
          635,
          647,
          658,
          658,
          646,
          652,
          655,
          666,
          664,
          652,
          639,
          629,
          614,
          602
         ],
         "yaxis": "y"
        },
        {
         "hovertemplate": "Entity=Switzerland<br>Year=%{x}<br>deaths_self_harm=%{y}<extra></extra>",
         "legendgroup": "Switzerland",
         "line": {
          "color": "#EF553B",
          "dash": "solid"
         },
         "marker": {
          "symbol": "circle"
         },
         "mode": "lines",
         "name": "Switzerland",
         "showlegend": true,
         "type": "scattergl",
         "x": [
          2000,
          2001,
          2002,
          2003,
          2004,
          2005,
          2006,
          2007,
          2008,
          2009,
          2010,
          2011,
          2012,
          2013,
          2014,
          2015,
          2016,
          2017,
          2018,
          2019
         ],
         "xaxis": "x",
         "y": [
          709,
          686,
          681,
          650,
          635,
          626,
          600,
          576,
          558,
          545,
          516,
          501,
          483,
          472,
          448,
          434,
          427,
          424,
          431,
          430
         ],
         "yaxis": "y"
        },
        {
         "hovertemplate": "Entity=Syria<br>Year=%{x}<br>deaths_self_harm=%{y}<extra></extra>",
         "legendgroup": "Syria",
         "line": {
          "color": "#00cc96",
          "dash": "solid"
         },
         "marker": {
          "symbol": "circle"
         },
         "mode": "lines",
         "name": "Syria",
         "showlegend": true,
         "type": "scattergl",
         "x": [
          2000,
          2001,
          2002,
          2003,
          2004,
          2005,
          2006,
          2007,
          2008,
          2009,
          2010,
          2011,
          2012,
          2013,
          2014,
          2015,
          2016,
          2017,
          2018,
          2019
         ],
         "xaxis": "x",
         "y": [
          237,
          235,
          243,
          243,
          259,
          277,
          296,
          309,
          323,
          326,
          332,
          311,
          275,
          246,
          228,
          215,
          206,
          201,
          202,
          208
         ],
         "yaxis": "y"
        },
        {
         "hovertemplate": "Entity=Tajikistan<br>Year=%{x}<br>deaths_self_harm=%{y}<extra></extra>",
         "legendgroup": "Tajikistan",
         "line": {
          "color": "#ab63fa",
          "dash": "solid"
         },
         "marker": {
          "symbol": "circle"
         },
         "mode": "lines",
         "name": "Tajikistan",
         "showlegend": true,
         "type": "scattergl",
         "x": [
          2000,
          2001,
          2002,
          2003,
          2004,
          2005,
          2006,
          2007,
          2008,
          2009,
          2010,
          2011,
          2012,
          2013,
          2014,
          2015,
          2016,
          2017,
          2018,
          2019
         ],
         "xaxis": "x",
         "y": [
          205,
          199,
          195,
          195,
          203,
          214,
          220,
          229,
          239,
          251,
          263,
          277,
          288,
          295,
          306,
          320,
          340,
          341,
          347,
          355
         ],
         "yaxis": "y"
        },
        {
         "hovertemplate": "Entity=Togo<br>Year=%{x}<br>deaths_self_harm=%{y}<extra></extra>",
         "legendgroup": "Togo",
         "line": {
          "color": "#FFA15A",
          "dash": "solid"
         },
         "marker": {
          "symbol": "circle"
         },
         "mode": "lines",
         "name": "Togo",
         "showlegend": true,
         "type": "scattergl",
         "x": [
          2000,
          2001,
          2002,
          2003,
          2004,
          2005,
          2006,
          2007,
          2008,
          2009,
          2010,
          2011,
          2012,
          2013,
          2014,
          2015,
          2016,
          2017,
          2018,
          2019
         ],
         "xaxis": "x",
         "y": [
          187,
          195,
          202,
          213,
          218,
          225,
          231,
          242,
          257,
          269,
          277,
          282,
          284,
          287,
          295,
          300,
          311,
          320,
          323,
          325
         ],
         "yaxis": "y"
        },
        {
         "hovertemplate": "Entity=Tokelau<br>Year=%{x}<br>deaths_self_harm=%{y}<extra></extra>",
         "legendgroup": "Tokelau",
         "line": {
          "color": "#19d3f3",
          "dash": "solid"
         },
         "marker": {
          "symbol": "circle"
         },
         "mode": "lines",
         "name": "Tokelau",
         "showlegend": true,
         "type": "scattergl",
         "x": [
          2000,
          2001,
          2002,
          2003,
          2004,
          2005,
          2006,
          2007,
          2008,
          2009,
          2010,
          2011,
          2012,
          2013,
          2014,
          2015,
          2016,
          2017,
          2018,
          2019
         ],
         "xaxis": "x",
         "y": [
          0,
          0,
          0,
          0,
          0,
          0,
          0,
          0,
          0,
          0,
          0,
          0,
          0,
          0,
          0,
          0,
          0,
          0,
          0,
          0
         ],
         "yaxis": "y"
        },
        {
         "hovertemplate": "Entity=Tonga<br>Year=%{x}<br>deaths_self_harm=%{y}<extra></extra>",
         "legendgroup": "Tonga",
         "line": {
          "color": "#FF6692",
          "dash": "solid"
         },
         "marker": {
          "symbol": "circle"
         },
         "mode": "lines",
         "name": "Tonga",
         "showlegend": true,
         "type": "scattergl",
         "x": [
          2000,
          2001,
          2002,
          2003,
          2004,
          2005,
          2006,
          2007,
          2008,
          2009,
          2010,
          2011,
          2012,
          2013,
          2014,
          2015,
          2016,
          2017,
          2018,
          2019
         ],
         "xaxis": "x",
         "y": [
          3,
          3,
          3,
          3,
          3,
          3,
          3,
          3,
          3,
          3,
          3,
          3,
          3,
          3,
          3,
          3,
          3,
          3,
          3,
          3
         ],
         "yaxis": "y"
        },
        {
         "hovertemplate": "Entity=Trinidad and Tobago<br>Year=%{x}<br>deaths_self_harm=%{y}<extra></extra>",
         "legendgroup": "Trinidad and Tobago",
         "line": {
          "color": "#B6E880",
          "dash": "solid"
         },
         "marker": {
          "symbol": "circle"
         },
         "mode": "lines",
         "name": "Trinidad and Tobago",
         "showlegend": true,
         "type": "scattergl",
         "x": [
          2000,
          2001,
          2002,
          2003,
          2004,
          2005,
          2006,
          2007,
          2008,
          2009,
          2010,
          2011,
          2012,
          2013,
          2014,
          2015,
          2016,
          2017,
          2018,
          2019
         ],
         "xaxis": "x",
         "y": [
          135,
          137,
          134,
          131,
          134,
          131,
          126,
          131,
          143,
          132,
          124,
          115,
          105,
          109,
          108,
          105,
          105,
          105,
          104,
          103
         ],
         "yaxis": "y"
        },
        {
         "hovertemplate": "Entity=Tunisia<br>Year=%{x}<br>deaths_self_harm=%{y}<extra></extra>",
         "legendgroup": "Tunisia",
         "line": {
          "color": "#FF97FF",
          "dash": "solid"
         },
         "marker": {
          "symbol": "circle"
         },
         "mode": "lines",
         "name": "Tunisia",
         "showlegend": true,
         "type": "scattergl",
         "x": [
          2000,
          2001,
          2002,
          2003,
          2004,
          2005,
          2006,
          2007,
          2008,
          2009,
          2010,
          2011,
          2012,
          2013,
          2014,
          2015,
          2016,
          2017,
          2018,
          2019
         ],
         "xaxis": "x",
         "y": [
          283,
          287,
          291,
          297,
          299,
          300,
          301,
          299,
          295,
          294,
          293,
          288,
          287,
          286,
          284,
          281,
          278,
          276,
          275,
          274
         ],
         "yaxis": "y"
        },
        {
         "hovertemplate": "Entity=Turkmenistan<br>Year=%{x}<br>deaths_self_harm=%{y}<extra></extra>",
         "legendgroup": "Turkmenistan",
         "line": {
          "color": "#FECB52",
          "dash": "solid"
         },
         "marker": {
          "symbol": "circle"
         },
         "mode": "lines",
         "name": "Turkmenistan",
         "showlegend": true,
         "type": "scattergl",
         "x": [
          2000,
          2001,
          2002,
          2003,
          2004,
          2005,
          2006,
          2007,
          2008,
          2009,
          2010,
          2011,
          2012,
          2013,
          2014,
          2015,
          2016,
          2017,
          2018,
          2019
         ],
         "xaxis": "x",
         "y": [
          390,
          399,
          422,
          424,
          446,
          471,
          468,
          449,
          425,
          377,
          359,
          357,
          354,
          357,
          360,
          361,
          359,
          358,
          354,
          350
         ],
         "yaxis": "y"
        },
        {
         "hovertemplate": "Entity=Tuvalu<br>Year=%{x}<br>deaths_self_harm=%{y}<extra></extra>",
         "legendgroup": "Tuvalu",
         "line": {
          "color": "#636efa",
          "dash": "solid"
         },
         "marker": {
          "symbol": "circle"
         },
         "mode": "lines",
         "name": "Tuvalu",
         "showlegend": true,
         "type": "scattergl",
         "x": [
          2000,
          2001,
          2002,
          2003,
          2004,
          2005,
          2006,
          2007,
          2008,
          2009,
          2010,
          2011,
          2012,
          2013,
          2014,
          2015,
          2016,
          2017,
          2018,
          2019
         ],
         "xaxis": "x",
         "y": [
          1,
          1,
          1,
          1,
          1,
          1,
          1,
          1,
          1,
          1,
          1,
          1,
          1,
          1,
          1,
          1,
          1,
          1,
          1,
          1
         ],
         "yaxis": "y"
        },
        {
         "hovertemplate": "Entity=Uganda<br>Year=%{x}<br>deaths_self_harm=%{y}<extra></extra>",
         "legendgroup": "Uganda",
         "line": {
          "color": "#EF553B",
          "dash": "solid"
         },
         "marker": {
          "symbol": "circle"
         },
         "mode": "lines",
         "name": "Uganda",
         "showlegend": true,
         "type": "scattergl",
         "x": [
          2000,
          2001,
          2002,
          2008,
          2009,
          2010,
          2011,
          2012
         ],
         "xaxis": "x",
         "y": [
          947,
          984,
          987,
          980,
          965,
          960,
          966,
          981
         ],
         "yaxis": "y"
        },
        {
         "hovertemplate": "Entity=United Arab Emirates<br>Year=%{x}<br>deaths_self_harm=%{y}<extra></extra>",
         "legendgroup": "United Arab Emirates",
         "line": {
          "color": "#00cc96",
          "dash": "solid"
         },
         "marker": {
          "symbol": "circle"
         },
         "mode": "lines",
         "name": "United Arab Emirates",
         "showlegend": true,
         "type": "scattergl",
         "x": [
          2000,
          2001,
          2002,
          2003,
          2004,
          2005,
          2006,
          2007,
          2008,
          2009,
          2010,
          2011,
          2012,
          2013,
          2014,
          2015,
          2016,
          2017,
          2018,
          2019
         ],
         "xaxis": "x",
         "y": [
          179,
          187,
          197,
          195,
          196,
          201,
          233,
          307,
          400,
          482,
          505,
          523,
          537,
          562,
          583,
          586,
          583,
          576,
          573,
          572
         ],
         "yaxis": "y"
        },
        {
         "hovertemplate": "Entity=United States Virgin Islands<br>Year=%{x}<br>deaths_self_harm=%{y}<extra></extra>",
         "legendgroup": "United States Virgin Islands",
         "line": {
          "color": "#ab63fa",
          "dash": "solid"
         },
         "marker": {
          "symbol": "circle"
         },
         "mode": "lines",
         "name": "United States Virgin Islands",
         "showlegend": true,
         "type": "scattergl",
         "x": [
          2000,
          2001,
          2002,
          2003,
          2004,
          2005,
          2006,
          2007,
          2008,
          2009,
          2010,
          2011,
          2012,
          2013,
          2014,
          2015,
          2016,
          2017,
          2018,
          2019
         ],
         "xaxis": "x",
         "y": [
          5,
          5,
          5,
          5,
          5,
          4,
          4,
          3,
          3,
          3,
          3,
          3,
          3,
          3,
          3,
          3,
          3,
          3,
          3,
          3
         ],
         "yaxis": "y"
        },
        {
         "hovertemplate": "Entity=Uruguay<br>Year=%{x}<br>deaths_self_harm=%{y}<extra></extra>",
         "legendgroup": "Uruguay",
         "line": {
          "color": "#FFA15A",
          "dash": "solid"
         },
         "marker": {
          "symbol": "circle"
         },
         "mode": "lines",
         "name": "Uruguay",
         "showlegend": true,
         "type": "scattergl",
         "x": [
          2000,
          2001,
          2002,
          2003,
          2004,
          2005,
          2006,
          2007,
          2008,
          2009,
          2010,
          2011,
          2012,
          2013,
          2014,
          2015,
          2016,
          2017,
          2018,
          2019
         ],
         "xaxis": "x",
         "y": [
          294,
          293,
          309,
          301,
          296,
          293,
          301,
          318,
          313,
          319,
          326,
          346,
          351,
          355,
          357,
          359,
          358,
          353,
          347,
          335
         ],
         "yaxis": "y"
        },
        {
         "hovertemplate": "Entity=Vanuatu<br>Year=%{x}<br>deaths_self_harm=%{y}<extra></extra>",
         "legendgroup": "Vanuatu",
         "line": {
          "color": "#19d3f3",
          "dash": "solid"
         },
         "marker": {
          "symbol": "circle"
         },
         "mode": "lines",
         "name": "Vanuatu",
         "showlegend": true,
         "type": "scattergl",
         "x": [
          2000,
          2001,
          2002,
          2003,
          2004,
          2005,
          2006,
          2007,
          2008,
          2009,
          2010,
          2011,
          2012,
          2013,
          2014,
          2015,
          2016,
          2017,
          2018,
          2019
         ],
         "xaxis": "x",
         "y": [
          30,
          31,
          30,
          30,
          30,
          32,
          33,
          34,
          36,
          36,
          37,
          38,
          39,
          39,
          40,
          40,
          41,
          42,
          42,
          42
         ],
         "yaxis": "y"
        },
        {
         "hovertemplate": "Entity=Wales<br>Year=%{x}<br>deaths_self_harm=%{y}<extra></extra>",
         "legendgroup": "Wales",
         "line": {
          "color": "#FF6692",
          "dash": "solid"
         },
         "marker": {
          "symbol": "circle"
         },
         "mode": "lines",
         "name": "Wales",
         "showlegend": true,
         "type": "scattergl",
         "x": [
          2000,
          2001,
          2002,
          2003,
          2004,
          2005,
          2006,
          2007,
          2008,
          2009,
          2010,
          2011,
          2012,
          2013,
          2014,
          2015,
          2016,
          2017,
          2018,
          2019
         ],
         "xaxis": "x",
         "y": [
          204,
          198,
          192,
          191,
          181,
          175,
          181,
          182,
          180,
          179,
          180,
          183,
          183,
          178,
          166,
          175,
          179,
          181,
          177,
          175
         ],
         "yaxis": "y"
        },
        {
         "hovertemplate": "Entity=Yemen<br>Year=%{x}<br>deaths_self_harm=%{y}<extra></extra>",
         "legendgroup": "Yemen",
         "line": {
          "color": "#B6E880",
          "dash": "solid"
         },
         "marker": {
          "symbol": "circle"
         },
         "mode": "lines",
         "name": "Yemen",
         "showlegend": true,
         "type": "scattergl",
         "x": [
          2000,
          2001,
          2002,
          2003,
          2004,
          2005,
          2006,
          2007,
          2008,
          2009,
          2010,
          2011,
          2012
         ],
         "xaxis": "x",
         "y": [
          666,
          693,
          737,
          774,
          811,
          837,
          874,
          905,
          978,
          980,
          934,
          971,
          981
         ],
         "yaxis": "y"
        },
        {
         "hovertemplate": "Entity=Zambia<br>Year=%{x}<br>deaths_self_harm=%{y}<extra></extra>",
         "legendgroup": "Zambia",
         "line": {
          "color": "#FF97FF",
          "dash": "solid"
         },
         "marker": {
          "symbol": "circle"
         },
         "mode": "lines",
         "name": "Zambia",
         "showlegend": true,
         "type": "scattergl",
         "x": [
          2000,
          2001,
          2002,
          2003,
          2004,
          2005,
          2006,
          2007,
          2008,
          2009,
          2010,
          2011,
          2012,
          2013,
          2014,
          2015,
          2016,
          2017,
          2018,
          2019
         ],
         "xaxis": "x",
         "y": [
          470,
          480,
          493,
          513,
          533,
          551,
          568,
          575,
          582,
          593,
          620,
          643,
          659,
          686,
          714,
          743,
          775,
          804,
          826,
          841
         ],
         "yaxis": "y"
        },
        {
         "hovertemplate": "Entity=Zimbabwe<br>Year=%{x}<br>deaths_self_harm=%{y}<extra></extra>",
         "legendgroup": "Zimbabwe",
         "line": {
          "color": "#FECB52",
          "dash": "solid"
         },
         "marker": {
          "symbol": "circle"
         },
         "mode": "lines",
         "name": "Zimbabwe",
         "showlegend": true,
         "type": "scattergl",
         "x": [
          2000
         ],
         "xaxis": "x",
         "y": [
          973
         ],
         "yaxis": "y"
        }
       ],
       "layout": {
        "legend": {
         "title": {
          "text": "Entity"
         },
         "tracegroupgap": 0
        },
        "template": {
         "data": {
          "bar": [
           {
            "error_x": {
             "color": "#2a3f5f"
            },
            "error_y": {
             "color": "#2a3f5f"
            },
            "marker": {
             "line": {
              "color": "#E5ECF6",
              "width": 0.5
             },
             "pattern": {
              "fillmode": "overlay",
              "size": 10,
              "solidity": 0.2
             }
            },
            "type": "bar"
           }
          ],
          "barpolar": [
           {
            "marker": {
             "line": {
              "color": "#E5ECF6",
              "width": 0.5
             },
             "pattern": {
              "fillmode": "overlay",
              "size": 10,
              "solidity": 0.2
             }
            },
            "type": "barpolar"
           }
          ],
          "carpet": [
           {
            "aaxis": {
             "endlinecolor": "#2a3f5f",
             "gridcolor": "white",
             "linecolor": "white",
             "minorgridcolor": "white",
             "startlinecolor": "#2a3f5f"
            },
            "baxis": {
             "endlinecolor": "#2a3f5f",
             "gridcolor": "white",
             "linecolor": "white",
             "minorgridcolor": "white",
             "startlinecolor": "#2a3f5f"
            },
            "type": "carpet"
           }
          ],
          "choropleth": [
           {
            "colorbar": {
             "outlinewidth": 0,
             "ticks": ""
            },
            "type": "choropleth"
           }
          ],
          "contour": [
           {
            "colorbar": {
             "outlinewidth": 0,
             "ticks": ""
            },
            "colorscale": [
             [
              0,
              "#0d0887"
             ],
             [
              0.1111111111111111,
              "#46039f"
             ],
             [
              0.2222222222222222,
              "#7201a8"
             ],
             [
              0.3333333333333333,
              "#9c179e"
             ],
             [
              0.4444444444444444,
              "#bd3786"
             ],
             [
              0.5555555555555556,
              "#d8576b"
             ],
             [
              0.6666666666666666,
              "#ed7953"
             ],
             [
              0.7777777777777778,
              "#fb9f3a"
             ],
             [
              0.8888888888888888,
              "#fdca26"
             ],
             [
              1,
              "#f0f921"
             ]
            ],
            "type": "contour"
           }
          ],
          "contourcarpet": [
           {
            "colorbar": {
             "outlinewidth": 0,
             "ticks": ""
            },
            "type": "contourcarpet"
           }
          ],
          "heatmap": [
           {
            "colorbar": {
             "outlinewidth": 0,
             "ticks": ""
            },
            "colorscale": [
             [
              0,
              "#0d0887"
             ],
             [
              0.1111111111111111,
              "#46039f"
             ],
             [
              0.2222222222222222,
              "#7201a8"
             ],
             [
              0.3333333333333333,
              "#9c179e"
             ],
             [
              0.4444444444444444,
              "#bd3786"
             ],
             [
              0.5555555555555556,
              "#d8576b"
             ],
             [
              0.6666666666666666,
              "#ed7953"
             ],
             [
              0.7777777777777778,
              "#fb9f3a"
             ],
             [
              0.8888888888888888,
              "#fdca26"
             ],
             [
              1,
              "#f0f921"
             ]
            ],
            "type": "heatmap"
           }
          ],
          "heatmapgl": [
           {
            "colorbar": {
             "outlinewidth": 0,
             "ticks": ""
            },
            "colorscale": [
             [
              0,
              "#0d0887"
             ],
             [
              0.1111111111111111,
              "#46039f"
             ],
             [
              0.2222222222222222,
              "#7201a8"
             ],
             [
              0.3333333333333333,
              "#9c179e"
             ],
             [
              0.4444444444444444,
              "#bd3786"
             ],
             [
              0.5555555555555556,
              "#d8576b"
             ],
             [
              0.6666666666666666,
              "#ed7953"
             ],
             [
              0.7777777777777778,
              "#fb9f3a"
             ],
             [
              0.8888888888888888,
              "#fdca26"
             ],
             [
              1,
              "#f0f921"
             ]
            ],
            "type": "heatmapgl"
           }
          ],
          "histogram": [
           {
            "marker": {
             "pattern": {
              "fillmode": "overlay",
              "size": 10,
              "solidity": 0.2
             }
            },
            "type": "histogram"
           }
          ],
          "histogram2d": [
           {
            "colorbar": {
             "outlinewidth": 0,
             "ticks": ""
            },
            "colorscale": [
             [
              0,
              "#0d0887"
             ],
             [
              0.1111111111111111,
              "#46039f"
             ],
             [
              0.2222222222222222,
              "#7201a8"
             ],
             [
              0.3333333333333333,
              "#9c179e"
             ],
             [
              0.4444444444444444,
              "#bd3786"
             ],
             [
              0.5555555555555556,
              "#d8576b"
             ],
             [
              0.6666666666666666,
              "#ed7953"
             ],
             [
              0.7777777777777778,
              "#fb9f3a"
             ],
             [
              0.8888888888888888,
              "#fdca26"
             ],
             [
              1,
              "#f0f921"
             ]
            ],
            "type": "histogram2d"
           }
          ],
          "histogram2dcontour": [
           {
            "colorbar": {
             "outlinewidth": 0,
             "ticks": ""
            },
            "colorscale": [
             [
              0,
              "#0d0887"
             ],
             [
              0.1111111111111111,
              "#46039f"
             ],
             [
              0.2222222222222222,
              "#7201a8"
             ],
             [
              0.3333333333333333,
              "#9c179e"
             ],
             [
              0.4444444444444444,
              "#bd3786"
             ],
             [
              0.5555555555555556,
              "#d8576b"
             ],
             [
              0.6666666666666666,
              "#ed7953"
             ],
             [
              0.7777777777777778,
              "#fb9f3a"
             ],
             [
              0.8888888888888888,
              "#fdca26"
             ],
             [
              1,
              "#f0f921"
             ]
            ],
            "type": "histogram2dcontour"
           }
          ],
          "mesh3d": [
           {
            "colorbar": {
             "outlinewidth": 0,
             "ticks": ""
            },
            "type": "mesh3d"
           }
          ],
          "parcoords": [
           {
            "line": {
             "colorbar": {
              "outlinewidth": 0,
              "ticks": ""
             }
            },
            "type": "parcoords"
           }
          ],
          "pie": [
           {
            "automargin": true,
            "type": "pie"
           }
          ],
          "scatter": [
           {
            "fillpattern": {
             "fillmode": "overlay",
             "size": 10,
             "solidity": 0.2
            },
            "type": "scatter"
           }
          ],
          "scatter3d": [
           {
            "line": {
             "colorbar": {
              "outlinewidth": 0,
              "ticks": ""
             }
            },
            "marker": {
             "colorbar": {
              "outlinewidth": 0,
              "ticks": ""
             }
            },
            "type": "scatter3d"
           }
          ],
          "scattercarpet": [
           {
            "marker": {
             "colorbar": {
              "outlinewidth": 0,
              "ticks": ""
             }
            },
            "type": "scattercarpet"
           }
          ],
          "scattergeo": [
           {
            "marker": {
             "colorbar": {
              "outlinewidth": 0,
              "ticks": ""
             }
            },
            "type": "scattergeo"
           }
          ],
          "scattergl": [
           {
            "marker": {
             "colorbar": {
              "outlinewidth": 0,
              "ticks": ""
             }
            },
            "type": "scattergl"
           }
          ],
          "scattermapbox": [
           {
            "marker": {
             "colorbar": {
              "outlinewidth": 0,
              "ticks": ""
             }
            },
            "type": "scattermapbox"
           }
          ],
          "scatterpolar": [
           {
            "marker": {
             "colorbar": {
              "outlinewidth": 0,
              "ticks": ""
             }
            },
            "type": "scatterpolar"
           }
          ],
          "scatterpolargl": [
           {
            "marker": {
             "colorbar": {
              "outlinewidth": 0,
              "ticks": ""
             }
            },
            "type": "scatterpolargl"
           }
          ],
          "scatterternary": [
           {
            "marker": {
             "colorbar": {
              "outlinewidth": 0,
              "ticks": ""
             }
            },
            "type": "scatterternary"
           }
          ],
          "surface": [
           {
            "colorbar": {
             "outlinewidth": 0,
             "ticks": ""
            },
            "colorscale": [
             [
              0,
              "#0d0887"
             ],
             [
              0.1111111111111111,
              "#46039f"
             ],
             [
              0.2222222222222222,
              "#7201a8"
             ],
             [
              0.3333333333333333,
              "#9c179e"
             ],
             [
              0.4444444444444444,
              "#bd3786"
             ],
             [
              0.5555555555555556,
              "#d8576b"
             ],
             [
              0.6666666666666666,
              "#ed7953"
             ],
             [
              0.7777777777777778,
              "#fb9f3a"
             ],
             [
              0.8888888888888888,
              "#fdca26"
             ],
             [
              1,
              "#f0f921"
             ]
            ],
            "type": "surface"
           }
          ],
          "table": [
           {
            "cells": {
             "fill": {
              "color": "#EBF0F8"
             },
             "line": {
              "color": "white"
             }
            },
            "header": {
             "fill": {
              "color": "#C8D4E3"
             },
             "line": {
              "color": "white"
             }
            },
            "type": "table"
           }
          ]
         },
         "layout": {
          "annotationdefaults": {
           "arrowcolor": "#2a3f5f",
           "arrowhead": 0,
           "arrowwidth": 1
          },
          "autotypenumbers": "strict",
          "coloraxis": {
           "colorbar": {
            "outlinewidth": 0,
            "ticks": ""
           }
          },
          "colorscale": {
           "diverging": [
            [
             0,
             "#8e0152"
            ],
            [
             0.1,
             "#c51b7d"
            ],
            [
             0.2,
             "#de77ae"
            ],
            [
             0.3,
             "#f1b6da"
            ],
            [
             0.4,
             "#fde0ef"
            ],
            [
             0.5,
             "#f7f7f7"
            ],
            [
             0.6,
             "#e6f5d0"
            ],
            [
             0.7,
             "#b8e186"
            ],
            [
             0.8,
             "#7fbc41"
            ],
            [
             0.9,
             "#4d9221"
            ],
            [
             1,
             "#276419"
            ]
           ],
           "sequential": [
            [
             0,
             "#0d0887"
            ],
            [
             0.1111111111111111,
             "#46039f"
            ],
            [
             0.2222222222222222,
             "#7201a8"
            ],
            [
             0.3333333333333333,
             "#9c179e"
            ],
            [
             0.4444444444444444,
             "#bd3786"
            ],
            [
             0.5555555555555556,
             "#d8576b"
            ],
            [
             0.6666666666666666,
             "#ed7953"
            ],
            [
             0.7777777777777778,
             "#fb9f3a"
            ],
            [
             0.8888888888888888,
             "#fdca26"
            ],
            [
             1,
             "#f0f921"
            ]
           ],
           "sequentialminus": [
            [
             0,
             "#0d0887"
            ],
            [
             0.1111111111111111,
             "#46039f"
            ],
            [
             0.2222222222222222,
             "#7201a8"
            ],
            [
             0.3333333333333333,
             "#9c179e"
            ],
            [
             0.4444444444444444,
             "#bd3786"
            ],
            [
             0.5555555555555556,
             "#d8576b"
            ],
            [
             0.6666666666666666,
             "#ed7953"
            ],
            [
             0.7777777777777778,
             "#fb9f3a"
            ],
            [
             0.8888888888888888,
             "#fdca26"
            ],
            [
             1,
             "#f0f921"
            ]
           ]
          },
          "colorway": [
           "#636efa",
           "#EF553B",
           "#00cc96",
           "#ab63fa",
           "#FFA15A",
           "#19d3f3",
           "#FF6692",
           "#B6E880",
           "#FF97FF",
           "#FECB52"
          ],
          "font": {
           "color": "#2a3f5f"
          },
          "geo": {
           "bgcolor": "white",
           "lakecolor": "white",
           "landcolor": "#E5ECF6",
           "showlakes": true,
           "showland": true,
           "subunitcolor": "white"
          },
          "hoverlabel": {
           "align": "left"
          },
          "hovermode": "closest",
          "mapbox": {
           "style": "light"
          },
          "paper_bgcolor": "white",
          "plot_bgcolor": "#E5ECF6",
          "polar": {
           "angularaxis": {
            "gridcolor": "white",
            "linecolor": "white",
            "ticks": ""
           },
           "bgcolor": "#E5ECF6",
           "radialaxis": {
            "gridcolor": "white",
            "linecolor": "white",
            "ticks": ""
           }
          },
          "scene": {
           "xaxis": {
            "backgroundcolor": "#E5ECF6",
            "gridcolor": "white",
            "gridwidth": 2,
            "linecolor": "white",
            "showbackground": true,
            "ticks": "",
            "zerolinecolor": "white"
           },
           "yaxis": {
            "backgroundcolor": "#E5ECF6",
            "gridcolor": "white",
            "gridwidth": 2,
            "linecolor": "white",
            "showbackground": true,
            "ticks": "",
            "zerolinecolor": "white"
           },
           "zaxis": {
            "backgroundcolor": "#E5ECF6",
            "gridcolor": "white",
            "gridwidth": 2,
            "linecolor": "white",
            "showbackground": true,
            "ticks": "",
            "zerolinecolor": "white"
           }
          },
          "shapedefaults": {
           "line": {
            "color": "#2a3f5f"
           }
          },
          "ternary": {
           "aaxis": {
            "gridcolor": "white",
            "linecolor": "white",
            "ticks": ""
           },
           "baxis": {
            "gridcolor": "white",
            "linecolor": "white",
            "ticks": ""
           },
           "bgcolor": "#E5ECF6",
           "caxis": {
            "gridcolor": "white",
            "linecolor": "white",
            "ticks": ""
           }
          },
          "title": {
           "x": 0.05
          },
          "xaxis": {
           "automargin": true,
           "gridcolor": "white",
           "linecolor": "white",
           "ticks": "",
           "title": {
            "standoff": 15
           },
           "zerolinecolor": "white",
           "zerolinewidth": 2
          },
          "yaxis": {
           "automargin": true,
           "gridcolor": "white",
           "linecolor": "white",
           "ticks": "",
           "title": {
            "standoff": 15
           },
           "zerolinecolor": "white",
           "zerolinewidth": 2
          }
         }
        },
        "title": {
         "text": "Your Plot Title"
        },
        "xaxis": {
         "anchor": "y",
         "domain": [
          0,
          1
         ],
         "title": {
          "text": "Year"
         }
        },
        "yaxis": {
         "anchor": "x",
         "domain": [
          0,
          1
         ],
         "title": {
          "text": "deaths_self_harm"
         }
        }
       }
      }
     },
     "metadata": {},
     "output_type": "display_data"
    }
   ],
   "source": [
    "fig = px.line(grouped_data, x='Year', y='deaths_self_harm',color='Entity',\n",
    "              labels={'x': 'X-Axis Label', 'y': 'Y-Axis Label'},\n",
    "              title='Your Plot Title')\n",
    "\n",
    "fig.show()"
   ]
  },
  {
   "cell_type": "code",
   "execution_count": 138,
   "metadata": {},
   "outputs": [],
   "source": [
    "unique_countries = grouped_data['Entity'].unique()\n",
    "country_to_label = {country: label for label, country in enumerate(unique_countries)}\n",
    "\n",
    "grouped_data['Entity_Label'] = grouped_data['Entity'].map(country_to_label)"
   ]
  },
  {
   "cell_type": "markdown",
   "metadata": {},
   "source": [
    "sns.displot(self_harm_filtered,x='Deaths - Self-harm - Sex: Both - Age: 15-49 years (Number)',kind='kde',hue='Entity')"
   ]
  },
  {
   "cell_type": "code",
   "execution_count": 140,
   "metadata": {},
   "outputs": [
    {
     "data": {
      "text/html": [
       "<div>\n",
       "<style scoped>\n",
       "    .dataframe tbody tr th:only-of-type {\n",
       "        vertical-align: middle;\n",
       "    }\n",
       "\n",
       "    .dataframe tbody tr th {\n",
       "        vertical-align: top;\n",
       "    }\n",
       "\n",
       "    .dataframe thead th {\n",
       "        text-align: right;\n",
       "    }\n",
       "</style>\n",
       "<table border=\"1\" class=\"dataframe\">\n",
       "  <thead>\n",
       "    <tr style=\"text-align: right;\">\n",
       "      <th></th>\n",
       "      <th>Patient Number</th>\n",
       "      <th>Sadness</th>\n",
       "      <th>Euphoric</th>\n",
       "      <th>Exhausted</th>\n",
       "      <th>Sleep dissorder</th>\n",
       "      <th>Mood Swing</th>\n",
       "      <th>Suicidal thoughts</th>\n",
       "      <th>Anorxia</th>\n",
       "      <th>Authority Respect</th>\n",
       "      <th>Try-Explanation</th>\n",
       "      <th>Aggressive Response</th>\n",
       "      <th>Ignore &amp; Move-On</th>\n",
       "      <th>Nervous Break-down</th>\n",
       "      <th>Admit Mistakes</th>\n",
       "      <th>Overthinking</th>\n",
       "      <th>Sexual Activity</th>\n",
       "      <th>Concentration</th>\n",
       "      <th>Optimisim</th>\n",
       "      <th>Expert Diagnose</th>\n",
       "    </tr>\n",
       "  </thead>\n",
       "  <tbody>\n",
       "    <tr>\n",
       "      <th>0</th>\n",
       "      <td>Patiant-01</td>\n",
       "      <td>Usually</td>\n",
       "      <td>Seldom</td>\n",
       "      <td>Sometimes</td>\n",
       "      <td>Sometimes</td>\n",
       "      <td>YES</td>\n",
       "      <td>YES</td>\n",
       "      <td>NO</td>\n",
       "      <td>NO</td>\n",
       "      <td>YES</td>\n",
       "      <td>NO</td>\n",
       "      <td>NO</td>\n",
       "      <td>YES</td>\n",
       "      <td>YES</td>\n",
       "      <td>YES</td>\n",
       "      <td>3 From 10</td>\n",
       "      <td>3 From 10</td>\n",
       "      <td>4 From 10</td>\n",
       "      <td>Bipolar Type-2</td>\n",
       "    </tr>\n",
       "    <tr>\n",
       "      <th>1</th>\n",
       "      <td>Patiant-02</td>\n",
       "      <td>Usually</td>\n",
       "      <td>Seldom</td>\n",
       "      <td>Usually</td>\n",
       "      <td>Sometimes</td>\n",
       "      <td>NO</td>\n",
       "      <td>YES</td>\n",
       "      <td>NO</td>\n",
       "      <td>NO</td>\n",
       "      <td>NO</td>\n",
       "      <td>NO</td>\n",
       "      <td>NO</td>\n",
       "      <td>NO</td>\n",
       "      <td>NO</td>\n",
       "      <td>NO</td>\n",
       "      <td>4 From 10</td>\n",
       "      <td>2 From 10</td>\n",
       "      <td>5 From 10</td>\n",
       "      <td>Depression</td>\n",
       "    </tr>\n",
       "    <tr>\n",
       "      <th>2</th>\n",
       "      <td>Patiant-03</td>\n",
       "      <td>Sometimes</td>\n",
       "      <td>Most-Often</td>\n",
       "      <td>Sometimes</td>\n",
       "      <td>Sometimes</td>\n",
       "      <td>YES</td>\n",
       "      <td>NO</td>\n",
       "      <td>NO</td>\n",
       "      <td>NO</td>\n",
       "      <td>YES</td>\n",
       "      <td>YES</td>\n",
       "      <td>NO</td>\n",
       "      <td>YES</td>\n",
       "      <td>YES</td>\n",
       "      <td>NO</td>\n",
       "      <td>6 From 10</td>\n",
       "      <td>5 From 10</td>\n",
       "      <td>7 From 10</td>\n",
       "      <td>Bipolar Type-1</td>\n",
       "    </tr>\n",
       "    <tr>\n",
       "      <th>3</th>\n",
       "      <td>Patiant-04</td>\n",
       "      <td>Usually</td>\n",
       "      <td>Seldom</td>\n",
       "      <td>Usually</td>\n",
       "      <td>Most-Often</td>\n",
       "      <td>YES</td>\n",
       "      <td>YES</td>\n",
       "      <td>YES</td>\n",
       "      <td>NO</td>\n",
       "      <td>YES</td>\n",
       "      <td>NO</td>\n",
       "      <td>NO</td>\n",
       "      <td>NO</td>\n",
       "      <td>NO</td>\n",
       "      <td>NO</td>\n",
       "      <td>3 From 10</td>\n",
       "      <td>2 From 10</td>\n",
       "      <td>2 From 10</td>\n",
       "      <td>Bipolar Type-2</td>\n",
       "    </tr>\n",
       "    <tr>\n",
       "      <th>4</th>\n",
       "      <td>Patiant-05</td>\n",
       "      <td>Usually</td>\n",
       "      <td>Usually</td>\n",
       "      <td>Sometimes</td>\n",
       "      <td>Sometimes</td>\n",
       "      <td>NO</td>\n",
       "      <td>NO</td>\n",
       "      <td>NO</td>\n",
       "      <td>NO</td>\n",
       "      <td>NO</td>\n",
       "      <td>NO</td>\n",
       "      <td>NO</td>\n",
       "      <td>YES</td>\n",
       "      <td>YES</td>\n",
       "      <td>YES</td>\n",
       "      <td>5 From 10</td>\n",
       "      <td>5 From 10</td>\n",
       "      <td>6 From 10</td>\n",
       "      <td>Normal</td>\n",
       "    </tr>\n",
       "  </tbody>\n",
       "</table>\n",
       "</div>"
      ],
      "text/plain": [
       "  Patient Number    Sadness    Euphoric  Exhausted Sleep dissorder Mood Swing  \\\n",
       "0     Patiant-01    Usually      Seldom  Sometimes       Sometimes        YES   \n",
       "1     Patiant-02    Usually      Seldom    Usually       Sometimes         NO   \n",
       "2     Patiant-03  Sometimes  Most-Often  Sometimes       Sometimes        YES   \n",
       "3     Patiant-04    Usually      Seldom    Usually      Most-Often        YES   \n",
       "4     Patiant-05    Usually     Usually  Sometimes       Sometimes         NO   \n",
       "\n",
       "  Suicidal thoughts Anorxia Authority Respect Try-Explanation  \\\n",
       "0              YES       NO                NO             YES   \n",
       "1               YES      NO                NO              NO   \n",
       "2                NO      NO                NO             YES   \n",
       "3               YES     YES                NO             YES   \n",
       "4                NO      NO                NO              NO   \n",
       "\n",
       "  Aggressive Response Ignore & Move-On Nervous Break-down Admit Mistakes  \\\n",
       "0                  NO               NO                YES            YES   \n",
       "1                  NO               NO                 NO             NO   \n",
       "2                 YES               NO                YES            YES   \n",
       "3                  NO               NO                 NO             NO   \n",
       "4                  NO               NO                YES            YES   \n",
       "\n",
       "  Overthinking Sexual Activity Concentration  Optimisim Expert Diagnose  \n",
       "0          YES       3 From 10     3 From 10  4 From 10  Bipolar Type-2  \n",
       "1           NO       4 From 10     2 From 10  5 From 10      Depression  \n",
       "2           NO       6 From 10     5 From 10  7 From 10  Bipolar Type-1  \n",
       "3           NO       3 From 10     2 From 10  2 From 10  Bipolar Type-2  \n",
       "4          YES       5 From 10     5 From 10  6 From 10          Normal  "
      ]
     },
     "execution_count": 140,
     "metadata": {},
     "output_type": "execute_result"
    }
   ],
   "source": [
    "md_data = pd.read_csv(r'./Mental_disorder/Dataset-Mental-Disorders.csv')\n",
    "md_data.head()"
   ]
  },
  {
   "cell_type": "code",
   "execution_count": 141,
   "metadata": {},
   "outputs": [],
   "source": [
    "md_data['Suicidal thoughts'].unique()\n",
    "\n",
    "for index, row in md_data.iterrows():\n",
    "    if row['Suicidal thoughts'] == 'YES ':\n",
    "        md_data.at[index, 'Suicidal thoughts'] = 'YES'"
   ]
  },
  {
   "cell_type": "code",
   "execution_count": 142,
   "metadata": {},
   "outputs": [
    {
     "data": {
      "application/vnd.plotly.v1+json": {
       "config": {
        "plotlyServerURL": "https://plot.ly"
       },
       "data": [
        {
         "hovertemplate": "Suicidal thoughts=YES<br>Optimisim=%{x}<br>Sleep dissorder=%{y}<br>Euphoric=%{z}<extra></extra>",
         "legendgroup": "YES",
         "marker": {
          "color": "#636efa",
          "symbol": "circle"
         },
         "mode": "markers",
         "name": "YES",
         "scene": "scene",
         "showlegend": true,
         "type": "scatter3d",
         "x": [
          "4 From 10",
          "5 From 10",
          "2 From 10",
          "5 From 10",
          "9 From 10",
          "3 From 10",
          "9 From 10",
          "4 From 10",
          "2 From 10",
          "6 From 10",
          "3 From 10",
          "5 From 10",
          "6 From 10",
          "3 From 10",
          "4 From 10",
          "4 From 10",
          "5 From 10",
          "4 From 10",
          "2 From 10",
          "2 From 10",
          "2 From 10",
          "8 From 10",
          "3 From 10",
          "6 From 10",
          "6 From 10",
          "2 From 10",
          "1 From 10",
          "3 From 10",
          "2 From 10",
          "4 From 10",
          "5 From 10",
          "2 From 10",
          "4 From 10",
          "6 From 10",
          "2 From 10",
          "5 From 10",
          "2 From 10",
          "3 From 10",
          "6 From 10",
          "1 From 10",
          "2 From 10",
          "3 From 10",
          "4 From 10",
          "4 From 10",
          "5 From 10",
          "2 From 10",
          "2 From 10",
          "3 From 10",
          "5 From 10",
          "4 From 10",
          "1 From 10",
          "5 From 10",
          "1 From 10",
          "2 From 10",
          "1 From 10",
          "3 From 10",
          "7 From 10"
         ],
         "y": [
          "Sometimes",
          "Sometimes",
          "Most-Often",
          "Most-Often",
          "Sometimes",
          "Usually",
          "Usually",
          "Usually",
          "Usually",
          "Sometimes",
          "Usually",
          "Seldom",
          "Sometimes",
          "Sometimes",
          "Seldom",
          "Most-Often",
          "Seldom",
          "Sometimes",
          "Sometimes",
          "Sometimes",
          "Most-Often",
          "Usually",
          "Most-Often",
          "Most-Often",
          "Usually",
          "Most-Often",
          "Most-Often",
          "Usually",
          "Most-Often",
          "Usually",
          "Usually",
          "Sometimes",
          "Usually",
          "Usually",
          "Sometimes",
          "Sometimes",
          "Seldom",
          "Sometimes",
          "Most-Often",
          "Usually",
          "Most-Often",
          "Usually",
          "Sometimes",
          "Sometimes",
          "Sometimes",
          "Usually",
          "Sometimes",
          "Most-Often",
          "Sometimes",
          "Usually",
          "Most-Often",
          "Usually",
          "Sometimes",
          "Most-Often",
          "Most-Often",
          "Sometimes",
          "Seldom"
         ],
         "z": [
          "Seldom",
          "Seldom",
          "Seldom",
          "Sometimes",
          "Usually",
          "Seldom",
          "Sometimes",
          "Sometimes",
          "Seldom",
          "Sometimes",
          "Seldom",
          "Sometimes",
          "Most-Often",
          "Sometimes",
          "Seldom",
          "Usually",
          "Seldom",
          "Seldom",
          "Sometimes",
          "Sometimes",
          "Seldom",
          "Most-Often",
          "Seldom",
          "Seldom",
          "Usually",
          "Seldom",
          "Seldom",
          "Sometimes",
          "Sometimes",
          "Seldom",
          "Sometimes",
          "Seldom",
          "Seldom",
          "Usually",
          "Seldom",
          "Seldom",
          "Sometimes",
          "Seldom",
          "Sometimes",
          "Sometimes",
          "Sometimes",
          "Seldom",
          "Sometimes",
          "Seldom",
          "Sometimes",
          "Sometimes",
          "Seldom",
          "Seldom",
          "Usually",
          "Sometimes",
          "Seldom",
          "Sometimes",
          "Sometimes",
          "Sometimes",
          "Seldom",
          "Seldom",
          "Sometimes"
         ]
        },
        {
         "hovertemplate": "Suicidal thoughts=NO<br>Optimisim=%{x}<br>Sleep dissorder=%{y}<br>Euphoric=%{z}<extra></extra>",
         "legendgroup": "NO",
         "marker": {
          "color": "#EF553B",
          "symbol": "circle"
         },
         "mode": "markers",
         "name": "NO",
         "scene": "scene",
         "showlegend": true,
         "type": "scatter3d",
         "x": [
          "7 From 10",
          "6 From 10",
          "5 From 10",
          "2 From 10",
          "8 From 10",
          "5 From 10",
          "6 From 10",
          "6 From 10",
          "3 From 10",
          "1 From 10",
          "6 From 10",
          "3 From 10",
          "6 From 10",
          "2 From 10",
          "3 From 10",
          "5 From 10",
          "2 From 10",
          "4 From 10",
          "6 From 10",
          "4 From 10",
          "3 From 10",
          "6 From 10",
          "4 From 10",
          "5 From 10",
          "3 From 10",
          "6 From 10",
          "3 From 10",
          "4 From 10",
          "3 From 10",
          "6 From 10",
          "2 From 10",
          "4 From 10",
          "4 From 10",
          "6 From 10",
          "6 From 10",
          "5 From 10",
          "7 From 10",
          "5 From 10",
          "4 From 10",
          "8 From 10",
          "4 From 10",
          "6 From 10",
          "5 From 10",
          "4 From 10",
          "6 From 10",
          "7 From 10",
          "8 From 10",
          "7 From 10",
          "5 From 10",
          "6 From 10",
          "7 From 10",
          "8 From 10",
          "6 From 10",
          "8 From 10",
          "5 From 10",
          "7 From 10",
          "3 From 10",
          "5 From 10",
          "5 From 10",
          "7 From 10",
          "8 From 10",
          "3 From 10",
          "8 From 10"
         ],
         "y": [
          "Sometimes",
          "Sometimes",
          "Sometimes",
          "Sometimes",
          "Seldom",
          "Sometimes",
          "Sometimes",
          "Sometimes",
          "Sometimes",
          "Most-Often",
          "Sometimes",
          "Usually",
          "Usually",
          "Sometimes",
          "Usually",
          "Seldom",
          "Sometimes",
          "Usually",
          "Seldom",
          "Sometimes",
          "Sometimes",
          "Seldom",
          "Sometimes",
          "Seldom",
          "Usually",
          "Seldom",
          "Sometimes",
          "Most-Often",
          "Usually",
          "Most-Often",
          "Most-Often",
          "Usually",
          "Seldom",
          "Usually",
          "Usually",
          "Most-Often",
          "Sometimes",
          "Seldom",
          "Seldom",
          "Seldom",
          "Seldom",
          "Seldom",
          "Usually",
          "Sometimes",
          "Most-Often",
          "Sometimes",
          "Sometimes",
          "Usually",
          "Sometimes",
          "Usually",
          "Usually",
          "Sometimes",
          "Seldom",
          "Usually",
          "Seldom",
          "Seldom",
          "Sometimes",
          "Usually",
          "Sometimes",
          "Usually",
          "Seldom",
          "Sometimes",
          "Usually"
         ],
         "z": [
          "Most-Often",
          "Usually",
          "Sometimes",
          "Seldom",
          "Sometimes",
          "Usually",
          "Sometimes",
          "Usually",
          "Sometimes",
          "Seldom",
          "Usually",
          "Sometimes",
          "Sometimes",
          "Sometimes",
          "Sometimes",
          "Sometimes",
          "Sometimes",
          "Seldom",
          "Seldom",
          "Seldom",
          "Seldom",
          "Sometimes",
          "Sometimes",
          "Seldom",
          "Seldom",
          "Sometimes",
          "Seldom",
          "Usually",
          "Seldom",
          "Most-Often",
          "Usually",
          "Sometimes",
          "Most-Often",
          "Seldom",
          "Usually",
          "Seldom",
          "Seldom",
          "Usually",
          "Sometimes",
          "Sometimes",
          "Seldom",
          "Sometimes",
          "Sometimes",
          "Seldom",
          "Usually",
          "Seldom",
          "Seldom",
          "Most-Often",
          "Usually",
          "Usually",
          "Seldom",
          "Usually",
          "Most-Often",
          "Sometimes",
          "Most-Often",
          "Usually",
          "Seldom",
          "Most-Often",
          "Usually",
          "Sometimes",
          "Sometimes",
          "Sometimes",
          "Usually"
         ]
        }
       ],
       "layout": {
        "legend": {
         "title": {
          "text": "Suicidal thoughts"
         },
         "tracegroupgap": 0
        },
        "margin": {
         "t": 60
        },
        "scene": {
         "domain": {
          "x": [
           0,
           1
          ],
          "y": [
           0,
           1
          ]
         },
         "xaxis": {
          "title": {
           "text": "Optimisim"
          }
         },
         "yaxis": {
          "title": {
           "text": "Sleep dissorder"
          }
         },
         "zaxis": {
          "title": {
           "text": "Euphoric"
          }
         }
        },
        "template": {
         "data": {
          "bar": [
           {
            "error_x": {
             "color": "#2a3f5f"
            },
            "error_y": {
             "color": "#2a3f5f"
            },
            "marker": {
             "line": {
              "color": "#E5ECF6",
              "width": 0.5
             },
             "pattern": {
              "fillmode": "overlay",
              "size": 10,
              "solidity": 0.2
             }
            },
            "type": "bar"
           }
          ],
          "barpolar": [
           {
            "marker": {
             "line": {
              "color": "#E5ECF6",
              "width": 0.5
             },
             "pattern": {
              "fillmode": "overlay",
              "size": 10,
              "solidity": 0.2
             }
            },
            "type": "barpolar"
           }
          ],
          "carpet": [
           {
            "aaxis": {
             "endlinecolor": "#2a3f5f",
             "gridcolor": "white",
             "linecolor": "white",
             "minorgridcolor": "white",
             "startlinecolor": "#2a3f5f"
            },
            "baxis": {
             "endlinecolor": "#2a3f5f",
             "gridcolor": "white",
             "linecolor": "white",
             "minorgridcolor": "white",
             "startlinecolor": "#2a3f5f"
            },
            "type": "carpet"
           }
          ],
          "choropleth": [
           {
            "colorbar": {
             "outlinewidth": 0,
             "ticks": ""
            },
            "type": "choropleth"
           }
          ],
          "contour": [
           {
            "colorbar": {
             "outlinewidth": 0,
             "ticks": ""
            },
            "colorscale": [
             [
              0,
              "#0d0887"
             ],
             [
              0.1111111111111111,
              "#46039f"
             ],
             [
              0.2222222222222222,
              "#7201a8"
             ],
             [
              0.3333333333333333,
              "#9c179e"
             ],
             [
              0.4444444444444444,
              "#bd3786"
             ],
             [
              0.5555555555555556,
              "#d8576b"
             ],
             [
              0.6666666666666666,
              "#ed7953"
             ],
             [
              0.7777777777777778,
              "#fb9f3a"
             ],
             [
              0.8888888888888888,
              "#fdca26"
             ],
             [
              1,
              "#f0f921"
             ]
            ],
            "type": "contour"
           }
          ],
          "contourcarpet": [
           {
            "colorbar": {
             "outlinewidth": 0,
             "ticks": ""
            },
            "type": "contourcarpet"
           }
          ],
          "heatmap": [
           {
            "colorbar": {
             "outlinewidth": 0,
             "ticks": ""
            },
            "colorscale": [
             [
              0,
              "#0d0887"
             ],
             [
              0.1111111111111111,
              "#46039f"
             ],
             [
              0.2222222222222222,
              "#7201a8"
             ],
             [
              0.3333333333333333,
              "#9c179e"
             ],
             [
              0.4444444444444444,
              "#bd3786"
             ],
             [
              0.5555555555555556,
              "#d8576b"
             ],
             [
              0.6666666666666666,
              "#ed7953"
             ],
             [
              0.7777777777777778,
              "#fb9f3a"
             ],
             [
              0.8888888888888888,
              "#fdca26"
             ],
             [
              1,
              "#f0f921"
             ]
            ],
            "type": "heatmap"
           }
          ],
          "heatmapgl": [
           {
            "colorbar": {
             "outlinewidth": 0,
             "ticks": ""
            },
            "colorscale": [
             [
              0,
              "#0d0887"
             ],
             [
              0.1111111111111111,
              "#46039f"
             ],
             [
              0.2222222222222222,
              "#7201a8"
             ],
             [
              0.3333333333333333,
              "#9c179e"
             ],
             [
              0.4444444444444444,
              "#bd3786"
             ],
             [
              0.5555555555555556,
              "#d8576b"
             ],
             [
              0.6666666666666666,
              "#ed7953"
             ],
             [
              0.7777777777777778,
              "#fb9f3a"
             ],
             [
              0.8888888888888888,
              "#fdca26"
             ],
             [
              1,
              "#f0f921"
             ]
            ],
            "type": "heatmapgl"
           }
          ],
          "histogram": [
           {
            "marker": {
             "pattern": {
              "fillmode": "overlay",
              "size": 10,
              "solidity": 0.2
             }
            },
            "type": "histogram"
           }
          ],
          "histogram2d": [
           {
            "colorbar": {
             "outlinewidth": 0,
             "ticks": ""
            },
            "colorscale": [
             [
              0,
              "#0d0887"
             ],
             [
              0.1111111111111111,
              "#46039f"
             ],
             [
              0.2222222222222222,
              "#7201a8"
             ],
             [
              0.3333333333333333,
              "#9c179e"
             ],
             [
              0.4444444444444444,
              "#bd3786"
             ],
             [
              0.5555555555555556,
              "#d8576b"
             ],
             [
              0.6666666666666666,
              "#ed7953"
             ],
             [
              0.7777777777777778,
              "#fb9f3a"
             ],
             [
              0.8888888888888888,
              "#fdca26"
             ],
             [
              1,
              "#f0f921"
             ]
            ],
            "type": "histogram2d"
           }
          ],
          "histogram2dcontour": [
           {
            "colorbar": {
             "outlinewidth": 0,
             "ticks": ""
            },
            "colorscale": [
             [
              0,
              "#0d0887"
             ],
             [
              0.1111111111111111,
              "#46039f"
             ],
             [
              0.2222222222222222,
              "#7201a8"
             ],
             [
              0.3333333333333333,
              "#9c179e"
             ],
             [
              0.4444444444444444,
              "#bd3786"
             ],
             [
              0.5555555555555556,
              "#d8576b"
             ],
             [
              0.6666666666666666,
              "#ed7953"
             ],
             [
              0.7777777777777778,
              "#fb9f3a"
             ],
             [
              0.8888888888888888,
              "#fdca26"
             ],
             [
              1,
              "#f0f921"
             ]
            ],
            "type": "histogram2dcontour"
           }
          ],
          "mesh3d": [
           {
            "colorbar": {
             "outlinewidth": 0,
             "ticks": ""
            },
            "type": "mesh3d"
           }
          ],
          "parcoords": [
           {
            "line": {
             "colorbar": {
              "outlinewidth": 0,
              "ticks": ""
             }
            },
            "type": "parcoords"
           }
          ],
          "pie": [
           {
            "automargin": true,
            "type": "pie"
           }
          ],
          "scatter": [
           {
            "fillpattern": {
             "fillmode": "overlay",
             "size": 10,
             "solidity": 0.2
            },
            "type": "scatter"
           }
          ],
          "scatter3d": [
           {
            "line": {
             "colorbar": {
              "outlinewidth": 0,
              "ticks": ""
             }
            },
            "marker": {
             "colorbar": {
              "outlinewidth": 0,
              "ticks": ""
             }
            },
            "type": "scatter3d"
           }
          ],
          "scattercarpet": [
           {
            "marker": {
             "colorbar": {
              "outlinewidth": 0,
              "ticks": ""
             }
            },
            "type": "scattercarpet"
           }
          ],
          "scattergeo": [
           {
            "marker": {
             "colorbar": {
              "outlinewidth": 0,
              "ticks": ""
             }
            },
            "type": "scattergeo"
           }
          ],
          "scattergl": [
           {
            "marker": {
             "colorbar": {
              "outlinewidth": 0,
              "ticks": ""
             }
            },
            "type": "scattergl"
           }
          ],
          "scattermapbox": [
           {
            "marker": {
             "colorbar": {
              "outlinewidth": 0,
              "ticks": ""
             }
            },
            "type": "scattermapbox"
           }
          ],
          "scatterpolar": [
           {
            "marker": {
             "colorbar": {
              "outlinewidth": 0,
              "ticks": ""
             }
            },
            "type": "scatterpolar"
           }
          ],
          "scatterpolargl": [
           {
            "marker": {
             "colorbar": {
              "outlinewidth": 0,
              "ticks": ""
             }
            },
            "type": "scatterpolargl"
           }
          ],
          "scatterternary": [
           {
            "marker": {
             "colorbar": {
              "outlinewidth": 0,
              "ticks": ""
             }
            },
            "type": "scatterternary"
           }
          ],
          "surface": [
           {
            "colorbar": {
             "outlinewidth": 0,
             "ticks": ""
            },
            "colorscale": [
             [
              0,
              "#0d0887"
             ],
             [
              0.1111111111111111,
              "#46039f"
             ],
             [
              0.2222222222222222,
              "#7201a8"
             ],
             [
              0.3333333333333333,
              "#9c179e"
             ],
             [
              0.4444444444444444,
              "#bd3786"
             ],
             [
              0.5555555555555556,
              "#d8576b"
             ],
             [
              0.6666666666666666,
              "#ed7953"
             ],
             [
              0.7777777777777778,
              "#fb9f3a"
             ],
             [
              0.8888888888888888,
              "#fdca26"
             ],
             [
              1,
              "#f0f921"
             ]
            ],
            "type": "surface"
           }
          ],
          "table": [
           {
            "cells": {
             "fill": {
              "color": "#EBF0F8"
             },
             "line": {
              "color": "white"
             }
            },
            "header": {
             "fill": {
              "color": "#C8D4E3"
             },
             "line": {
              "color": "white"
             }
            },
            "type": "table"
           }
          ]
         },
         "layout": {
          "annotationdefaults": {
           "arrowcolor": "#2a3f5f",
           "arrowhead": 0,
           "arrowwidth": 1
          },
          "autotypenumbers": "strict",
          "coloraxis": {
           "colorbar": {
            "outlinewidth": 0,
            "ticks": ""
           }
          },
          "colorscale": {
           "diverging": [
            [
             0,
             "#8e0152"
            ],
            [
             0.1,
             "#c51b7d"
            ],
            [
             0.2,
             "#de77ae"
            ],
            [
             0.3,
             "#f1b6da"
            ],
            [
             0.4,
             "#fde0ef"
            ],
            [
             0.5,
             "#f7f7f7"
            ],
            [
             0.6,
             "#e6f5d0"
            ],
            [
             0.7,
             "#b8e186"
            ],
            [
             0.8,
             "#7fbc41"
            ],
            [
             0.9,
             "#4d9221"
            ],
            [
             1,
             "#276419"
            ]
           ],
           "sequential": [
            [
             0,
             "#0d0887"
            ],
            [
             0.1111111111111111,
             "#46039f"
            ],
            [
             0.2222222222222222,
             "#7201a8"
            ],
            [
             0.3333333333333333,
             "#9c179e"
            ],
            [
             0.4444444444444444,
             "#bd3786"
            ],
            [
             0.5555555555555556,
             "#d8576b"
            ],
            [
             0.6666666666666666,
             "#ed7953"
            ],
            [
             0.7777777777777778,
             "#fb9f3a"
            ],
            [
             0.8888888888888888,
             "#fdca26"
            ],
            [
             1,
             "#f0f921"
            ]
           ],
           "sequentialminus": [
            [
             0,
             "#0d0887"
            ],
            [
             0.1111111111111111,
             "#46039f"
            ],
            [
             0.2222222222222222,
             "#7201a8"
            ],
            [
             0.3333333333333333,
             "#9c179e"
            ],
            [
             0.4444444444444444,
             "#bd3786"
            ],
            [
             0.5555555555555556,
             "#d8576b"
            ],
            [
             0.6666666666666666,
             "#ed7953"
            ],
            [
             0.7777777777777778,
             "#fb9f3a"
            ],
            [
             0.8888888888888888,
             "#fdca26"
            ],
            [
             1,
             "#f0f921"
            ]
           ]
          },
          "colorway": [
           "#636efa",
           "#EF553B",
           "#00cc96",
           "#ab63fa",
           "#FFA15A",
           "#19d3f3",
           "#FF6692",
           "#B6E880",
           "#FF97FF",
           "#FECB52"
          ],
          "font": {
           "color": "#2a3f5f"
          },
          "geo": {
           "bgcolor": "white",
           "lakecolor": "white",
           "landcolor": "#E5ECF6",
           "showlakes": true,
           "showland": true,
           "subunitcolor": "white"
          },
          "hoverlabel": {
           "align": "left"
          },
          "hovermode": "closest",
          "mapbox": {
           "style": "light"
          },
          "paper_bgcolor": "white",
          "plot_bgcolor": "#E5ECF6",
          "polar": {
           "angularaxis": {
            "gridcolor": "white",
            "linecolor": "white",
            "ticks": ""
           },
           "bgcolor": "#E5ECF6",
           "radialaxis": {
            "gridcolor": "white",
            "linecolor": "white",
            "ticks": ""
           }
          },
          "scene": {
           "xaxis": {
            "backgroundcolor": "#E5ECF6",
            "gridcolor": "white",
            "gridwidth": 2,
            "linecolor": "white",
            "showbackground": true,
            "ticks": "",
            "zerolinecolor": "white"
           },
           "yaxis": {
            "backgroundcolor": "#E5ECF6",
            "gridcolor": "white",
            "gridwidth": 2,
            "linecolor": "white",
            "showbackground": true,
            "ticks": "",
            "zerolinecolor": "white"
           },
           "zaxis": {
            "backgroundcolor": "#E5ECF6",
            "gridcolor": "white",
            "gridwidth": 2,
            "linecolor": "white",
            "showbackground": true,
            "ticks": "",
            "zerolinecolor": "white"
           }
          },
          "shapedefaults": {
           "line": {
            "color": "#2a3f5f"
           }
          },
          "ternary": {
           "aaxis": {
            "gridcolor": "white",
            "linecolor": "white",
            "ticks": ""
           },
           "baxis": {
            "gridcolor": "white",
            "linecolor": "white",
            "ticks": ""
           },
           "bgcolor": "#E5ECF6",
           "caxis": {
            "gridcolor": "white",
            "linecolor": "white",
            "ticks": ""
           }
          },
          "title": {
           "x": 0.05
          },
          "xaxis": {
           "automargin": true,
           "gridcolor": "white",
           "linecolor": "white",
           "ticks": "",
           "title": {
            "standoff": 15
           },
           "zerolinecolor": "white",
           "zerolinewidth": 2
          },
          "yaxis": {
           "automargin": true,
           "gridcolor": "white",
           "linecolor": "white",
           "ticks": "",
           "title": {
            "standoff": 15
           },
           "zerolinecolor": "white",
           "zerolinewidth": 2
          }
         }
        }
       }
      }
     },
     "metadata": {},
     "output_type": "display_data"
    }
   ],
   "source": [
    "import plotly.express as px\n",
    "fig = px.scatter_3d(md_data, x='Optimisim', y='Sleep dissorder', z='Euphoric',\n",
    "                    color='Suicidal thoughts')\n",
    "fig.show()"
   ]
  },
  {
   "cell_type": "code",
   "execution_count": 143,
   "metadata": {},
   "outputs": [],
   "source": [
    "from sklearn.preprocessing import LabelEncoder\n",
    "\n",
    "le = LabelEncoder()"
   ]
  },
  {
   "cell_type": "code",
   "execution_count": 144,
   "metadata": {},
   "outputs": [
    {
     "data": {
      "text/plain": [
       "Index(['Patient Number', 'Sadness', 'Euphoric', 'Exhausted', 'Sleep dissorder',\n",
       "       'Mood Swing', 'Suicidal thoughts', 'Anorxia', 'Authority Respect',\n",
       "       'Try-Explanation', 'Aggressive Response', 'Ignore & Move-On',\n",
       "       'Nervous Break-down', 'Admit Mistakes', 'Overthinking',\n",
       "       'Sexual Activity', 'Concentration', 'Optimisim', 'Expert Diagnose'],\n",
       "      dtype='object')"
      ]
     },
     "execution_count": 144,
     "metadata": {},
     "output_type": "execute_result"
    }
   ],
   "source": [
    "md_data.columns"
   ]
  },
  {
   "cell_type": "code",
   "execution_count": 145,
   "metadata": {},
   "outputs": [],
   "source": [
    "labeled_data = pd.DataFrame()\n",
    "\n",
    "for column in md_data.columns:\n",
    "    labeled_data[column] = LabelEncoder().fit_transform(md_data[column])"
   ]
  },
  {
   "cell_type": "code",
   "execution_count": 146,
   "metadata": {},
   "outputs": [
    {
     "data": {
      "text/html": [
       "<div>\n",
       "<style scoped>\n",
       "    .dataframe tbody tr th:only-of-type {\n",
       "        vertical-align: middle;\n",
       "    }\n",
       "\n",
       "    .dataframe tbody tr th {\n",
       "        vertical-align: top;\n",
       "    }\n",
       "\n",
       "    .dataframe thead th {\n",
       "        text-align: right;\n",
       "    }\n",
       "</style>\n",
       "<table border=\"1\" class=\"dataframe\">\n",
       "  <thead>\n",
       "    <tr style=\"text-align: right;\">\n",
       "      <th></th>\n",
       "      <th>Patient Number</th>\n",
       "      <th>Sadness</th>\n",
       "      <th>Euphoric</th>\n",
       "      <th>Exhausted</th>\n",
       "      <th>Sleep dissorder</th>\n",
       "      <th>Mood Swing</th>\n",
       "      <th>Suicidal thoughts</th>\n",
       "      <th>Anorxia</th>\n",
       "      <th>Authority Respect</th>\n",
       "      <th>Try-Explanation</th>\n",
       "      <th>Aggressive Response</th>\n",
       "      <th>Ignore &amp; Move-On</th>\n",
       "      <th>Nervous Break-down</th>\n",
       "      <th>Admit Mistakes</th>\n",
       "      <th>Overthinking</th>\n",
       "      <th>Sexual Activity</th>\n",
       "      <th>Concentration</th>\n",
       "      <th>Optimisim</th>\n",
       "      <th>Expert Diagnose</th>\n",
       "    </tr>\n",
       "  </thead>\n",
       "  <tbody>\n",
       "    <tr>\n",
       "      <th>0</th>\n",
       "      <td>0</td>\n",
       "      <td>3</td>\n",
       "      <td>1</td>\n",
       "      <td>2</td>\n",
       "      <td>2</td>\n",
       "      <td>1</td>\n",
       "      <td>1</td>\n",
       "      <td>0</td>\n",
       "      <td>0</td>\n",
       "      <td>1</td>\n",
       "      <td>0</td>\n",
       "      <td>0</td>\n",
       "      <td>1</td>\n",
       "      <td>1</td>\n",
       "      <td>1</td>\n",
       "      <td>2</td>\n",
       "      <td>2</td>\n",
       "      <td>3</td>\n",
       "      <td>1</td>\n",
       "    </tr>\n",
       "    <tr>\n",
       "      <th>1</th>\n",
       "      <td>1</td>\n",
       "      <td>3</td>\n",
       "      <td>1</td>\n",
       "      <td>3</td>\n",
       "      <td>2</td>\n",
       "      <td>0</td>\n",
       "      <td>1</td>\n",
       "      <td>0</td>\n",
       "      <td>0</td>\n",
       "      <td>0</td>\n",
       "      <td>0</td>\n",
       "      <td>0</td>\n",
       "      <td>0</td>\n",
       "      <td>0</td>\n",
       "      <td>0</td>\n",
       "      <td>3</td>\n",
       "      <td>1</td>\n",
       "      <td>4</td>\n",
       "      <td>2</td>\n",
       "    </tr>\n",
       "    <tr>\n",
       "      <th>2</th>\n",
       "      <td>2</td>\n",
       "      <td>2</td>\n",
       "      <td>0</td>\n",
       "      <td>2</td>\n",
       "      <td>2</td>\n",
       "      <td>1</td>\n",
       "      <td>0</td>\n",
       "      <td>0</td>\n",
       "      <td>0</td>\n",
       "      <td>1</td>\n",
       "      <td>1</td>\n",
       "      <td>0</td>\n",
       "      <td>1</td>\n",
       "      <td>1</td>\n",
       "      <td>0</td>\n",
       "      <td>5</td>\n",
       "      <td>4</td>\n",
       "      <td>6</td>\n",
       "      <td>0</td>\n",
       "    </tr>\n",
       "    <tr>\n",
       "      <th>3</th>\n",
       "      <td>3</td>\n",
       "      <td>3</td>\n",
       "      <td>1</td>\n",
       "      <td>3</td>\n",
       "      <td>0</td>\n",
       "      <td>1</td>\n",
       "      <td>1</td>\n",
       "      <td>1</td>\n",
       "      <td>0</td>\n",
       "      <td>1</td>\n",
       "      <td>0</td>\n",
       "      <td>0</td>\n",
       "      <td>0</td>\n",
       "      <td>0</td>\n",
       "      <td>0</td>\n",
       "      <td>2</td>\n",
       "      <td>1</td>\n",
       "      <td>1</td>\n",
       "      <td>1</td>\n",
       "    </tr>\n",
       "    <tr>\n",
       "      <th>4</th>\n",
       "      <td>4</td>\n",
       "      <td>3</td>\n",
       "      <td>3</td>\n",
       "      <td>2</td>\n",
       "      <td>2</td>\n",
       "      <td>0</td>\n",
       "      <td>0</td>\n",
       "      <td>0</td>\n",
       "      <td>0</td>\n",
       "      <td>0</td>\n",
       "      <td>0</td>\n",
       "      <td>0</td>\n",
       "      <td>1</td>\n",
       "      <td>1</td>\n",
       "      <td>1</td>\n",
       "      <td>4</td>\n",
       "      <td>4</td>\n",
       "      <td>5</td>\n",
       "      <td>3</td>\n",
       "    </tr>\n",
       "    <tr>\n",
       "      <th>...</th>\n",
       "      <td>...</td>\n",
       "      <td>...</td>\n",
       "      <td>...</td>\n",
       "      <td>...</td>\n",
       "      <td>...</td>\n",
       "      <td>...</td>\n",
       "      <td>...</td>\n",
       "      <td>...</td>\n",
       "      <td>...</td>\n",
       "      <td>...</td>\n",
       "      <td>...</td>\n",
       "      <td>...</td>\n",
       "      <td>...</td>\n",
       "      <td>...</td>\n",
       "      <td>...</td>\n",
       "      <td>...</td>\n",
       "      <td>...</td>\n",
       "      <td>...</td>\n",
       "      <td>...</td>\n",
       "    </tr>\n",
       "    <tr>\n",
       "      <th>115</th>\n",
       "      <td>27</td>\n",
       "      <td>0</td>\n",
       "      <td>1</td>\n",
       "      <td>3</td>\n",
       "      <td>2</td>\n",
       "      <td>0</td>\n",
       "      <td>1</td>\n",
       "      <td>0</td>\n",
       "      <td>0</td>\n",
       "      <td>1</td>\n",
       "      <td>0</td>\n",
       "      <td>1</td>\n",
       "      <td>0</td>\n",
       "      <td>0</td>\n",
       "      <td>1</td>\n",
       "      <td>1</td>\n",
       "      <td>4</td>\n",
       "      <td>2</td>\n",
       "      <td>2</td>\n",
       "    </tr>\n",
       "    <tr>\n",
       "      <th>116</th>\n",
       "      <td>28</td>\n",
       "      <td>2</td>\n",
       "      <td>2</td>\n",
       "      <td>2</td>\n",
       "      <td>1</td>\n",
       "      <td>1</td>\n",
       "      <td>0</td>\n",
       "      <td>0</td>\n",
       "      <td>0</td>\n",
       "      <td>0</td>\n",
       "      <td>1</td>\n",
       "      <td>0</td>\n",
       "      <td>0</td>\n",
       "      <td>0</td>\n",
       "      <td>1</td>\n",
       "      <td>5</td>\n",
       "      <td>6</td>\n",
       "      <td>7</td>\n",
       "      <td>0</td>\n",
       "    </tr>\n",
       "    <tr>\n",
       "      <th>117</th>\n",
       "      <td>29</td>\n",
       "      <td>3</td>\n",
       "      <td>2</td>\n",
       "      <td>3</td>\n",
       "      <td>2</td>\n",
       "      <td>1</td>\n",
       "      <td>0</td>\n",
       "      <td>1</td>\n",
       "      <td>1</td>\n",
       "      <td>0</td>\n",
       "      <td>0</td>\n",
       "      <td>0</td>\n",
       "      <td>1</td>\n",
       "      <td>0</td>\n",
       "      <td>1</td>\n",
       "      <td>0</td>\n",
       "      <td>4</td>\n",
       "      <td>2</td>\n",
       "      <td>1</td>\n",
       "    </tr>\n",
       "    <tr>\n",
       "      <th>118</th>\n",
       "      <td>30</td>\n",
       "      <td>3</td>\n",
       "      <td>2</td>\n",
       "      <td>1</td>\n",
       "      <td>1</td>\n",
       "      <td>0</td>\n",
       "      <td>1</td>\n",
       "      <td>1</td>\n",
       "      <td>0</td>\n",
       "      <td>1</td>\n",
       "      <td>1</td>\n",
       "      <td>1</td>\n",
       "      <td>0</td>\n",
       "      <td>1</td>\n",
       "      <td>1</td>\n",
       "      <td>6</td>\n",
       "      <td>6</td>\n",
       "      <td>6</td>\n",
       "      <td>2</td>\n",
       "    </tr>\n",
       "    <tr>\n",
       "      <th>119</th>\n",
       "      <td>32</td>\n",
       "      <td>2</td>\n",
       "      <td>3</td>\n",
       "      <td>1</td>\n",
       "      <td>3</td>\n",
       "      <td>0</td>\n",
       "      <td>0</td>\n",
       "      <td>0</td>\n",
       "      <td>1</td>\n",
       "      <td>1</td>\n",
       "      <td>0</td>\n",
       "      <td>1</td>\n",
       "      <td>1</td>\n",
       "      <td>0</td>\n",
       "      <td>0</td>\n",
       "      <td>6</td>\n",
       "      <td>2</td>\n",
       "      <td>7</td>\n",
       "      <td>3</td>\n",
       "    </tr>\n",
       "  </tbody>\n",
       "</table>\n",
       "<p>120 rows × 19 columns</p>\n",
       "</div>"
      ],
      "text/plain": [
       "     Patient Number  Sadness  Euphoric  Exhausted  Sleep dissorder  \\\n",
       "0                 0        3         1          2                2   \n",
       "1                 1        3         1          3                2   \n",
       "2                 2        2         0          2                2   \n",
       "3                 3        3         1          3                0   \n",
       "4                 4        3         3          2                2   \n",
       "..              ...      ...       ...        ...              ...   \n",
       "115              27        0         1          3                2   \n",
       "116              28        2         2          2                1   \n",
       "117              29        3         2          3                2   \n",
       "118              30        3         2          1                1   \n",
       "119              32        2         3          1                3   \n",
       "\n",
       "     Mood Swing  Suicidal thoughts  Anorxia  Authority Respect  \\\n",
       "0             1                  1        0                  0   \n",
       "1             0                  1        0                  0   \n",
       "2             1                  0        0                  0   \n",
       "3             1                  1        1                  0   \n",
       "4             0                  0        0                  0   \n",
       "..          ...                ...      ...                ...   \n",
       "115           0                  1        0                  0   \n",
       "116           1                  0        0                  0   \n",
       "117           1                  0        1                  1   \n",
       "118           0                  1        1                  0   \n",
       "119           0                  0        0                  1   \n",
       "\n",
       "     Try-Explanation  Aggressive Response  Ignore & Move-On  \\\n",
       "0                  1                    0                 0   \n",
       "1                  0                    0                 0   \n",
       "2                  1                    1                 0   \n",
       "3                  1                    0                 0   \n",
       "4                  0                    0                 0   \n",
       "..               ...                  ...               ...   \n",
       "115                1                    0                 1   \n",
       "116                0                    1                 0   \n",
       "117                0                    0                 0   \n",
       "118                1                    1                 1   \n",
       "119                1                    0                 1   \n",
       "\n",
       "     Nervous Break-down  Admit Mistakes  Overthinking  Sexual Activity  \\\n",
       "0                     1               1             1                2   \n",
       "1                     0               0             0                3   \n",
       "2                     1               1             0                5   \n",
       "3                     0               0             0                2   \n",
       "4                     1               1             1                4   \n",
       "..                  ...             ...           ...              ...   \n",
       "115                   0               0             1                1   \n",
       "116                   0               0             1                5   \n",
       "117                   1               0             1                0   \n",
       "118                   0               1             1                6   \n",
       "119                   1               0             0                6   \n",
       "\n",
       "     Concentration  Optimisim  Expert Diagnose  \n",
       "0                2          3                1  \n",
       "1                1          4                2  \n",
       "2                4          6                0  \n",
       "3                1          1                1  \n",
       "4                4          5                3  \n",
       "..             ...        ...              ...  \n",
       "115              4          2                2  \n",
       "116              6          7                0  \n",
       "117              4          2                1  \n",
       "118              6          6                2  \n",
       "119              2          7                3  \n",
       "\n",
       "[120 rows x 19 columns]"
      ]
     },
     "execution_count": 146,
     "metadata": {},
     "output_type": "execute_result"
    }
   ],
   "source": [
    "labeled_data"
   ]
  },
  {
   "cell_type": "code",
   "execution_count": 147,
   "metadata": {},
   "outputs": [],
   "source": [
    "X = labeled_data.drop(['Patient Number', 'Expert Diagnose', 'Suicidal thoughts'], axis=1)\n",
    "y = labeled_data['Suicidal thoughts']"
   ]
  },
  {
   "cell_type": "code",
   "execution_count": 148,
   "metadata": {},
   "outputs": [],
   "source": [
    "from sklearn import tree\n",
    "\n",
    "model = tree.DecisionTreeClassifier()\n",
    "model = model.fit(X,y)"
   ]
  },
  {
   "cell_type": "code",
   "execution_count": 149,
   "metadata": {},
   "outputs": [
    {
     "name": "stdout",
     "output_type": "stream",
     "text": [
      "The feature importance for Sadness is: 0.096\n",
      "The feature importance for Euphoric is: 0.052\n",
      "The feature importance for Exhausted is: 0.075\n",
      "The feature importance for Sleep dissorder is: 0.065\n",
      "The feature importance for Mood Swing is: 0.056\n",
      "The feature importance for Anorxia is: 0.034\n",
      "The feature importance for Authority Respect is: 0.026\n",
      "The feature importance for Try-Explanation is: 0.027\n",
      "The feature importance for Aggressive Response is: 0.056\n",
      "The feature importance for Ignore & Move-On is: 0.022\n",
      "The feature importance for Nervous Break-down is: 0.116\n",
      "The feature importance for Admit Mistakes is: 0.017\n",
      "The feature importance for Overthinking is: 0.000\n",
      "The feature importance for Sexual Activity is: 0.099\n",
      "The feature importance for Concentration is: 0.077\n",
      "The feature importance for Optimisim is: 0.183\n"
     ]
    }
   ],
   "source": [
    "for i, column in enumerate(X):\n",
    "    print('The feature importance for {} is: {:.3f}'.format(column, model.feature_importances_[i]))"
   ]
  },
  {
   "cell_type": "code",
   "execution_count": 150,
   "metadata": {},
   "outputs": [],
   "source": [
    "selected_features = ['Sadness', 'Euphoric', 'Exhausted', 'Sexual Activity', 'Aggressive Response',\n",
    "                     'Nervous Break-down', 'Concentration', 'Optimisim']"
   ]
  },
  {
   "cell_type": "code",
   "execution_count": 151,
   "metadata": {},
   "outputs": [],
   "source": [
    "X = labeled_data[selected_features].values\n",
    "y = labeled_data['Suicidal thoughts'].values"
   ]
  },
  {
   "cell_type": "code",
   "execution_count": 152,
   "metadata": {},
   "outputs": [],
   "source": [
    "from sklearn.model_selection import train_test_split\n",
    "\n",
    "X_train, X_test, y_train, y_test = train_test_split(X, y, test_size=0.33, random_state=42)"
   ]
  },
  {
   "cell_type": "code",
   "execution_count": 153,
   "metadata": {},
   "outputs": [],
   "source": [
    "model = tree.DecisionTreeClassifier()\n",
    "model = model.fit(X_train,y_train)"
   ]
  },
  {
   "cell_type": "code",
   "execution_count": 154,
   "metadata": {},
   "outputs": [
    {
     "data": {
      "image/png": "[encoded data removed]",
      "text/plain": [
       "<Figure size 800x500 with 1 Axes>"
      ]
     },
     "metadata": {},
     "output_type": "display_data"
    }
   ],
   "source": [
    "from sklearn.metrics import confusion_matrix\n",
    "\n",
    "y_pred = model.predict(X_test)\n",
    "cm = confusion_matrix(y_test, y_pred)\n",
    "plt.figure(figsize=(8,5))\n",
    "sns.heatmap(cm, annot=True, fmt=\"d\", cmap=\"Blues\", cbar=False)\n",
    "plt.xlabel('Predicted')\n",
    "plt.ylabel('True')\n",
    "plt.show()"
   ]
  },
  {
   "cell_type": "code",
   "execution_count": 155,
   "metadata": {},
   "outputs": [
    {
     "data": {
      "text/plain": [
       "0.6"
      ]
     },
     "execution_count": 155,
     "metadata": {},
     "output_type": "execute_result"
    }
   ],
   "source": [
    "from sklearn.metrics import accuracy_score\n",
    "\n",
    "accuracy = accuracy_score(y_test,y_pred)\n",
    "accuracy"
   ]
  },
  {
   "cell_type": "code",
   "execution_count": 176,
   "metadata": {},
   "outputs": [],
   "source": [
    "from sklearn.ensemble import RandomForestClassifier\n",
    "\n",
    "rfc = RandomForestClassifier(n_estimators=20)\n",
    "rfc = rfc.fit(X_train,y_train)"
   ]
  },
  {
   "cell_type": "code",
   "execution_count": 177,
   "metadata": {},
   "outputs": [
    {
     "data": {
      "image/png": "[encoded data removed]",
      "text/plain": [
       "<Figure size 800x500 with 1 Axes>"
      ]
     },
     "metadata": {},
     "output_type": "display_data"
    }
   ],
   "source": [
    "y_pred = rfc.predict(X_test)\n",
    "cm = confusion_matrix(y_test, y_pred)\n",
    "plt.figure(figsize=(8,5))\n",
    "sns.heatmap(cm, annot=True, fmt=\"d\", cmap=\"Blues\", cbar=False)\n",
    "plt.xlabel('Predicted')\n",
    "plt.ylabel('True')\n",
    "plt.show()"
   ]
  },
  {
   "cell_type": "code",
   "execution_count": 178,
   "metadata": {},
   "outputs": [
    {
     "data": {
      "text/plain": [
       "0.675"
      ]
     },
     "execution_count": 178,
     "metadata": {},
     "output_type": "execute_result"
    }
   ],
   "source": [
    "accuracy = accuracy_score(y_test,y_pred)\n",
    "accuracy"
   ]
  }
 ],
 "metadata": {
  "kernelspec": {
   "display_name": "Python 3",
   "language": "python",
   "name": "python3"
  },
  "language_info": {
   "codemirror_mode": {
    "name": "ipython",
    "version": 3
   },
   "file_extension": ".py",
   "mimetype": "text/x-python",
   "name": "python",
   "nbconvert_exporter": "python",
   "pygments_lexer": "ipython3",
   "version": "3.11.4"
  }
 },
 "nbformat": 4,
 "nbformat_minor": 2
}
